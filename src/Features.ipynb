{
 "cells": [
  {
   "cell_type": "code",
   "execution_count": 298,
   "metadata": {},
   "outputs": [],
   "source": [
    "import pandas as pd\n",
    "import numpy as np\n",
    "import os\n",
    "import pyspark\n",
    "import pyspark.sql.functions as F"
   ]
  },
  {
   "cell_type": "markdown",
   "metadata": {},
   "source": [
    "# Average ratings\n",
    "###  Average rating per actors\n",
    "Calcul des statistiques de rating par acteurs/actrices\n",
    "<br>Un film pouvant présenter un ou plusieurs acteurs/actrices, une seconde aggrégation des statistiques est faite au niveau film"
   ]
  },
  {
   "cell_type": "code",
   "execution_count": 299,
   "metadata": {},
   "outputs": [],
   "source": [
    "title_ratings = pd.read_parquet(\"../data/edited_data/datamart.db/title_ratings\")\n",
    "title_basics = pd.read_parquet(\"../data/edited_data/datamart.db/title_basics\")\n",
    "name_basics = pd.read_parquet(\"../data/edited_data/datamart.db/name_basics\")\n",
    "title_principals = pd.read_parquet(\"../data/edited_data/datamart.db/title_principals\")"
   ]
  },
  {
   "cell_type": "code",
   "execution_count": 300,
   "metadata": {},
   "outputs": [],
   "source": [
    "titles_actors = (\n",
    "    title_principals[title_principals.category.isin([\"actor\", \"actress\"])][[\"tconst\", \"nconst\"]]\n",
    "    .merge(title_basics[[\"tconst\", \"startYear\", \"primaryTitle\"]], on=\"tconst\")\n",
    "    .merge(name_basics[[\"nconst\", \"primaryName\"]], how=\"left\", on=\"nconst\")\n",
    ")"
   ]
  },
  {
   "cell_type": "code",
   "execution_count": 301,
   "metadata": {},
   "outputs": [
    {
     "data": {
      "text/plain": [
       "(3663988, 5)"
      ]
     },
     "execution_count": 301,
     "metadata": {},
     "output_type": "execute_result"
    }
   ],
   "source": [
    "titles_actors.shape"
   ]
  },
  {
   "cell_type": "code",
   "execution_count": 302,
   "metadata": {},
   "outputs": [
    {
     "data": {
      "text/html": [
       "<div>\n",
       "<style scoped>\n",
       "    .dataframe tbody tr th:only-of-type {\n",
       "        vertical-align: middle;\n",
       "    }\n",
       "\n",
       "    .dataframe tbody tr th {\n",
       "        vertical-align: top;\n",
       "    }\n",
       "\n",
       "    .dataframe thead th {\n",
       "        text-align: right;\n",
       "    }\n",
       "</style>\n",
       "<table border=\"1\" class=\"dataframe\">\n",
       "  <thead>\n",
       "    <tr style=\"text-align: right;\">\n",
       "      <th></th>\n",
       "      <th>tconst</th>\n",
       "      <th>nconst</th>\n",
       "      <th>startYear</th>\n",
       "      <th>primaryTitle</th>\n",
       "      <th>primaryName</th>\n",
       "    </tr>\n",
       "  </thead>\n",
       "  <tbody>\n",
       "    <tr>\n",
       "      <td>2623067</td>\n",
       "      <td>tt4154796</td>\n",
       "      <td>nm0000375</td>\n",
       "      <td>2019.0</td>\n",
       "      <td>Avengers: Endgame</td>\n",
       "      <td>Robert Downey Jr.</td>\n",
       "    </tr>\n",
       "    <tr>\n",
       "      <td>2623068</td>\n",
       "      <td>tt4154796</td>\n",
       "      <td>nm0262635</td>\n",
       "      <td>2019.0</td>\n",
       "      <td>Avengers: Endgame</td>\n",
       "      <td>Chris Evans</td>\n",
       "    </tr>\n",
       "    <tr>\n",
       "      <td>2623069</td>\n",
       "      <td>tt4154796</td>\n",
       "      <td>nm0749263</td>\n",
       "      <td>2019.0</td>\n",
       "      <td>Avengers: Endgame</td>\n",
       "      <td>Mark Ruffalo</td>\n",
       "    </tr>\n",
       "    <tr>\n",
       "      <td>2623070</td>\n",
       "      <td>tt4154796</td>\n",
       "      <td>nm1165110</td>\n",
       "      <td>2019.0</td>\n",
       "      <td>Avengers: Endgame</td>\n",
       "      <td>Chris Hemsworth</td>\n",
       "    </tr>\n",
       "  </tbody>\n",
       "</table>\n",
       "</div>"
      ],
      "text/plain": [
       "            tconst     nconst  startYear       primaryTitle        primaryName\n",
       "2623067  tt4154796  nm0000375     2019.0  Avengers: Endgame  Robert Downey Jr.\n",
       "2623068  tt4154796  nm0262635     2019.0  Avengers: Endgame        Chris Evans\n",
       "2623069  tt4154796  nm0749263     2019.0  Avengers: Endgame       Mark Ruffalo\n",
       "2623070  tt4154796  nm1165110     2019.0  Avengers: Endgame    Chris Hemsworth"
      ]
     },
     "execution_count": 302,
     "metadata": {},
     "output_type": "execute_result"
    }
   ],
   "source": [
    "titles_actors[titles_actors.primaryTitle == \"Avengers: Endgame\"]"
   ]
  },
  {
   "cell_type": "code",
   "execution_count": 303,
   "metadata": {},
   "outputs": [],
   "source": [
    "titles_actors_ratings = (\n",
    "    titles_actors\n",
    "    .merge(\n",
    "        titles_actors[[\"tconst\", \"nconst\", \"startYear\", \"primaryTitle\"]]\n",
    "        .rename(columns={\"tconst\": \"_tconst\", \"startYear\": \"_startYear\", \"primaryTitle\": \"_primaryTitle\"}), \n",
    "        right_on=\"nconst\", \n",
    "        left_on=\"nconst\"\n",
    "    )\n",
    "    .merge(\n",
    "        title_ratings\n",
    "        .rename(columns={\"tconst\": \"_tconst\"}), \n",
    "        right_on=\"_tconst\", \n",
    "        left_on=\"_tconst\"\n",
    "    )\n",
    ")"
   ]
  },
  {
   "cell_type": "code",
   "execution_count": 304,
   "metadata": {},
   "outputs": [
    {
     "data": {
      "text/plain": [
       "(34094859, 10)"
      ]
     },
     "execution_count": 304,
     "metadata": {},
     "output_type": "execute_result"
    }
   ],
   "source": [
    "titles_actors_ratings.shape"
   ]
  },
  {
   "cell_type": "code",
   "execution_count": 305,
   "metadata": {},
   "outputs": [
    {
     "data": {
      "text/html": [
       "<div>\n",
       "<style scoped>\n",
       "    .dataframe tbody tr th:only-of-type {\n",
       "        vertical-align: middle;\n",
       "    }\n",
       "\n",
       "    .dataframe tbody tr th {\n",
       "        vertical-align: top;\n",
       "    }\n",
       "\n",
       "    .dataframe thead th {\n",
       "        text-align: right;\n",
       "    }\n",
       "</style>\n",
       "<table border=\"1\" class=\"dataframe\">\n",
       "  <thead>\n",
       "    <tr style=\"text-align: right;\">\n",
       "      <th></th>\n",
       "      <th>tconst</th>\n",
       "      <th>nconst</th>\n",
       "      <th>startYear</th>\n",
       "      <th>primaryTitle</th>\n",
       "      <th>primaryName</th>\n",
       "      <th>_tconst</th>\n",
       "      <th>_startYear</th>\n",
       "      <th>_primaryTitle</th>\n",
       "      <th>averageRating</th>\n",
       "      <th>numVotes</th>\n",
       "    </tr>\n",
       "  </thead>\n",
       "  <tbody>\n",
       "    <tr>\n",
       "      <td>5953496</td>\n",
       "      <td>tt4154796</td>\n",
       "      <td>nm0749263</td>\n",
       "      <td>2019.0</td>\n",
       "      <td>Avengers: Endgame</td>\n",
       "      <td>Mark Ruffalo</td>\n",
       "      <td>tt0199626</td>\n",
       "      <td>2003.0</td>\n",
       "      <td>In the Cut</td>\n",
       "      <td>5.3</td>\n",
       "      <td>20663</td>\n",
       "    </tr>\n",
       "    <tr>\n",
       "      <td>5960944</td>\n",
       "      <td>tt4154796</td>\n",
       "      <td>nm1165110</td>\n",
       "      <td>2019.0</td>\n",
       "      <td>Avengers: Endgame</td>\n",
       "      <td>Chris Hemsworth</td>\n",
       "      <td>tt7895824</td>\n",
       "      <td>2018.0</td>\n",
       "      <td>Tourism Australia: Dundee - The Son of a Legen...</td>\n",
       "      <td>8.1</td>\n",
       "      <td>1187</td>\n",
       "    </tr>\n",
       "    <tr>\n",
       "      <td>5966134</td>\n",
       "      <td>tt4154796</td>\n",
       "      <td>nm0749263</td>\n",
       "      <td>2019.0</td>\n",
       "      <td>Avengers: Endgame</td>\n",
       "      <td>Mark Ruffalo</td>\n",
       "      <td>tt1895587</td>\n",
       "      <td>2015.0</td>\n",
       "      <td>Spotlight</td>\n",
       "      <td>8.1</td>\n",
       "      <td>371921</td>\n",
       "    </tr>\n",
       "    <tr>\n",
       "      <td>6702407</td>\n",
       "      <td>tt4154796</td>\n",
       "      <td>nm0749263</td>\n",
       "      <td>2019.0</td>\n",
       "      <td>Avengers: Endgame</td>\n",
       "      <td>Mark Ruffalo</td>\n",
       "      <td>tt0231013</td>\n",
       "      <td>2000.0</td>\n",
       "      <td>The Beat</td>\n",
       "      <td>6.3</td>\n",
       "      <td>54</td>\n",
       "    </tr>\n",
       "    <tr>\n",
       "      <td>7009008</td>\n",
       "      <td>tt4154796</td>\n",
       "      <td>nm0000375</td>\n",
       "      <td>2019.0</td>\n",
       "      <td>Avengers: Endgame</td>\n",
       "      <td>Robert Downey Jr.</td>\n",
       "      <td>tt0124013</td>\n",
       "      <td>1995.0</td>\n",
       "      <td>Mr. Willowby's Christmas Tree</td>\n",
       "      <td>6.4</td>\n",
       "      <td>175</td>\n",
       "    </tr>\n",
       "  </tbody>\n",
       "</table>\n",
       "</div>"
      ],
      "text/plain": [
       "            tconst     nconst  startYear       primaryTitle  \\\n",
       "5953496  tt4154796  nm0749263     2019.0  Avengers: Endgame   \n",
       "5960944  tt4154796  nm1165110     2019.0  Avengers: Endgame   \n",
       "5966134  tt4154796  nm0749263     2019.0  Avengers: Endgame   \n",
       "6702407  tt4154796  nm0749263     2019.0  Avengers: Endgame   \n",
       "7009008  tt4154796  nm0000375     2019.0  Avengers: Endgame   \n",
       "\n",
       "               primaryName    _tconst  _startYear  \\\n",
       "5953496       Mark Ruffalo  tt0199626      2003.0   \n",
       "5960944    Chris Hemsworth  tt7895824      2018.0   \n",
       "5966134       Mark Ruffalo  tt1895587      2015.0   \n",
       "6702407       Mark Ruffalo  tt0231013      2000.0   \n",
       "7009008  Robert Downey Jr.  tt0124013      1995.0   \n",
       "\n",
       "                                             _primaryTitle  averageRating  \\\n",
       "5953496                                         In the Cut            5.3   \n",
       "5960944  Tourism Australia: Dundee - The Son of a Legen...            8.1   \n",
       "5966134                                          Spotlight            8.1   \n",
       "6702407                                           The Beat            6.3   \n",
       "7009008                      Mr. Willowby's Christmas Tree            6.4   \n",
       "\n",
       "         numVotes  \n",
       "5953496     20663  \n",
       "5960944      1187  \n",
       "5966134    371921  \n",
       "6702407        54  \n",
       "7009008       175  "
      ]
     },
     "execution_count": 305,
     "metadata": {},
     "output_type": "execute_result"
    }
   ],
   "source": [
    "titles_actors_ratings[titles_actors_ratings.tconst == \"tt4154796\"].head()"
   ]
  },
  {
   "cell_type": "code",
   "execution_count": 306,
   "metadata": {},
   "outputs": [],
   "source": [
    "titles_actors_ratings = titles_actors_ratings[titles_actors_ratings._startYear < titles_actors_ratings.startYear]"
   ]
  },
  {
   "cell_type": "code",
   "execution_count": 307,
   "metadata": {},
   "outputs": [],
   "source": [
    "features_titles_actors_ratings = (\n",
    "    titles_actors_ratings\n",
    "    .groupby([\"tconst\", \"nconst\"])[[\"averageRating\"]]\n",
    "    .agg([\"min\", \"mean\", \"max\"])\n",
    ")"
   ]
  },
  {
   "cell_type": "code",
   "execution_count": 308,
   "metadata": {},
   "outputs": [
    {
     "data": {
      "text/plain": [
       "(1675082, 3)"
      ]
     },
     "execution_count": 308,
     "metadata": {},
     "output_type": "execute_result"
    }
   ],
   "source": [
    "features_titles_actors_ratings.shape"
   ]
  },
  {
   "cell_type": "code",
   "execution_count": 309,
   "metadata": {},
   "outputs": [],
   "source": [
    "cols = [\"_actor_\".join(x) for x in features_titles_actors_ratings.columns.ravel()]\n",
    "features_titles_actors_ratings.columns = cols"
   ]
  },
  {
   "cell_type": "code",
   "execution_count": 310,
   "metadata": {},
   "outputs": [
    {
     "data": {
      "text/html": [
       "<div>\n",
       "<style scoped>\n",
       "    .dataframe tbody tr th:only-of-type {\n",
       "        vertical-align: middle;\n",
       "    }\n",
       "\n",
       "    .dataframe tbody tr th {\n",
       "        vertical-align: top;\n",
       "    }\n",
       "\n",
       "    .dataframe thead th {\n",
       "        text-align: right;\n",
       "    }\n",
       "</style>\n",
       "<table border=\"1\" class=\"dataframe\">\n",
       "  <thead>\n",
       "    <tr style=\"text-align: right;\">\n",
       "      <th></th>\n",
       "      <th>averageRating_actor_min</th>\n",
       "      <th>averageRating_actor_mean</th>\n",
       "      <th>averageRating_actor_max</th>\n",
       "    </tr>\n",
       "    <tr>\n",
       "      <th>nconst</th>\n",
       "      <th></th>\n",
       "      <th></th>\n",
       "      <th></th>\n",
       "    </tr>\n",
       "  </thead>\n",
       "  <tbody>\n",
       "    <tr>\n",
       "      <td>nm0000375</td>\n",
       "      <td>4.0</td>\n",
       "      <td>6.664706</td>\n",
       "      <td>8.5</td>\n",
       "    </tr>\n",
       "    <tr>\n",
       "      <td>nm0262635</td>\n",
       "      <td>5.4</td>\n",
       "      <td>6.706250</td>\n",
       "      <td>8.5</td>\n",
       "    </tr>\n",
       "    <tr>\n",
       "      <td>nm0749263</td>\n",
       "      <td>2.5</td>\n",
       "      <td>6.662500</td>\n",
       "      <td>8.5</td>\n",
       "    </tr>\n",
       "    <tr>\n",
       "      <td>nm1165110</td>\n",
       "      <td>5.4</td>\n",
       "      <td>6.975000</td>\n",
       "      <td>8.5</td>\n",
       "    </tr>\n",
       "  </tbody>\n",
       "</table>\n",
       "</div>"
      ],
      "text/plain": [
       "           averageRating_actor_min  averageRating_actor_mean  \\\n",
       "nconst                                                         \n",
       "nm0000375                      4.0                  6.664706   \n",
       "nm0262635                      5.4                  6.706250   \n",
       "nm0749263                      2.5                  6.662500   \n",
       "nm1165110                      5.4                  6.975000   \n",
       "\n",
       "           averageRating_actor_max  \n",
       "nconst                              \n",
       "nm0000375                      8.5  \n",
       "nm0262635                      8.5  \n",
       "nm0749263                      8.5  \n",
       "nm1165110                      8.5  "
      ]
     },
     "execution_count": 310,
     "metadata": {},
     "output_type": "execute_result"
    }
   ],
   "source": [
    "features_titles_actors_ratings.loc[\"tt4154796\"]"
   ]
  },
  {
   "cell_type": "code",
   "execution_count": 311,
   "metadata": {},
   "outputs": [],
   "source": [
    "features_titles_actors_ratings = (\n",
    "    features_titles_actors_ratings\n",
    "    .groupby([\"tconst\"])[cols]\n",
    "    .agg(\n",
    "        {\n",
    "            \"averageRating_actor_min\": \"min\",\n",
    "            \"averageRating_actor_mean\": \"mean\",\n",
    "            \"averageRating_actor_max\": \"max\"\n",
    "        }\n",
    "    )\n",
    ")"
   ]
  },
  {
   "cell_type": "code",
   "execution_count": 312,
   "metadata": {},
   "outputs": [
    {
     "data": {
      "text/plain": [
       "(580250, 3)"
      ]
     },
     "execution_count": 312,
     "metadata": {},
     "output_type": "execute_result"
    }
   ],
   "source": [
    "features_titles_actors_ratings.shape"
   ]
  },
  {
   "cell_type": "code",
   "execution_count": 313,
   "metadata": {},
   "outputs": [
    {
     "data": {
      "text/plain": [
       "averageRating_actor_min     2.500000\n",
       "averageRating_actor_mean    6.752114\n",
       "averageRating_actor_max     8.500000\n",
       "Name: tt4154796, dtype: float64"
      ]
     },
     "execution_count": 313,
     "metadata": {},
     "output_type": "execute_result"
    }
   ],
   "source": [
    "features_titles_actors_ratings.loc[\"tt4154796\"]"
   ]
  },
  {
   "cell_type": "code",
   "execution_count": 314,
   "metadata": {},
   "outputs": [],
   "source": [
    "features_titles_actors_ratings.to_parquet(\"../data/edited_data/intermediate.db/features_titles_actors_ratings\")"
   ]
  },
  {
   "cell_type": "markdown",
   "metadata": {},
   "source": [
    "### Average rating per genre\n",
    "Calcul des statistiques de rating par genre (comédie, thriller etc.)\n",
    "<br>Un film pouvant présenter un ou plusieurs genres, une seconde aggrégation des statistiques est faite au niveau film "
   ]
  },
  {
   "cell_type": "code",
   "execution_count": 315,
   "metadata": {},
   "outputs": [],
   "source": [
    "title_basics = pd.read_parquet(\"../data/edited_data/datamart.db/title_basics\")\n",
    "title_ratings = pd.read_parquet(\"../data/edited_data/datamart.db/title_ratings\")\n",
    "\n",
    "title_basics.set_index(\"tconst\", inplace=True)\n",
    "title_ratings.set_index(\"tconst\", inplace=True)"
   ]
  },
  {
   "cell_type": "code",
   "execution_count": 316,
   "metadata": {},
   "outputs": [],
   "source": [
    "genres = (\n",
    "    title_basics.genres.str.split(\",\", expand=True)\n",
    "    .stack(dropna=True)\n",
    "    .reset_index()\n",
    "    .drop(\"level_1\", axis=1)\n",
    "    .rename(columns={0: \"genre\"})\n",
    "    .set_index(\"tconst\")\n",
    ")"
   ]
  },
  {
   "cell_type": "code",
   "execution_count": 317,
   "metadata": {},
   "outputs": [
    {
     "data": {
      "text/html": [
       "<div>\n",
       "<style scoped>\n",
       "    .dataframe tbody tr th:only-of-type {\n",
       "        vertical-align: middle;\n",
       "    }\n",
       "\n",
       "    .dataframe tbody tr th {\n",
       "        vertical-align: top;\n",
       "    }\n",
       "\n",
       "    .dataframe thead th {\n",
       "        text-align: right;\n",
       "    }\n",
       "</style>\n",
       "<table border=\"1\" class=\"dataframe\">\n",
       "  <thead>\n",
       "    <tr style=\"text-align: right;\">\n",
       "      <th></th>\n",
       "      <th>genre</th>\n",
       "    </tr>\n",
       "    <tr>\n",
       "      <th>tconst</th>\n",
       "      <th></th>\n",
       "    </tr>\n",
       "  </thead>\n",
       "  <tbody>\n",
       "    <tr>\n",
       "      <td>tt4154796</td>\n",
       "      <td>Action</td>\n",
       "    </tr>\n",
       "    <tr>\n",
       "      <td>tt4154796</td>\n",
       "      <td>Adventure</td>\n",
       "    </tr>\n",
       "    <tr>\n",
       "      <td>tt4154796</td>\n",
       "      <td>Sci-Fi</td>\n",
       "    </tr>\n",
       "  </tbody>\n",
       "</table>\n",
       "</div>"
      ],
      "text/plain": [
       "               genre\n",
       "tconst              \n",
       "tt4154796     Action\n",
       "tt4154796  Adventure\n",
       "tt4154796     Sci-Fi"
      ]
     },
     "execution_count": 317,
     "metadata": {},
     "output_type": "execute_result"
    }
   ],
   "source": [
    "genres.loc[\"tt4154796\"]"
   ]
  },
  {
   "cell_type": "code",
   "execution_count": 318,
   "metadata": {},
   "outputs": [],
   "source": [
    "genre_ratings = genres.join(title_ratings, how=\"left\")\n",
    "\n",
    "features_genres_ratings = (\n",
    "    genre_ratings\n",
    "    .groupby([\"genre\"])[[\"averageRating\"]]\n",
    "    .agg([\"min\", \"mean\", \"max\"])\n",
    ")"
   ]
  },
  {
   "cell_type": "code",
   "execution_count": 319,
   "metadata": {},
   "outputs": [],
   "source": [
    "cols_genres = [\"_genre_\".join(x) for x in features_genres_ratings.columns.ravel()]\n",
    "features_genres_ratings.columns = cols_genres"
   ]
  },
  {
   "cell_type": "code",
   "execution_count": 320,
   "metadata": {},
   "outputs": [],
   "source": [
    "features_titles_genres_ratings = (\n",
    "    genres\n",
    "    .reset_index()\n",
    "    .merge(\n",
    "        features_genres_ratings\n",
    "        .reset_index(), \n",
    "        left_on=\"genre\", \n",
    "        right_on=\"genre\"\n",
    "    )\n",
    ")"
   ]
  },
  {
   "cell_type": "code",
   "execution_count": 321,
   "metadata": {},
   "outputs": [
    {
     "data": {
      "text/html": [
       "<div>\n",
       "<style scoped>\n",
       "    .dataframe tbody tr th:only-of-type {\n",
       "        vertical-align: middle;\n",
       "    }\n",
       "\n",
       "    .dataframe tbody tr th {\n",
       "        vertical-align: top;\n",
       "    }\n",
       "\n",
       "    .dataframe thead th {\n",
       "        text-align: right;\n",
       "    }\n",
       "</style>\n",
       "<table border=\"1\" class=\"dataframe\">\n",
       "  <thead>\n",
       "    <tr style=\"text-align: right;\">\n",
       "      <th></th>\n",
       "      <th>tconst</th>\n",
       "      <th>genre</th>\n",
       "      <th>averageRating_genre_min</th>\n",
       "      <th>averageRating_genre_mean</th>\n",
       "      <th>averageRating_genre_max</th>\n",
       "    </tr>\n",
       "  </thead>\n",
       "  <tbody>\n",
       "    <tr>\n",
       "      <td>1264739</td>\n",
       "      <td>tt4154796</td>\n",
       "      <td>Action</td>\n",
       "      <td>1.0</td>\n",
       "      <td>6.110216</td>\n",
       "      <td>10.0</td>\n",
       "    </tr>\n",
       "    <tr>\n",
       "      <td>1315417</td>\n",
       "      <td>tt4154796</td>\n",
       "      <td>Adventure</td>\n",
       "      <td>1.0</td>\n",
       "      <td>6.327666</td>\n",
       "      <td>10.0</td>\n",
       "    </tr>\n",
       "    <tr>\n",
       "      <td>1532284</td>\n",
       "      <td>tt4154796</td>\n",
       "      <td>Sci-Fi</td>\n",
       "      <td>1.0</td>\n",
       "      <td>6.123952</td>\n",
       "      <td>10.0</td>\n",
       "    </tr>\n",
       "  </tbody>\n",
       "</table>\n",
       "</div>"
      ],
      "text/plain": [
       "            tconst      genre  averageRating_genre_min  \\\n",
       "1264739  tt4154796     Action                      1.0   \n",
       "1315417  tt4154796  Adventure                      1.0   \n",
       "1532284  tt4154796     Sci-Fi                      1.0   \n",
       "\n",
       "         averageRating_genre_mean  averageRating_genre_max  \n",
       "1264739                  6.110216                     10.0  \n",
       "1315417                  6.327666                     10.0  \n",
       "1532284                  6.123952                     10.0  "
      ]
     },
     "execution_count": 321,
     "metadata": {},
     "output_type": "execute_result"
    }
   ],
   "source": [
    "features_titles_genres_ratings[features_titles_genres_ratings.tconst == \"tt4154796\"]"
   ]
  },
  {
   "cell_type": "code",
   "execution_count": 322,
   "metadata": {},
   "outputs": [],
   "source": [
    "features_titles_genres_ratings = (\n",
    "    features_titles_genres_ratings\n",
    "    .groupby([\"tconst\"])[cols_genres]\n",
    "    .agg({\n",
    "        \"averageRating_genre_min\": \"min\",\n",
    "        \"averageRating_genre_mean\": \"mean\",\n",
    "        \"averageRating_genre_max\": \"max\"\n",
    "    })\n",
    ")"
   ]
  },
  {
   "cell_type": "code",
   "execution_count": 323,
   "metadata": {},
   "outputs": [
    {
     "data": {
      "text/plain": [
       "averageRating_genre_min      1.000000\n",
       "averageRating_genre_mean     6.187278\n",
       "averageRating_genre_max     10.000000\n",
       "Name: tt4154796, dtype: float64"
      ]
     },
     "execution_count": 323,
     "metadata": {},
     "output_type": "execute_result"
    }
   ],
   "source": [
    "features_titles_genres_ratings.loc[\"tt4154796\"]"
   ]
  },
  {
   "cell_type": "code",
   "execution_count": 324,
   "metadata": {},
   "outputs": [
    {
     "data": {
      "text/plain": [
       "(984385, 3)"
      ]
     },
     "execution_count": 324,
     "metadata": {},
     "output_type": "execute_result"
    }
   ],
   "source": [
    "features_titles_genres_ratings.shape"
   ]
  },
  {
   "cell_type": "code",
   "execution_count": 325,
   "metadata": {},
   "outputs": [],
   "source": [
    "features_titles_genres_ratings.to_parquet(\"../data/edited_data/intermediate.db/features_titles_genres_ratings\")"
   ]
  },
  {
   "cell_type": "markdown",
   "metadata": {},
   "source": [
    "### Average rating per directors\n",
    "Calcul des statistiques de rating par \"directeurs\"\n",
    "<br>Un film pouvant présenter un ou plusieurs \"directeurs\", une seconde aggrégation des statistiques est faite au niveau film"
   ]
  },
  {
   "cell_type": "code",
   "execution_count": 326,
   "metadata": {},
   "outputs": [],
   "source": [
    "title_ratings = pd.read_parquet(\"../data/edited_data/datamart.db/title_ratings\")\n",
    "title_basics = pd.read_parquet(\"../data/edited_data/datamart.db/title_basics\")\n",
    "title_crew = pd.read_parquet(\"../data/edited_data/datamart.db/title_crew\").set_index(\"tconst\")\n",
    "name_basics = pd.read_parquet(\"../data/edited_data/datamart.db/name_basics\")"
   ]
  },
  {
   "cell_type": "code",
   "execution_count": 327,
   "metadata": {},
   "outputs": [],
   "source": [
    "directors = (\n",
    "    title_crew.directors.dropna()\n",
    "    .str.split(\",\", expand=True)\n",
    "    .stack(dropna=True)\n",
    "    .reset_index()\n",
    "    .drop(\"level_1\", axis=1)\n",
    "    .rename(columns={0: \"nconst\"})\n",
    ")"
   ]
  },
  {
   "cell_type": "code",
   "execution_count": 328,
   "metadata": {},
   "outputs": [
    {
     "data": {
      "text/plain": [
       "(1267915, 2)"
      ]
     },
     "execution_count": 328,
     "metadata": {},
     "output_type": "execute_result"
    }
   ],
   "source": [
    "directors.shape"
   ]
  },
  {
   "cell_type": "code",
   "execution_count": 329,
   "metadata": {},
   "outputs": [],
   "source": [
    "titles_directors = (\n",
    "    directors\n",
    "    .merge(title_basics[[\"tconst\", \"startYear\", \"primaryTitle\"]], how=\"inner\", on=\"tconst\")\n",
    ")"
   ]
  },
  {
   "cell_type": "code",
   "execution_count": 330,
   "metadata": {},
   "outputs": [
    {
     "data": {
      "text/html": [
       "<div>\n",
       "<style scoped>\n",
       "    .dataframe tbody tr th:only-of-type {\n",
       "        vertical-align: middle;\n",
       "    }\n",
       "\n",
       "    .dataframe tbody tr th {\n",
       "        vertical-align: top;\n",
       "    }\n",
       "\n",
       "    .dataframe thead th {\n",
       "        text-align: right;\n",
       "    }\n",
       "</style>\n",
       "<table border=\"1\" class=\"dataframe\">\n",
       "  <thead>\n",
       "    <tr style=\"text-align: right;\">\n",
       "      <th></th>\n",
       "      <th>tconst</th>\n",
       "      <th>nconst</th>\n",
       "      <th>startYear</th>\n",
       "      <th>primaryTitle</th>\n",
       "    </tr>\n",
       "  </thead>\n",
       "  <tbody>\n",
       "    <tr>\n",
       "      <td>899291</td>\n",
       "      <td>tt4154796</td>\n",
       "      <td>nm0751577</td>\n",
       "      <td>2019.0</td>\n",
       "      <td>Avengers: Endgame</td>\n",
       "    </tr>\n",
       "    <tr>\n",
       "      <td>899292</td>\n",
       "      <td>tt4154796</td>\n",
       "      <td>nm0751648</td>\n",
       "      <td>2019.0</td>\n",
       "      <td>Avengers: Endgame</td>\n",
       "    </tr>\n",
       "  </tbody>\n",
       "</table>\n",
       "</div>"
      ],
      "text/plain": [
       "           tconst     nconst  startYear       primaryTitle\n",
       "899291  tt4154796  nm0751577     2019.0  Avengers: Endgame\n",
       "899292  tt4154796  nm0751648     2019.0  Avengers: Endgame"
      ]
     },
     "execution_count": 330,
     "metadata": {},
     "output_type": "execute_result"
    }
   ],
   "source": [
    "titles_directors[titles_directors.tconst == \"tt4154796\"]"
   ]
  },
  {
   "cell_type": "code",
   "execution_count": 331,
   "metadata": {},
   "outputs": [],
   "source": [
    "titles_directors_ratings = (\n",
    "    titles_directors\n",
    "    .merge(\n",
    "        titles_directors[[\"tconst\", \"nconst\", \"startYear\", \"primaryTitle\"]]\n",
    "        .rename(columns={\"tconst\": \"_tconst\", \"startYear\": \"_startYear\", \"primaryTitle\": \"_primaryTitle\"}),\n",
    "        how=\"inner\",\n",
    "        on=\"nconst\"\n",
    "    )\n",
    "    .merge(title_ratings.rename(columns={\"tconst\": \"_tconst\"}), how=\"left\", on=\"_tconst\")  \n",
    ")\n",
    "\n",
    "# filtering on past movies\n",
    "titles_directors_ratings = titles_directors_ratings[\n",
    "    titles_directors_ratings._startYear < titles_directors_ratings.startYear]"
   ]
  },
  {
   "cell_type": "code",
   "execution_count": 332,
   "metadata": {},
   "outputs": [
    {
     "data": {
      "text/html": [
       "<div>\n",
       "<style scoped>\n",
       "    .dataframe tbody tr th:only-of-type {\n",
       "        vertical-align: middle;\n",
       "    }\n",
       "\n",
       "    .dataframe tbody tr th {\n",
       "        vertical-align: top;\n",
       "    }\n",
       "\n",
       "    .dataframe thead th {\n",
       "        text-align: right;\n",
       "    }\n",
       "</style>\n",
       "<table border=\"1\" class=\"dataframe\">\n",
       "  <thead>\n",
       "    <tr style=\"text-align: right;\">\n",
       "      <th></th>\n",
       "      <th>tconst</th>\n",
       "      <th>nconst</th>\n",
       "      <th>startYear</th>\n",
       "      <th>primaryTitle</th>\n",
       "      <th>_tconst</th>\n",
       "      <th>_startYear</th>\n",
       "      <th>_primaryTitle</th>\n",
       "      <th>averageRating</th>\n",
       "      <th>numVotes</th>\n",
       "    </tr>\n",
       "  </thead>\n",
       "  <tbody>\n",
       "    <tr>\n",
       "      <td>10468045</td>\n",
       "      <td>tt4154796</td>\n",
       "      <td>nm0751577</td>\n",
       "      <td>2019.0</td>\n",
       "      <td>Avengers: Endgame</td>\n",
       "      <td>tt0163151</td>\n",
       "      <td>1997.0</td>\n",
       "      <td>Pieces</td>\n",
       "      <td>5.0</td>\n",
       "      <td>23.0</td>\n",
       "    </tr>\n",
       "    <tr>\n",
       "      <td>10468046</td>\n",
       "      <td>tt4154796</td>\n",
       "      <td>nm0751577</td>\n",
       "      <td>2019.0</td>\n",
       "      <td>Avengers: Endgame</td>\n",
       "      <td>tt0271259</td>\n",
       "      <td>2002.0</td>\n",
       "      <td>Welcome to Collinwood</td>\n",
       "      <td>6.4</td>\n",
       "      <td>13677.0</td>\n",
       "    </tr>\n",
       "    <tr>\n",
       "      <td>10468047</td>\n",
       "      <td>tt4154796</td>\n",
       "      <td>nm0751577</td>\n",
       "      <td>2019.0</td>\n",
       "      <td>Avengers: Endgame</td>\n",
       "      <td>tt0275458</td>\n",
       "      <td>2001.0</td>\n",
       "      <td>The Kiss</td>\n",
       "      <td>6.2</td>\n",
       "      <td>32.0</td>\n",
       "    </tr>\n",
       "    <tr>\n",
       "      <td>10468048</td>\n",
       "      <td>tt4154796</td>\n",
       "      <td>nm0751577</td>\n",
       "      <td>2019.0</td>\n",
       "      <td>Avengers: Endgame</td>\n",
       "      <td>tt0312271</td>\n",
       "      <td>2003.0</td>\n",
       "      <td>Lucky</td>\n",
       "      <td>8.1</td>\n",
       "      <td>247.0</td>\n",
       "    </tr>\n",
       "    <tr>\n",
       "      <td>10468049</td>\n",
       "      <td>tt4154796</td>\n",
       "      <td>nm0751577</td>\n",
       "      <td>2019.0</td>\n",
       "      <td>Avengers: Endgame</td>\n",
       "      <td>tt0367279</td>\n",
       "      <td>2003.0</td>\n",
       "      <td>Arrested Development</td>\n",
       "      <td>8.8</td>\n",
       "      <td>259184.0</td>\n",
       "    </tr>\n",
       "  </tbody>\n",
       "</table>\n",
       "</div>"
      ],
      "text/plain": [
       "             tconst     nconst  startYear       primaryTitle    _tconst  \\\n",
       "10468045  tt4154796  nm0751577     2019.0  Avengers: Endgame  tt0163151   \n",
       "10468046  tt4154796  nm0751577     2019.0  Avengers: Endgame  tt0271259   \n",
       "10468047  tt4154796  nm0751577     2019.0  Avengers: Endgame  tt0275458   \n",
       "10468048  tt4154796  nm0751577     2019.0  Avengers: Endgame  tt0312271   \n",
       "10468049  tt4154796  nm0751577     2019.0  Avengers: Endgame  tt0367279   \n",
       "\n",
       "          _startYear          _primaryTitle  averageRating  numVotes  \n",
       "10468045      1997.0                 Pieces            5.0      23.0  \n",
       "10468046      2002.0  Welcome to Collinwood            6.4   13677.0  \n",
       "10468047      2001.0               The Kiss            6.2      32.0  \n",
       "10468048      2003.0                  Lucky            8.1     247.0  \n",
       "10468049      2003.0   Arrested Development            8.8  259184.0  "
      ]
     },
     "execution_count": 332,
     "metadata": {},
     "output_type": "execute_result"
    }
   ],
   "source": [
    "titles_directors_ratings[titles_directors_ratings.tconst == \"tt4154796\"].head()"
   ]
  },
  {
   "cell_type": "code",
   "execution_count": 333,
   "metadata": {},
   "outputs": [],
   "source": [
    "features_titles_directors_ratings = (\n",
    "    titles_directors_ratings\n",
    "    .groupby([\"tconst\", \"nconst\"])[[\"averageRating\"]]\n",
    "    .agg([\"min\", \"mean\", \"max\"])\n",
    ")\n",
    "\n",
    "cols_directors = [\"_director_\".join(x) for x in features_titles_directors_ratings.columns.ravel()]\n",
    "features_titles_directors_ratings.columns = cols_directors"
   ]
  },
  {
   "cell_type": "code",
   "execution_count": 334,
   "metadata": {},
   "outputs": [
    {
     "data": {
      "text/html": [
       "<div>\n",
       "<style scoped>\n",
       "    .dataframe tbody tr th:only-of-type {\n",
       "        vertical-align: middle;\n",
       "    }\n",
       "\n",
       "    .dataframe tbody tr th {\n",
       "        vertical-align: top;\n",
       "    }\n",
       "\n",
       "    .dataframe thead th {\n",
       "        text-align: right;\n",
       "    }\n",
       "</style>\n",
       "<table border=\"1\" class=\"dataframe\">\n",
       "  <thead>\n",
       "    <tr style=\"text-align: right;\">\n",
       "      <th></th>\n",
       "      <th>nconst</th>\n",
       "      <th>averageRating_director_min</th>\n",
       "      <th>averageRating_director_mean</th>\n",
       "      <th>averageRating_director_max</th>\n",
       "      <th>primaryName</th>\n",
       "    </tr>\n",
       "  </thead>\n",
       "  <tbody>\n",
       "    <tr>\n",
       "      <td>0</td>\n",
       "      <td>nm0751577</td>\n",
       "      <td>5.0</td>\n",
       "      <td>7.188235</td>\n",
       "      <td>8.8</td>\n",
       "      <td>Anthony Russo</td>\n",
       "    </tr>\n",
       "    <tr>\n",
       "      <td>1</td>\n",
       "      <td>nm0751648</td>\n",
       "      <td>5.0</td>\n",
       "      <td>7.189474</td>\n",
       "      <td>8.8</td>\n",
       "      <td>Joe Russo</td>\n",
       "    </tr>\n",
       "  </tbody>\n",
       "</table>\n",
       "</div>"
      ],
      "text/plain": [
       "      nconst  averageRating_director_min  averageRating_director_mean  \\\n",
       "0  nm0751577                         5.0                     7.188235   \n",
       "1  nm0751648                         5.0                     7.189474   \n",
       "\n",
       "   averageRating_director_max    primaryName  \n",
       "0                         8.8  Anthony Russo  \n",
       "1                         8.8      Joe Russo  "
      ]
     },
     "execution_count": 334,
     "metadata": {},
     "output_type": "execute_result"
    }
   ],
   "source": [
    "features_titles_directors_ratings.loc[\"tt4154796\"].merge(name_basics[[\"nconst\", \"primaryName\"]], on=\"nconst\")"
   ]
  },
  {
   "cell_type": "code",
   "execution_count": 335,
   "metadata": {},
   "outputs": [],
   "source": [
    "features_titles_directors_ratings = (\n",
    "    features_titles_directors_ratings\n",
    "    .groupby(\"tconst\")[cols_directors]\n",
    "    .agg({\n",
    "        \"averageRating_director_min\": \"min\", \n",
    "        \"averageRating_director_mean\": \"mean\",\n",
    "        \"averageRating_director_max\": \"max\"\n",
    "    })\n",
    ")\n",
    "\n",
    "features_titles_directors_ratings = features_titles_directors_ratings.dropna()"
   ]
  },
  {
   "cell_type": "code",
   "execution_count": 336,
   "metadata": {},
   "outputs": [
    {
     "data": {
      "text/plain": [
       "averageRating_director_min     5.000000\n",
       "averageRating_director_mean    7.188854\n",
       "averageRating_director_max     8.800000\n",
       "Name: tt4154796, dtype: float64"
      ]
     },
     "execution_count": 336,
     "metadata": {},
     "output_type": "execute_result"
    }
   ],
   "source": [
    "features_titles_directors_ratings.loc[\"tt4154796\"]"
   ]
  },
  {
   "cell_type": "code",
   "execution_count": 337,
   "metadata": {},
   "outputs": [
    {
     "data": {
      "text/plain": [
       "(432412, 3)"
      ]
     },
     "execution_count": 337,
     "metadata": {},
     "output_type": "execute_result"
    }
   ],
   "source": [
    "features_titles_directors_ratings.shape"
   ]
  },
  {
   "cell_type": "code",
   "execution_count": 338,
   "metadata": {},
   "outputs": [],
   "source": [
    "features_titles_directors_ratings.to_parquet(\"../data/edited_data/intermediate.db/features_titles_directors_ratings\")"
   ]
  },
  {
   "cell_type": "markdown",
   "metadata": {},
   "source": [
    "# budget\n",
    "Permet de lier les films à leur budget. Un travail est notamment fait sur le titre du film servant de clé de jointure\n",
    "### Link movie.budget to title.basics"
   ]
  },
  {
   "cell_type": "code",
   "execution_count": 368,
   "metadata": {},
   "outputs": [],
   "source": [
    "import pyspark\n",
    "import os\n",
    "import pandas as pd"
   ]
  },
  {
   "cell_type": "code",
   "execution_count": 369,
   "metadata": {},
   "outputs": [],
   "source": [
    "movie_budget = pd.read_parquet(\"../data/parsed_data/movie_budget\")\n",
    "title_basics = pd.read_parquet(\"../data/edited_data/datamart.db/title_basics\")"
   ]
  },
  {
   "cell_type": "code",
   "execution_count": 370,
   "metadata": {},
   "outputs": [
    {
     "name": "stdout",
     "output_type": "stream",
     "text": [
      "<class 'pandas.core.frame.DataFrame'>\n",
      "Int64Index: 5850 entries, 1 to 5850\n",
      "Data columns (total 5 columns):\n",
      "ReleaseDate         5682 non-null datetime64[ns]\n",
      "Movie               5850 non-null object\n",
      "ProductionBudget    5850 non-null float64\n",
      "DomesticGross       5850 non-null float64\n",
      "WorldwideGross      5850 non-null float64\n",
      "dtypes: datetime64[ns](1), float64(3), object(1)\n",
      "memory usage: 274.2+ KB\n"
     ]
    }
   ],
   "source": [
    "movie_budget.info()"
   ]
  },
  {
   "cell_type": "code",
   "execution_count": 371,
   "metadata": {},
   "outputs": [],
   "source": [
    "movie_budget[\"title\"] = movie_budget.Movie.str.lower().replace(\"\\W\", \"\", regex=True)\n",
    "movie_budget = movie_budget.set_index(\"title\")"
   ]
  },
  {
   "cell_type": "code",
   "execution_count": 372,
   "metadata": {},
   "outputs": [
    {
     "data": {
      "text/html": [
       "<div>\n",
       "<style scoped>\n",
       "    .dataframe tbody tr th:only-of-type {\n",
       "        vertical-align: middle;\n",
       "    }\n",
       "\n",
       "    .dataframe tbody tr th {\n",
       "        vertical-align: top;\n",
       "    }\n",
       "\n",
       "    .dataframe thead th {\n",
       "        text-align: right;\n",
       "    }\n",
       "</style>\n",
       "<table border=\"1\" class=\"dataframe\">\n",
       "  <thead>\n",
       "    <tr style=\"text-align: right;\">\n",
       "      <th></th>\n",
       "      <th>ReleaseDate</th>\n",
       "      <th>Movie</th>\n",
       "      <th>ProductionBudget</th>\n",
       "      <th>DomesticGross</th>\n",
       "      <th>WorldwideGross</th>\n",
       "    </tr>\n",
       "    <tr>\n",
       "      <th>title</th>\n",
       "      <th></th>\n",
       "      <th></th>\n",
       "      <th></th>\n",
       "      <th></th>\n",
       "      <th></th>\n",
       "    </tr>\n",
       "  </thead>\n",
       "  <tbody>\n",
       "    <tr>\n",
       "      <td>avatar</td>\n",
       "      <td>2009-12-17</td>\n",
       "      <td>Avatar</td>\n",
       "      <td>425000000.0</td>\n",
       "      <td>760507625.0</td>\n",
       "      <td>2.789705e+09</td>\n",
       "    </tr>\n",
       "    <tr>\n",
       "      <td>piratesofthecaribbeanonstrangertides</td>\n",
       "      <td>2011-05-20</td>\n",
       "      <td>Pirates of the Caribbean: On Stranger Tides</td>\n",
       "      <td>410600000.0</td>\n",
       "      <td>241063875.0</td>\n",
       "      <td>1.045664e+09</td>\n",
       "    </tr>\n",
       "    <tr>\n",
       "      <td>avengersendgame</td>\n",
       "      <td>2019-04-23</td>\n",
       "      <td>Avengers: Endgame</td>\n",
       "      <td>400000000.0</td>\n",
       "      <td>858373000.0</td>\n",
       "      <td>2.795473e+09</td>\n",
       "    </tr>\n",
       "    <tr>\n",
       "      <td>avengersageofultron</td>\n",
       "      <td>2015-04-22</td>\n",
       "      <td>Avengers: Age of Ultron</td>\n",
       "      <td>330600000.0</td>\n",
       "      <td>459005868.0</td>\n",
       "      <td>1.403014e+09</td>\n",
       "    </tr>\n",
       "    <tr>\n",
       "      <td>starwarsepviiithelastjedi</td>\n",
       "      <td>2017-12-13</td>\n",
       "      <td>Star Wars Ep. VIII: The Last Jedi</td>\n",
       "      <td>317000000.0</td>\n",
       "      <td>620181382.0</td>\n",
       "      <td>1.316722e+09</td>\n",
       "    </tr>\n",
       "  </tbody>\n",
       "</table>\n",
       "</div>"
      ],
      "text/plain": [
       "                                     ReleaseDate  \\\n",
       "title                                              \n",
       "avatar                                2009-12-17   \n",
       "piratesofthecaribbeanonstrangertides  2011-05-20   \n",
       "avengersendgame                       2019-04-23   \n",
       "avengersageofultron                   2015-04-22   \n",
       "starwarsepviiithelastjedi             2017-12-13   \n",
       "\n",
       "                                                                            Movie  \\\n",
       "title                                                                               \n",
       "avatar                                                                     Avatar   \n",
       "piratesofthecaribbeanonstrangertides  Pirates of the Caribbean: On Stranger Tides   \n",
       "avengersendgame                                                 Avengers: Endgame   \n",
       "avengersageofultron                                       Avengers: Age of Ultron   \n",
       "starwarsepviiithelastjedi                       Star Wars Ep. VIII: The Last Jedi   \n",
       "\n",
       "                                      ProductionBudget  DomesticGross  \\\n",
       "title                                                                   \n",
       "avatar                                     425000000.0    760507625.0   \n",
       "piratesofthecaribbeanonstrangertides       410600000.0    241063875.0   \n",
       "avengersendgame                            400000000.0    858373000.0   \n",
       "avengersageofultron                        330600000.0    459005868.0   \n",
       "starwarsepviiithelastjedi                  317000000.0    620181382.0   \n",
       "\n",
       "                                      WorldwideGross  \n",
       "title                                                 \n",
       "avatar                                  2.789705e+09  \n",
       "piratesofthecaribbeanonstrangertides    1.045664e+09  \n",
       "avengersendgame                         2.795473e+09  \n",
       "avengersageofultron                     1.403014e+09  \n",
       "starwarsepviiithelastjedi               1.316722e+09  "
      ]
     },
     "execution_count": 372,
     "metadata": {},
     "output_type": "execute_result"
    }
   ],
   "source": [
    "movie_budget.head()"
   ]
  },
  {
   "cell_type": "code",
   "execution_count": 373,
   "metadata": {},
   "outputs": [],
   "source": [
    "title_basics[\"title\"] = title_basics.originalTitle.str.lower().replace(\"\\W\", \"\", regex=True)\n",
    "title_basics = title_basics[title_basics.titleType == \"movie\"]\n",
    "title_basics = title_basics.set_index(\"title\")"
   ]
  },
  {
   "cell_type": "code",
   "execution_count": 374,
   "metadata": {},
   "outputs": [
    {
     "data": {
      "text/html": [
       "<div>\n",
       "<style scoped>\n",
       "    .dataframe tbody tr th:only-of-type {\n",
       "        vertical-align: middle;\n",
       "    }\n",
       "\n",
       "    .dataframe tbody tr th {\n",
       "        vertical-align: top;\n",
       "    }\n",
       "\n",
       "    .dataframe thead th {\n",
       "        text-align: right;\n",
       "    }\n",
       "</style>\n",
       "<table border=\"1\" class=\"dataframe\">\n",
       "  <thead>\n",
       "    <tr style=\"text-align: right;\">\n",
       "      <th></th>\n",
       "      <th>tconst</th>\n",
       "      <th>titleType</th>\n",
       "      <th>primaryTitle</th>\n",
       "      <th>originalTitle</th>\n",
       "      <th>isAdult</th>\n",
       "      <th>startYear</th>\n",
       "      <th>endYear</th>\n",
       "      <th>runtimeMinutes</th>\n",
       "      <th>genres</th>\n",
       "    </tr>\n",
       "    <tr>\n",
       "      <th>title</th>\n",
       "      <th></th>\n",
       "      <th></th>\n",
       "      <th></th>\n",
       "      <th></th>\n",
       "      <th></th>\n",
       "      <th></th>\n",
       "      <th></th>\n",
       "      <th></th>\n",
       "      <th></th>\n",
       "    </tr>\n",
       "  </thead>\n",
       "  <tbody>\n",
       "    <tr>\n",
       "      <td>missjerry</td>\n",
       "      <td>tt0000009</td>\n",
       "      <td>movie</td>\n",
       "      <td>Miss Jerry</td>\n",
       "      <td>Miss Jerry</td>\n",
       "      <td>0</td>\n",
       "      <td>1894.0</td>\n",
       "      <td>NaN</td>\n",
       "      <td>45</td>\n",
       "      <td>Romance</td>\n",
       "    </tr>\n",
       "    <tr>\n",
       "      <td>thecorbettfitzsimmonsfight</td>\n",
       "      <td>tt0000147</td>\n",
       "      <td>movie</td>\n",
       "      <td>The Corbett-Fitzsimmons Fight</td>\n",
       "      <td>The Corbett-Fitzsimmons Fight</td>\n",
       "      <td>0</td>\n",
       "      <td>1897.0</td>\n",
       "      <td>NaN</td>\n",
       "      <td>20</td>\n",
       "      <td>Documentary,News,Sport</td>\n",
       "    </tr>\n",
       "    <tr>\n",
       "      <td>soldiersofthecross</td>\n",
       "      <td>tt0000335</td>\n",
       "      <td>movie</td>\n",
       "      <td>Soldiers of the Cross</td>\n",
       "      <td>Soldiers of the Cross</td>\n",
       "      <td>0</td>\n",
       "      <td>1900.0</td>\n",
       "      <td>NaN</td>\n",
       "      <td>None</td>\n",
       "      <td>Biography,Drama</td>\n",
       "    </tr>\n",
       "    <tr>\n",
       "      <td>bohemios</td>\n",
       "      <td>tt0000502</td>\n",
       "      <td>movie</td>\n",
       "      <td>Bohemios</td>\n",
       "      <td>Bohemios</td>\n",
       "      <td>0</td>\n",
       "      <td>1905.0</td>\n",
       "      <td>NaN</td>\n",
       "      <td>100</td>\n",
       "      <td>None</td>\n",
       "    </tr>\n",
       "    <tr>\n",
       "      <td>thestoryofthekellygang</td>\n",
       "      <td>tt0000574</td>\n",
       "      <td>movie</td>\n",
       "      <td>The Story of the Kelly Gang</td>\n",
       "      <td>The Story of the Kelly Gang</td>\n",
       "      <td>0</td>\n",
       "      <td>1906.0</td>\n",
       "      <td>NaN</td>\n",
       "      <td>70</td>\n",
       "      <td>Biography,Crime,Drama</td>\n",
       "    </tr>\n",
       "  </tbody>\n",
       "</table>\n",
       "</div>"
      ],
      "text/plain": [
       "                               tconst titleType  \\\n",
       "title                                             \n",
       "missjerry                   tt0000009     movie   \n",
       "thecorbettfitzsimmonsfight  tt0000147     movie   \n",
       "soldiersofthecross          tt0000335     movie   \n",
       "bohemios                    tt0000502     movie   \n",
       "thestoryofthekellygang      tt0000574     movie   \n",
       "\n",
       "                                             primaryTitle  \\\n",
       "title                                                       \n",
       "missjerry                                      Miss Jerry   \n",
       "thecorbettfitzsimmonsfight  The Corbett-Fitzsimmons Fight   \n",
       "soldiersofthecross                  Soldiers of the Cross   \n",
       "bohemios                                         Bohemios   \n",
       "thestoryofthekellygang        The Story of the Kelly Gang   \n",
       "\n",
       "                                            originalTitle  isAdult  startYear  \\\n",
       "title                                                                           \n",
       "missjerry                                      Miss Jerry        0     1894.0   \n",
       "thecorbettfitzsimmonsfight  The Corbett-Fitzsimmons Fight        0     1897.0   \n",
       "soldiersofthecross                  Soldiers of the Cross        0     1900.0   \n",
       "bohemios                                         Bohemios        0     1905.0   \n",
       "thestoryofthekellygang        The Story of the Kelly Gang        0     1906.0   \n",
       "\n",
       "                            endYear runtimeMinutes                  genres  \n",
       "title                                                                       \n",
       "missjerry                       NaN             45                 Romance  \n",
       "thecorbettfitzsimmonsfight      NaN             20  Documentary,News,Sport  \n",
       "soldiersofthecross              NaN           None         Biography,Drama  \n",
       "bohemios                        NaN            100                    None  \n",
       "thestoryofthekellygang          NaN             70   Biography,Crime,Drama  "
      ]
     },
     "execution_count": 374,
     "metadata": {},
     "output_type": "execute_result"
    }
   ],
   "source": [
    "title_basics.head()"
   ]
  },
  {
   "cell_type": "code",
   "execution_count": 375,
   "metadata": {},
   "outputs": [],
   "source": [
    "title_basics[\"titleBasicsFlag\"] = True\n",
    "\n",
    "features_budget = (\n",
    "    movie_budget\n",
    "    .join(title_basics[[\"titleBasicsFlag\", \"tconst\"]], how=\"left\")\n",
    ")"
   ]
  },
  {
   "cell_type": "code",
   "execution_count": 377,
   "metadata": {},
   "outputs": [
    {
     "data": {
      "text/html": [
       "<div>\n",
       "<style scoped>\n",
       "    .dataframe tbody tr th:only-of-type {\n",
       "        vertical-align: middle;\n",
       "    }\n",
       "\n",
       "    .dataframe tbody tr th {\n",
       "        vertical-align: top;\n",
       "    }\n",
       "\n",
       "    .dataframe thead th {\n",
       "        text-align: right;\n",
       "    }\n",
       "</style>\n",
       "<table border=\"1\" class=\"dataframe\">\n",
       "  <thead>\n",
       "    <tr style=\"text-align: right;\">\n",
       "      <th></th>\n",
       "      <th>ReleaseDate</th>\n",
       "      <th>Movie</th>\n",
       "      <th>ProductionBudget</th>\n",
       "      <th>DomesticGross</th>\n",
       "      <th>WorldwideGross</th>\n",
       "      <th>titleBasicsFlag</th>\n",
       "      <th>tconst</th>\n",
       "    </tr>\n",
       "    <tr>\n",
       "      <th>title</th>\n",
       "      <th></th>\n",
       "      <th></th>\n",
       "      <th></th>\n",
       "      <th></th>\n",
       "      <th></th>\n",
       "      <th></th>\n",
       "      <th></th>\n",
       "    </tr>\n",
       "  </thead>\n",
       "  <tbody>\n",
       "    <tr>\n",
       "      <td>avengersendgame</td>\n",
       "      <td>2019-04-23</td>\n",
       "      <td>Avengers: Endgame</td>\n",
       "      <td>400000000.0</td>\n",
       "      <td>858373000.0</td>\n",
       "      <td>2.795473e+09</td>\n",
       "      <td>True</td>\n",
       "      <td>tt4154796</td>\n",
       "    </tr>\n",
       "  </tbody>\n",
       "</table>\n",
       "</div>"
      ],
      "text/plain": [
       "                ReleaseDate              Movie  ProductionBudget  \\\n",
       "title                                                              \n",
       "avengersendgame  2019-04-23  Avengers: Endgame       400000000.0   \n",
       "\n",
       "                 DomesticGross  WorldwideGross titleBasicsFlag     tconst  \n",
       "title                                                                      \n",
       "avengersendgame    858373000.0    2.795473e+09            True  tt4154796  "
      ]
     },
     "execution_count": 377,
     "metadata": {},
     "output_type": "execute_result"
    }
   ],
   "source": [
    "features_budget[features_budget.tconst == \"tt4154796\"]"
   ]
  },
  {
   "cell_type": "code",
   "execution_count": 378,
   "metadata": {},
   "outputs": [
    {
     "data": {
      "text/plain": [
       "True    10778\n",
       "Name: titleBasicsFlag, dtype: int64"
      ]
     },
     "execution_count": 378,
     "metadata": {},
     "output_type": "execute_result"
    }
   ],
   "source": [
    "features_budget.titleBasicsFlag.value_counts()"
   ]
  },
  {
   "cell_type": "code",
   "execution_count": 380,
   "metadata": {},
   "outputs": [],
   "source": [
    "n_obs = pd.DataFrame(features_budget.groupby(features_budget.index).size()).rename(columns={0: \"nObs\"})\n",
    "features_budget = features_budget.join(n_obs)\n",
    "features_budget = features_budget[features_budget.nObs == 1]"
   ]
  },
  {
   "cell_type": "code",
   "execution_count": 381,
   "metadata": {},
   "outputs": [
    {
     "data": {
      "text/plain": [
       "True    3750\n",
       "Name: titleBasicsFlag, dtype: int64"
      ]
     },
     "execution_count": 381,
     "metadata": {},
     "output_type": "execute_result"
    }
   ],
   "source": [
    "features_budget.titleBasicsFlag.value_counts()"
   ]
  },
  {
   "cell_type": "code",
   "execution_count": 382,
   "metadata": {},
   "outputs": [],
   "source": [
    "features_budget = features_budget.reset_index().set_index(\"tconst\")[[\"ProductionBudget\"]]"
   ]
  },
  {
   "cell_type": "code",
   "execution_count": 383,
   "metadata": {},
   "outputs": [
    {
     "data": {
      "text/html": [
       "<div>\n",
       "<style scoped>\n",
       "    .dataframe tbody tr th:only-of-type {\n",
       "        vertical-align: middle;\n",
       "    }\n",
       "\n",
       "    .dataframe tbody tr th {\n",
       "        vertical-align: top;\n",
       "    }\n",
       "\n",
       "    .dataframe thead th {\n",
       "        text-align: right;\n",
       "    }\n",
       "</style>\n",
       "<table border=\"1\" class=\"dataframe\">\n",
       "  <thead>\n",
       "    <tr style=\"text-align: right;\">\n",
       "      <th></th>\n",
       "      <th>ProductionBudget</th>\n",
       "    </tr>\n",
       "    <tr>\n",
       "      <th>tconst</th>\n",
       "      <th></th>\n",
       "    </tr>\n",
       "  </thead>\n",
       "  <tbody>\n",
       "    <tr>\n",
       "      <td>tt0443649</td>\n",
       "      <td>105000000.0</td>\n",
       "    </tr>\n",
       "    <tr>\n",
       "      <td>tt0211181</td>\n",
       "      <td>85000000.0</td>\n",
       "    </tr>\n",
       "    <tr>\n",
       "      <td>tt1179933</td>\n",
       "      <td>5000000.0</td>\n",
       "    </tr>\n",
       "    <tr>\n",
       "      <td>tt3453052</td>\n",
       "      <td>12000000.0</td>\n",
       "    </tr>\n",
       "    <tr>\n",
       "      <td>tt0147800</td>\n",
       "      <td>13000000.0</td>\n",
       "    </tr>\n",
       "  </tbody>\n",
       "</table>\n",
       "</div>"
      ],
      "text/plain": [
       "           ProductionBudget\n",
       "tconst                     \n",
       "tt0443649       105000000.0\n",
       "tt0211181        85000000.0\n",
       "tt1179933         5000000.0\n",
       "tt3453052        12000000.0\n",
       "tt0147800        13000000.0"
      ]
     },
     "execution_count": 383,
     "metadata": {},
     "output_type": "execute_result"
    }
   ],
   "source": [
    "features_budget.head()"
   ]
  },
  {
   "cell_type": "code",
   "execution_count": 384,
   "metadata": {},
   "outputs": [],
   "source": [
    "features_budget.to_parquet(\"../data/edited_data/intermediate.db/features_budget\")"
   ]
  },
  {
   "cell_type": "markdown",
   "metadata": {},
   "source": [
    "### Titles features\n",
    "Quelques features sur le titre du film : nombre de mots, lettres etc."
   ]
  },
  {
   "cell_type": "code",
   "execution_count": 386,
   "metadata": {},
   "outputs": [],
   "source": [
    "title_basics = pd.read_parquet(\"../data/edited_data/datamart.db/title_basics\")\n",
    "title_basics.set_index(\"tconst\", inplace=True)"
   ]
  },
  {
   "cell_type": "code",
   "execution_count": 391,
   "metadata": {},
   "outputs": [
    {
     "name": "stderr",
     "output_type": "stream",
     "text": [
      "C:\\ProgramData\\Anaconda3\\lib\\site-packages\\pandas\\core\\indexing.py:376: SettingWithCopyWarning: \n",
      "A value is trying to be set on a copy of a slice from a DataFrame.\n",
      "Try using .loc[row_indexer,col_indexer] = value instead\n",
      "\n",
      "See the caveats in the documentation: http://pandas.pydata.org/pandas-docs/stable/user_guide/indexing.html#returning-a-view-versus-a-copy\n",
      "  self.obj[key] = _infer_fill_value(value)\n",
      "C:\\ProgramData\\Anaconda3\\lib\\site-packages\\pandas\\core\\indexing.py:494: SettingWithCopyWarning: \n",
      "A value is trying to be set on a copy of a slice from a DataFrame.\n",
      "Try using .loc[row_indexer,col_indexer] = value instead\n",
      "\n",
      "See the caveats in the documentation: http://pandas.pydata.org/pandas-docs/stable/user_guide/indexing.html#returning-a-view-versus-a-copy\n",
      "  self.obj[item] = s\n"
     ]
    }
   ],
   "source": [
    "features_titles = title_basics[[\"primaryTitle\"]]\n",
    "features_titles.loc[:, \"nLetters\"] = features_titles.primaryTitle.str.len()\n",
    "features_titles.loc[:, \"nCapitalLetters\"] = features_titles.primaryTitle.apply(lambda x: sum(1 for c in x if c.isupper()))\n",
    "features_titles.loc[:, \"nWords\"] = features_titles.primaryTitle.str.split(\"\\W\").str.len()"
   ]
  },
  {
   "cell_type": "code",
   "execution_count": 392,
   "metadata": {},
   "outputs": [
    {
     "data": {
      "text/html": [
       "<div>\n",
       "<style scoped>\n",
       "    .dataframe tbody tr th:only-of-type {\n",
       "        vertical-align: middle;\n",
       "    }\n",
       "\n",
       "    .dataframe tbody tr th {\n",
       "        vertical-align: top;\n",
       "    }\n",
       "\n",
       "    .dataframe thead th {\n",
       "        text-align: right;\n",
       "    }\n",
       "</style>\n",
       "<table border=\"1\" class=\"dataframe\">\n",
       "  <thead>\n",
       "    <tr style=\"text-align: right;\">\n",
       "      <th></th>\n",
       "      <th>primaryTitle</th>\n",
       "      <th>nLetters</th>\n",
       "      <th>nCapitalLetters</th>\n",
       "      <th>nWords</th>\n",
       "    </tr>\n",
       "    <tr>\n",
       "      <th>tconst</th>\n",
       "      <th></th>\n",
       "      <th></th>\n",
       "      <th></th>\n",
       "      <th></th>\n",
       "    </tr>\n",
       "  </thead>\n",
       "  <tbody>\n",
       "    <tr>\n",
       "      <td>tt0000001</td>\n",
       "      <td>Carmencita</td>\n",
       "      <td>10</td>\n",
       "      <td>1</td>\n",
       "      <td>1</td>\n",
       "    </tr>\n",
       "    <tr>\n",
       "      <td>tt0000009</td>\n",
       "      <td>Miss Jerry</td>\n",
       "      <td>10</td>\n",
       "      <td>2</td>\n",
       "      <td>2</td>\n",
       "    </tr>\n",
       "    <tr>\n",
       "      <td>tt0000024</td>\n",
       "      <td>Opening of the Kiel Canal</td>\n",
       "      <td>25</td>\n",
       "      <td>3</td>\n",
       "      <td>5</td>\n",
       "    </tr>\n",
       "    <tr>\n",
       "      <td>tt0000026</td>\n",
       "      <td>The Messers. Lumière at Cards</td>\n",
       "      <td>29</td>\n",
       "      <td>4</td>\n",
       "      <td>6</td>\n",
       "    </tr>\n",
       "    <tr>\n",
       "      <td>tt0000029</td>\n",
       "      <td>Baby's Dinner</td>\n",
       "      <td>13</td>\n",
       "      <td>2</td>\n",
       "      <td>3</td>\n",
       "    </tr>\n",
       "  </tbody>\n",
       "</table>\n",
       "</div>"
      ],
      "text/plain": [
       "                            primaryTitle  nLetters  nCapitalLetters  nWords\n",
       "tconst                                                                     \n",
       "tt0000001                     Carmencita        10                1       1\n",
       "tt0000009                     Miss Jerry        10                2       2\n",
       "tt0000024      Opening of the Kiel Canal        25                3       5\n",
       "tt0000026  The Messers. Lumière at Cards        29                4       6\n",
       "tt0000029                  Baby's Dinner        13                2       3"
      ]
     },
     "execution_count": 392,
     "metadata": {},
     "output_type": "execute_result"
    }
   ],
   "source": [
    "primary_title.head()"
   ]
  },
  {
   "cell_type": "code",
   "execution_count": 393,
   "metadata": {},
   "outputs": [
    {
     "data": {
      "text/plain": [
       "primaryTitle       Avengers: Endgame\n",
       "nLetters                          17\n",
       "nCapitalLetters                    2\n",
       "nWords                             3\n",
       "Name: tt4154796, dtype: object"
      ]
     },
     "execution_count": 393,
     "metadata": {},
     "output_type": "execute_result"
    }
   ],
   "source": [
    "primary_title.loc[\"tt4154796\"]"
   ]
  },
  {
   "cell_type": "code",
   "execution_count": 394,
   "metadata": {},
   "outputs": [],
   "source": [
    "features_titles.to_parquet(\"../data/edited_data/intermediate.db/features_titles\")"
   ]
  },
  {
   "cell_type": "markdown",
   "metadata": {},
   "source": [
    "### Basic Features"
   ]
  },
  {
   "cell_type": "code",
   "execution_count": 360,
   "metadata": {},
   "outputs": [],
   "source": [
    "title_basics = pd.read_parquet(\"../data/edited_data/datamart.db/title_basics\").set_index(\"tconst\")"
   ]
  },
  {
   "cell_type": "code",
   "execution_count": 361,
   "metadata": {},
   "outputs": [
    {
     "name": "stderr",
     "output_type": "stream",
     "text": [
      "C:\\ProgramData\\Anaconda3\\lib\\site-packages\\ipykernel_launcher.py:2: SettingWithCopyWarning: \n",
      "A value is trying to be set on a copy of a slice from a DataFrame.\n",
      "Try using .loc[row_indexer,col_indexer] = value instead\n",
      "\n",
      "See the caveats in the documentation: http://pandas.pydata.org/pandas-docs/stable/user_guide/indexing.html#returning-a-view-versus-a-copy\n",
      "  \n"
     ]
    }
   ],
   "source": [
    "features_basics = title_basics[[\"isAdult\", \"startYear\", \"runtimeMinutes\"]]\n",
    "features_basics[\"age\"] = 2019 - features_basics[\"startYear\"]\n",
    "features_basics = features_basics.drop(columns=[\"startYear\"], axis=1)"
   ]
  },
  {
   "cell_type": "code",
   "execution_count": 362,
   "metadata": {},
   "outputs": [],
   "source": [
    "features_basics.to_parquet(\"../data/edited_data/intermediate.db/features_basics\")"
   ]
  },
  {
   "cell_type": "code",
   "execution_count": 363,
   "metadata": {},
   "outputs": [],
   "source": [
    "title_basics = pd.read_parquet(\"../data/edited_data/datamart.db/title_basics\").set_index(\"tconst\")\n",
    "genres = (\n",
    "    title_basics.genres.str.split(\",\", expand=True)\n",
    "    .stack(dropna=True)\n",
    "    .reset_index()\n",
    "    .drop(\"level_1\", axis=1)\n",
    "    .rename(columns={0: \"genre\"})\n",
    "    .set_index(\"tconst\")\n",
    ")\n",
    "\n",
    "features_genres = pd.get_dummies(genres).sum(level=0)\n",
    "features_genres.to_parquet(\"../data/edited_data/intermediate.db/features_genres\")"
   ]
  },
  {
   "cell_type": "markdown",
   "metadata": {
    "collapsed": true
   },
   "source": [
    "# modeling database"
   ]
  },
  {
   "cell_type": "code",
   "execution_count": 395,
   "metadata": {},
   "outputs": [
    {
     "data": {
      "text/plain": [
       "'\\ntitle_name_avg_ratings = pd.read_parquet(\"../data/edited_data/intermediate.db/title_name_avg_ratings\")\\ntitle_genres_avg_ratings = pd.read_parquet(\"../data/edited_data/intermediate.db/title_genres_avg_ratings\")\\ntitle_avg_ratings_crew_category = pd.read_parquet(\"../data/edited_data/intermediate.db/title_avg_ratings_crew_category\")\\ntitle_basics = pd.read_parquet(\"../data/edited_data/datamart.db/title_basics\")\\navg_directors_titles_ratings = pd.read_parquet(\"../data/edited_data/intermediate.db/avg_directors_titles_ratings\")\\n'"
      ]
     },
     "execution_count": 395,
     "metadata": {},
     "output_type": "execute_result"
    }
   ],
   "source": [
    "title_perimeter = pd.read_parquet(\"../data/edited_data/datamart.db/title_perimeter\")\n",
    "\n",
    "# average rating per {}\n",
    "features_titles_actors_ratings = pd.read_parquet(\"../data/edited_data/intermediate.db/features_titles_actors_ratings\")\n",
    "features_titles_directors_ratings = pd.read_parquet(\"../data/edited_data/intermediate.db/features_titles_directors_ratings\")\n",
    "features_titles_genres_ratings = pd.read_parquet(\"../data/edited_data/intermediate.db/features_titles_genres_ratings\")\n",
    "\n",
    "# other features\n",
    "features_budget = pd.read_parquet(\"../data/edited_data/intermediate.db/features_budget\")\n",
    "features_titles = pd.read_parquet(\"../data/edited_data/intermediate.db/features_titles\")\n",
    "features_basics = pd.read_parquet(\"../data/edited_data/intermediate.db/features_basics\")\n",
    "features_genres = pd.read_parquet(\"../data/edited_data/intermediate.db/features_genres\")\n",
    "\n",
    "# target\n",
    "title_ratings = pd.read_parquet(\"../data/edited_data/datamart.db/title_ratings\").set_index(\"tconst\").drop(columns=[\"numVotes\"], axis=1)\n",
    "\n",
    "\"\"\"\n",
    "title_name_avg_ratings = pd.read_parquet(\"../data/edited_data/intermediate.db/title_name_avg_ratings\")\n",
    "title_genres_avg_ratings = pd.read_parquet(\"../data/edited_data/intermediate.db/title_genres_avg_ratings\")\n",
    "title_avg_ratings_crew_category = pd.read_parquet(\"../data/edited_data/intermediate.db/title_avg_ratings_crew_category\")\n",
    "title_basics = pd.read_parquet(\"../data/edited_data/datamart.db/title_basics\")\n",
    "avg_directors_titles_ratings = pd.read_parquet(\"../data/edited_data/intermediate.db/avg_directors_titles_ratings\")\n",
    "\"\"\""
   ]
  },
  {
   "cell_type": "code",
   "execution_count": 396,
   "metadata": {},
   "outputs": [],
   "source": [
    "data = (\n",
    "    title_perimeter.set_index(\"tconst\")\n",
    "    .join(features_titles_actors_ratings)\n",
    "    .join(features_titles_directors_ratings)\n",
    "    .join(features_titles_genres_ratings)\n",
    "    .join(features_basics)\n",
    "    .join(features_genres)\n",
    "    .join(title_budget)\n",
    "    .join(features_titles)\n",
    "    .join(title_ratings)\n",
    ")"
   ]
  },
  {
   "cell_type": "code",
   "execution_count": 397,
   "metadata": {},
   "outputs": [
    {
     "name": "stdout",
     "output_type": "stream",
     "text": [
      "<class 'pandas.core.frame.DataFrame'>\n",
      "Index: 528662 entries, tt0000009 to tt9916754\n",
      "Data columns (total 46 columns):\n",
      "averageRating_actor_min        278406 non-null float64\n",
      "averageRating_actor_mean       278406 non-null float64\n",
      "averageRating_actor_max        278406 non-null float64\n",
      "averageRating_director_min     226021 non-null float64\n",
      "averageRating_director_mean    226021 non-null float64\n",
      "averageRating_director_max     226021 non-null float64\n",
      "averageRating_genre_min        405768 non-null float64\n",
      "averageRating_genre_mean       405768 non-null float64\n",
      "averageRating_genre_max        405768 non-null float64\n",
      "isAdult                        450695 non-null float64\n",
      "runtimeMinutes                 311054 non-null object\n",
      "age                            407858 non-null float64\n",
      "genre_Action                   405768 non-null float64\n",
      "genre_Adult                    405768 non-null float64\n",
      "genre_Adventure                405768 non-null float64\n",
      "genre_Animation                405768 non-null float64\n",
      "genre_Biography                405768 non-null float64\n",
      "genre_Comedy                   405768 non-null float64\n",
      "genre_Crime                    405768 non-null float64\n",
      "genre_Documentary              405768 non-null float64\n",
      "genre_Drama                    405768 non-null float64\n",
      "genre_Family                   405768 non-null float64\n",
      "genre_Fantasy                  405768 non-null float64\n",
      "genre_Film-Noir                405768 non-null float64\n",
      "genre_Game-Show                405768 non-null float64\n",
      "genre_History                  405768 non-null float64\n",
      "genre_Horror                   405768 non-null float64\n",
      "genre_Music                    405768 non-null float64\n",
      "genre_Musical                  405768 non-null float64\n",
      "genre_Mystery                  405768 non-null float64\n",
      "genre_News                     405768 non-null float64\n",
      "genre_Reality-TV               405768 non-null float64\n",
      "genre_Romance                  405768 non-null float64\n",
      "genre_Sci-Fi                   405768 non-null float64\n",
      "genre_Short                    405768 non-null float64\n",
      "genre_Sport                    405768 non-null float64\n",
      "genre_Talk-Show                405768 non-null float64\n",
      "genre_Thriller                 405768 non-null float64\n",
      "genre_War                      405768 non-null float64\n",
      "genre_Western                  405768 non-null float64\n",
      "ProductionBudget               3750 non-null float64\n",
      "primaryTitle                   450695 non-null object\n",
      "nLetters                       450695 non-null float64\n",
      "nCapitalLetters                450695 non-null float64\n",
      "nWords                         450695 non-null float64\n",
      "averageRating                  228464 non-null float64\n",
      "dtypes: float64(44), object(2)\n",
      "memory usage: 209.6+ MB\n"
     ]
    }
   ],
   "source": [
    "data.info()"
   ]
  },
  {
   "cell_type": "code",
   "execution_count": 398,
   "metadata": {},
   "outputs": [],
   "source": [
    "data.to_parquet(\"../data/edited_data/modeling/data\")"
   ]
  },
  {
   "cell_type": "code",
   "execution_count": null,
   "metadata": {},
   "outputs": [],
   "source": []
  }
 ],
 "metadata": {
  "kernelspec": {
   "display_name": "Python 3",
   "language": "python",
   "name": "python3"
  },
  "language_info": {
   "codemirror_mode": {
    "name": "ipython",
    "version": 3
   },
   "file_extension": ".py",
   "mimetype": "text/x-python",
   "name": "python",
   "nbconvert_exporter": "python",
   "pygments_lexer": "ipython3",
   "version": "3.7.4"
  }
 },
 "nbformat": 4,
 "nbformat_minor": 2
}
