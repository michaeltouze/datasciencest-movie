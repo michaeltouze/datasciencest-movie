{
 "cells": [
  {
   "cell_type": "code",
   "execution_count": 2,
   "metadata": {},
   "outputs": [],
   "source": [
    "import pandas as pd\n",
    "import numpy as np\n",
    "import os\n",
    "import pyspark\n",
    "import pyspark.sql.functions as F"
   ]
  },
  {
   "cell_type": "markdown",
   "metadata": {},
   "source": [
    "# average ratings\n",
    "###  average rating per actors"
   ]
  },
  {
   "cell_type": "code",
   "execution_count": null,
   "metadata": {
    "collapsed": true
   },
   "outputs": [],
   "source": [
    "link_name_basics_titles = pd.read_parquet(\"../data/edited_data/datamart.db/link_name_basics_titles\")\n",
    "title_ratings = pd.read_parquet(\"../data/edited_data/datamart.db/title_ratings\")\n",
    "title_basics = pd.read_parquet(\"../data/edited_data/datamart.db/title_basics\")"
   ]
  },
  {
   "cell_type": "code",
   "execution_count": null,
   "metadata": {
    "collapsed": true
   },
   "outputs": [],
   "source": [
    "link_name_basics_titles_start_year = (\n",
    "    link_name_basics_titles\n",
    "    .merge(title_basics[[\"tconst\", \"startYear\"]], left_on=\"tconst\", right_on=\"tconst\")\n",
    ")"
   ]
  },
  {
   "cell_type": "code",
   "execution_count": null,
   "metadata": {},
   "outputs": [],
   "source": [
    "name_avg_ratings = (\n",
    "    link_name_basics_titles_start_year\n",
    "    .merge(\n",
    "        link_name_basics_titles_start_year.rename(columns={\"tconst\": \"_tconst\", \"startYear\": \"_startYear\"}), \n",
    "        right_on=\"nconst\", left_on=\"nconst\")\n",
    "    .merge(title_ratings.rename(columns={\"tconst\": \"_tconst\"}), right_on=\"_tconst\", left_on=\"_tconst\")\n",
    ")\n",
    "\n",
    "name_avg_ratings = name_avg_ratings[name_avg_ratings._startYear < name_avg_ratings.startYear]\n",
    "name_avg_ratings = name_avg_ratings.groupby([\"tconst\", \"nconst\"])[[\"averageRating\", \"numVotes\"]].mean()\n",
    "name_avg_ratings = name_avg_ratings.rename(\n",
    "    columns={\n",
    "        \"averageRating\": \"averageRating_name\",\n",
    "        \"numVotes\": \"numVotes_name\",\n",
    "    }\n",
    ")\n",
    "name_avg_ratings.head()"
   ]
  },
  {
   "cell_type": "code",
   "execution_count": null,
   "metadata": {},
   "outputs": [],
   "source": [
    "title_name_avg_ratings = name_avg_ratings.groupby(\"tconst\")[[\"averageRating_name\", \"numVotes_name\"]].mean()\n",
    "title_name_avg_ratings.head()"
   ]
  },
  {
   "cell_type": "code",
   "execution_count": null,
   "metadata": {
    "collapsed": true
   },
   "outputs": [],
   "source": [
    "title_name_avg_ratings.to_parquet(\"../data/edited_data/intermediate.db/title_name_avg_ratings\")"
   ]
  },
  {
   "cell_type": "markdown",
   "metadata": {},
   "source": [
    "### average rating per genre"
   ]
  },
  {
   "cell_type": "code",
   "execution_count": null,
   "metadata": {
    "collapsed": true
   },
   "outputs": [],
   "source": [
    "title_basics = pd.read_parquet(\"../data/edited_data/datamart.db/title_basics\")\n",
    "title_ratings = pd.read_parquet(\"../data/edited_data/datamart.db/title_ratings\")\n",
    "\n",
    "title_basics.set_index(\"tconst\", inplace=True)\n",
    "title_ratings.set_index(\"tconst\", inplace=True)"
   ]
  },
  {
   "cell_type": "code",
   "execution_count": null,
   "metadata": {},
   "outputs": [],
   "source": [
    "genre_ratings = title_basics[[\"titleType\"]].join(title_ratings, how=\"left\")\n",
    "\n",
    "genres_avg_ratings = genre_ratings.groupby([\"titleType\"]).mean()\n",
    "genres_avg_ratings = genres_avg_ratings.rename(\n",
    "    columns={\n",
    "        \"averageRating\": \"averageRating_genres\", \n",
    "        \"numVotes\": \"numVotes_genres\"\n",
    "    }\n",
    ")\n",
    "\n",
    "genres_avg_ratings.head()"
   ]
  },
  {
   "cell_type": "code",
   "execution_count": null,
   "metadata": {},
   "outputs": [],
   "source": [
    "title_genres_avg_ratings = title_basics[[\"titleType\"]].join(genres_avg_ratings, on=\"titleType\")\n",
    "title_genres_avg_ratings.head()"
   ]
  },
  {
   "cell_type": "code",
   "execution_count": null,
   "metadata": {
    "collapsed": true
   },
   "outputs": [],
   "source": [
    "title_genres_avg_ratings.to_parquet(\"../data/edited_data/intermediate.db/title_genres_avg_ratings\")"
   ]
  },
  {
   "cell_type": "markdown",
   "metadata": {},
   "source": [
    "### average rating per crew"
   ]
  },
  {
   "cell_type": "code",
   "execution_count": 3,
   "metadata": {},
   "outputs": [],
   "source": [
    "title_principals = pd.read_parquet(\"../data/edited_data/datamart.db/title_principals\")\n",
    "link_name_basics_titles = pd.read_parquet(\"../data/edited_data/datamart.db/link_name_basics_titles\")\n",
    "title_ratings = pd.read_parquet(\"../data/edited_data/datamart.db/title_ratings\")\n",
    "title_basics = pd.read_parquet(\"../data/edited_data/datamart.db/title_basics\")"
   ]
  },
  {
   "cell_type": "code",
   "execution_count": 4,
   "metadata": {},
   "outputs": [],
   "source": [
    "link_name_basics_titles_start_year = (\n",
    "    link_name_basics_titles\n",
    "    .merge(title_basics[[\"tconst\", \"startYear\"]], left_on=\"tconst\", right_on=\"tconst\")\n",
    ")"
   ]
  },
  {
   "cell_type": "code",
   "execution_count": 5,
   "metadata": {},
   "outputs": [],
   "source": [
    "crew_avg_ratings_raw = (\n",
    "    link_name_basics_titles_start_year\n",
    "    .merge(\n",
    "        link_name_basics_titles_start_year.rename(columns={\"tconst\": \"_tconst\", \"startYear\": \"_startYear\"}), \n",
    "        right_on=\"nconst\", left_on=\"nconst\")\n",
    "    .merge(title_ratings.rename(columns={\"tconst\": \"_tconst\"}), right_on=\"_tconst\", left_on=\"_tconst\")  \n",
    ")    "
   ]
  },
  {
   "cell_type": "code",
   "execution_count": 6,
   "metadata": {},
   "outputs": [
    {
     "data": {
      "text/html": [
       "<div>\n",
       "<style scoped>\n",
       "    .dataframe tbody tr th:only-of-type {\n",
       "        vertical-align: middle;\n",
       "    }\n",
       "\n",
       "    .dataframe tbody tr th {\n",
       "        vertical-align: top;\n",
       "    }\n",
       "\n",
       "    .dataframe thead th {\n",
       "        text-align: right;\n",
       "    }\n",
       "</style>\n",
       "<table border=\"1\" class=\"dataframe\">\n",
       "  <thead>\n",
       "    <tr style=\"text-align: right;\">\n",
       "      <th></th>\n",
       "      <th>nconst</th>\n",
       "      <th>tconst</th>\n",
       "      <th>startYear</th>\n",
       "      <th>_tconst</th>\n",
       "      <th>_startYear</th>\n",
       "      <th>averageRating</th>\n",
       "      <th>numVotes</th>\n",
       "    </tr>\n",
       "  </thead>\n",
       "  <tbody>\n",
       "    <tr>\n",
       "      <td>0</td>\n",
       "      <td>nm0000198</td>\n",
       "      <td>tt4555426</td>\n",
       "      <td>2017.0</td>\n",
       "      <td>tt4555426</td>\n",
       "      <td>2017.0</td>\n",
       "      <td>7.4</td>\n",
       "      <td>140294</td>\n",
       "    </tr>\n",
       "    <tr>\n",
       "      <td>1</td>\n",
       "      <td>nm0000198</td>\n",
       "      <td>tt1340800</td>\n",
       "      <td>2011.0</td>\n",
       "      <td>tt4555426</td>\n",
       "      <td>2017.0</td>\n",
       "      <td>7.4</td>\n",
       "      <td>140294</td>\n",
       "    </tr>\n",
       "    <tr>\n",
       "      <td>2</td>\n",
       "      <td>nm0000198</td>\n",
       "      <td>tt0468569</td>\n",
       "      <td>2008.0</td>\n",
       "      <td>tt4555426</td>\n",
       "      <td>2017.0</td>\n",
       "      <td>7.4</td>\n",
       "      <td>140294</td>\n",
       "    </tr>\n",
       "    <tr>\n",
       "      <td>3</td>\n",
       "      <td>nm0000198</td>\n",
       "      <td>tt0103874</td>\n",
       "      <td>1992.0</td>\n",
       "      <td>tt4555426</td>\n",
       "      <td>2017.0</td>\n",
       "      <td>7.4</td>\n",
       "      <td>140294</td>\n",
       "    </tr>\n",
       "    <tr>\n",
       "      <td>4</td>\n",
       "      <td>nm7322064</td>\n",
       "      <td>tt4555426</td>\n",
       "      <td>2017.0</td>\n",
       "      <td>tt4555426</td>\n",
       "      <td>2017.0</td>\n",
       "      <td>7.4</td>\n",
       "      <td>140294</td>\n",
       "    </tr>\n",
       "  </tbody>\n",
       "</table>\n",
       "</div>"
      ],
      "text/plain": [
       "      nconst     tconst  startYear    _tconst  _startYear  averageRating  \\\n",
       "0  nm0000198  tt4555426     2017.0  tt4555426      2017.0            7.4   \n",
       "1  nm0000198  tt1340800     2011.0  tt4555426      2017.0            7.4   \n",
       "2  nm0000198  tt0468569     2008.0  tt4555426      2017.0            7.4   \n",
       "3  nm0000198  tt0103874     1992.0  tt4555426      2017.0            7.4   \n",
       "4  nm7322064  tt4555426     2017.0  tt4555426      2017.0            7.4   \n",
       "\n",
       "   numVotes  \n",
       "0    140294  \n",
       "1    140294  \n",
       "2    140294  \n",
       "3    140294  \n",
       "4    140294  "
      ]
     },
     "execution_count": 6,
     "metadata": {},
     "output_type": "execute_result"
    }
   ],
   "source": [
    "crew_avg_ratings_raw.head()"
   ]
  },
  {
   "cell_type": "code",
   "execution_count": 7,
   "metadata": {},
   "outputs": [],
   "source": [
    "crew_avg_ratings_raw = crew_avg_ratings_raw.merge(\n",
    "    title_principals[[\"category\",\"nconst\"]], \n",
    "    right_on=[\"tconst\",\"nconst\"], \n",
    "    left_on=[\"tconst\",\"nconst\"]) "
   ]
  },
  {
   "cell_type": "code",
   "execution_count": 8,
   "metadata": {},
   "outputs": [
    {
     "data": {
      "text/html": [
       "<div>\n",
       "<style scoped>\n",
       "    .dataframe tbody tr th:only-of-type {\n",
       "        vertical-align: middle;\n",
       "    }\n",
       "\n",
       "    .dataframe tbody tr th {\n",
       "        vertical-align: top;\n",
       "    }\n",
       "\n",
       "    .dataframe thead th {\n",
       "        text-align: right;\n",
       "    }\n",
       "</style>\n",
       "<table border=\"1\" class=\"dataframe\">\n",
       "  <thead>\n",
       "    <tr style=\"text-align: right;\">\n",
       "      <th></th>\n",
       "      <th>nconst</th>\n",
       "      <th>tconst</th>\n",
       "      <th>startYear</th>\n",
       "      <th>_tconst</th>\n",
       "      <th>_startYear</th>\n",
       "      <th>averageRating</th>\n",
       "      <th>numVotes</th>\n",
       "      <th>category</th>\n",
       "    </tr>\n",
       "  </thead>\n",
       "  <tbody>\n",
       "    <tr>\n",
       "      <td>0</td>\n",
       "      <td>nm0000198</td>\n",
       "      <td>tt4555426</td>\n",
       "      <td>2017.0</td>\n",
       "      <td>tt4555426</td>\n",
       "      <td>2017.0</td>\n",
       "      <td>7.4</td>\n",
       "      <td>140294</td>\n",
       "      <td>actor</td>\n",
       "    </tr>\n",
       "    <tr>\n",
       "      <td>1</td>\n",
       "      <td>nm0000198</td>\n",
       "      <td>tt4555426</td>\n",
       "      <td>2017.0</td>\n",
       "      <td>tt1340800</td>\n",
       "      <td>2011.0</td>\n",
       "      <td>7.1</td>\n",
       "      <td>176138</td>\n",
       "      <td>actor</td>\n",
       "    </tr>\n",
       "    <tr>\n",
       "      <td>2</td>\n",
       "      <td>nm0000198</td>\n",
       "      <td>tt4555426</td>\n",
       "      <td>2017.0</td>\n",
       "      <td>tt0468569</td>\n",
       "      <td>2008.0</td>\n",
       "      <td>9.0</td>\n",
       "      <td>2093112</td>\n",
       "      <td>actor</td>\n",
       "    </tr>\n",
       "    <tr>\n",
       "      <td>3</td>\n",
       "      <td>nm0000198</td>\n",
       "      <td>tt4555426</td>\n",
       "      <td>2017.0</td>\n",
       "      <td>tt0103874</td>\n",
       "      <td>1992.0</td>\n",
       "      <td>7.4</td>\n",
       "      <td>175613</td>\n",
       "      <td>actor</td>\n",
       "    </tr>\n",
       "    <tr>\n",
       "      <td>4</td>\n",
       "      <td>nm0000198</td>\n",
       "      <td>tt1340800</td>\n",
       "      <td>2011.0</td>\n",
       "      <td>tt4555426</td>\n",
       "      <td>2017.0</td>\n",
       "      <td>7.4</td>\n",
       "      <td>140294</td>\n",
       "      <td>actor</td>\n",
       "    </tr>\n",
       "  </tbody>\n",
       "</table>\n",
       "</div>"
      ],
      "text/plain": [
       "      nconst     tconst  startYear    _tconst  _startYear  averageRating  \\\n",
       "0  nm0000198  tt4555426     2017.0  tt4555426      2017.0            7.4   \n",
       "1  nm0000198  tt4555426     2017.0  tt1340800      2011.0            7.1   \n",
       "2  nm0000198  tt4555426     2017.0  tt0468569      2008.0            9.0   \n",
       "3  nm0000198  tt4555426     2017.0  tt0103874      1992.0            7.4   \n",
       "4  nm0000198  tt1340800     2011.0  tt4555426      2017.0            7.4   \n",
       "\n",
       "   numVotes category  \n",
       "0    140294    actor  \n",
       "1    176138    actor  \n",
       "2   2093112    actor  \n",
       "3    175613    actor  \n",
       "4    140294    actor  "
      ]
     },
     "execution_count": 8,
     "metadata": {},
     "output_type": "execute_result"
    }
   ],
   "source": [
    "crew_avg_ratings_raw.head()"
   ]
  },
  {
   "cell_type": "code",
   "execution_count": 9,
   "metadata": {},
   "outputs": [],
   "source": [
    "crew_avg_ratings_raw = crew_avg_ratings_raw[crew_avg_ratings_raw._startYear < crew_avg_ratings_raw.startYear]"
   ]
  },
  {
   "cell_type": "code",
   "execution_count": 10,
   "metadata": {},
   "outputs": [],
   "source": [
    "crew_avg_ratings_raw = crew_avg_ratings_raw.groupby([\"tconst\", \"nconst\",\"category\"])[[\"averageRating\", \"numVotes\"]].mean()\n",
    "crew_avg_ratings = crew_avg_ratings_raw.groupby([\"tconst\",\"category\"])[[\"averageRating\", \"numVotes\"]].mean()"
   ]
  },
  {
   "cell_type": "code",
   "execution_count": 11,
   "metadata": {},
   "outputs": [],
   "source": [
    "categories = {\"actor\": \"actor\",\n",
    "\"actress\": \"actor\",\n",
    "\"archive_footage\": \"other\",\n",
    "\"archive_sound\": \"other\",\n",
    "\"cinematographer\": \"other\",\n",
    "\"composer\": \"other\",\n",
    "\"director\": \"director\",\n",
    "\"editor\": \"other\",\n",
    "\"producer\": \"producer\",\n",
    "\"production_designer\": \"other\",\n",
    "\"self\": \"actor\",\n",
    "\"writer\": \"other\"\n",
    "}"
   ]
  },
  {
   "cell_type": "code",
   "execution_count": 12,
   "metadata": {},
   "outputs": [],
   "source": [
    "#Run only once\n",
    "crew_avg_ratings = crew_avg_ratings.reset_index(level=1)"
   ]
  },
  {
   "cell_type": "code",
   "execution_count": 13,
   "metadata": {},
   "outputs": [
    {
     "data": {
      "text/html": [
       "<div>\n",
       "<style scoped>\n",
       "    .dataframe tbody tr th:only-of-type {\n",
       "        vertical-align: middle;\n",
       "    }\n",
       "\n",
       "    .dataframe tbody tr th {\n",
       "        vertical-align: top;\n",
       "    }\n",
       "\n",
       "    .dataframe thead th {\n",
       "        text-align: right;\n",
       "    }\n",
       "</style>\n",
       "<table border=\"1\" class=\"dataframe\">\n",
       "  <thead>\n",
       "    <tr style=\"text-align: right;\">\n",
       "      <th></th>\n",
       "      <th>category</th>\n",
       "      <th>averageRating</th>\n",
       "      <th>numVotes</th>\n",
       "      <th>category_agg</th>\n",
       "    </tr>\n",
       "    <tr>\n",
       "      <th>tconst</th>\n",
       "      <th></th>\n",
       "      <th></th>\n",
       "      <th></th>\n",
       "      <th></th>\n",
       "    </tr>\n",
       "  </thead>\n",
       "  <tbody>\n",
       "    <tr>\n",
       "      <td>tt0002143</td>\n",
       "      <td>writer</td>\n",
       "      <td>5.90</td>\n",
       "      <td>29.0</td>\n",
       "      <td>other</td>\n",
       "    </tr>\n",
       "    <tr>\n",
       "      <td>tt0011396</td>\n",
       "      <td>writer</td>\n",
       "      <td>5.60</td>\n",
       "      <td>24.0</td>\n",
       "      <td>other</td>\n",
       "    </tr>\n",
       "    <tr>\n",
       "      <td>tt0012025</td>\n",
       "      <td>writer</td>\n",
       "      <td>5.85</td>\n",
       "      <td>24.0</td>\n",
       "      <td>other</td>\n",
       "    </tr>\n",
       "    <tr>\n",
       "      <td>tt0015268</td>\n",
       "      <td>director</td>\n",
       "      <td>7.00</td>\n",
       "      <td>757.0</td>\n",
       "      <td>director</td>\n",
       "    </tr>\n",
       "    <tr>\n",
       "      <td>tt0015650</td>\n",
       "      <td>director</td>\n",
       "      <td>7.30</td>\n",
       "      <td>1394.0</td>\n",
       "      <td>director</td>\n",
       "    </tr>\n",
       "  </tbody>\n",
       "</table>\n",
       "</div>"
      ],
      "text/plain": [
       "           category  averageRating  numVotes category_agg\n",
       "tconst                                                   \n",
       "tt0002143    writer           5.90      29.0        other\n",
       "tt0011396    writer           5.60      24.0        other\n",
       "tt0012025    writer           5.85      24.0        other\n",
       "tt0015268  director           7.00     757.0     director\n",
       "tt0015650  director           7.30    1394.0     director"
      ]
     },
     "execution_count": 13,
     "metadata": {},
     "output_type": "execute_result"
    }
   ],
   "source": [
    "crew_avg_ratings['category_agg'] = crew_avg_ratings[\"category\"].apply(lambda x: categories[x])\n",
    "crew_avg_ratings.head()"
   ]
  },
  {
   "cell_type": "code",
   "execution_count": 14,
   "metadata": {},
   "outputs": [
    {
     "data": {
      "text/html": [
       "<div>\n",
       "<style scoped>\n",
       "    .dataframe tbody tr th:only-of-type {\n",
       "        vertical-align: middle;\n",
       "    }\n",
       "\n",
       "    .dataframe tbody tr th {\n",
       "        vertical-align: top;\n",
       "    }\n",
       "\n",
       "    .dataframe thead th {\n",
       "        text-align: right;\n",
       "    }\n",
       "</style>\n",
       "<table border=\"1\" class=\"dataframe\">\n",
       "  <thead>\n",
       "    <tr style=\"text-align: right;\">\n",
       "      <th></th>\n",
       "      <th></th>\n",
       "      <th>averageRating</th>\n",
       "      <th>numVotes</th>\n",
       "    </tr>\n",
       "    <tr>\n",
       "      <th>tconst</th>\n",
       "      <th>category_agg</th>\n",
       "      <th></th>\n",
       "      <th></th>\n",
       "    </tr>\n",
       "  </thead>\n",
       "  <tbody>\n",
       "    <tr>\n",
       "      <td>tt0002143</td>\n",
       "      <td>other</td>\n",
       "      <td>5.90</td>\n",
       "      <td>29.0</td>\n",
       "    </tr>\n",
       "    <tr>\n",
       "      <td>tt0011396</td>\n",
       "      <td>other</td>\n",
       "      <td>5.60</td>\n",
       "      <td>24.0</td>\n",
       "    </tr>\n",
       "    <tr>\n",
       "      <td>tt0012025</td>\n",
       "      <td>other</td>\n",
       "      <td>5.85</td>\n",
       "      <td>24.0</td>\n",
       "    </tr>\n",
       "    <tr>\n",
       "      <td>tt0015268</td>\n",
       "      <td>director</td>\n",
       "      <td>7.00</td>\n",
       "      <td>757.0</td>\n",
       "    </tr>\n",
       "    <tr>\n",
       "      <td>tt0015650</td>\n",
       "      <td>director</td>\n",
       "      <td>7.30</td>\n",
       "      <td>1394.0</td>\n",
       "    </tr>\n",
       "  </tbody>\n",
       "</table>\n",
       "</div>"
      ],
      "text/plain": [
       "                        averageRating  numVotes\n",
       "tconst    category_agg                         \n",
       "tt0002143 other                  5.90      29.0\n",
       "tt0011396 other                  5.60      24.0\n",
       "tt0012025 other                  5.85      24.0\n",
       "tt0015268 director               7.00     757.0\n",
       "tt0015650 director               7.30    1394.0"
      ]
     },
     "execution_count": 14,
     "metadata": {},
     "output_type": "execute_result"
    }
   ],
   "source": [
    "crew_avg_ratings_final = crew_avg_ratings.groupby([\"tconst\",'category_agg'])[[\"averageRating\", \"numVotes\"]].mean()\n",
    "crew_avg_ratings_final.head()"
   ]
  },
  {
   "cell_type": "code",
   "execution_count": 15,
   "metadata": {},
   "outputs": [],
   "source": [
    "title_avg_ratings_crew_category = (\n",
    "    crew_avg_ratings_final\n",
    "    .reset_index()\n",
    "    .pivot(index='tconst',columns='category_agg',values='averageRating')\n",
    "    .rename(columns={\"averageRating\": \"averageRating_crewCategory\"})\n",
    ")"
   ]
  },
  {
   "cell_type": "code",
   "execution_count": 16,
   "metadata": {},
   "outputs": [],
   "source": [
    "title_avg_ratings_crew_category.to_parquet(\"../data/edited_data/intermediate.db/title_avg_ratings_crew_category\")"
   ]
  },
  {
   "cell_type": "markdown",
   "metadata": {},
   "source": [
    "# budget\n",
    "### Link movie.budget to title.basics"
   ]
  },
  {
   "cell_type": "code",
   "execution_count": null,
   "metadata": {
    "collapsed": true
   },
   "outputs": [],
   "source": [
    "import pyspark\n",
    "import os\n",
    "import pandas as pd"
   ]
  },
  {
   "cell_type": "code",
   "execution_count": null,
   "metadata": {
    "collapsed": true
   },
   "outputs": [],
   "source": [
    "movie_budget = pd.read_parquet(\"../data/parsed_data/movie_budget\")\n",
    "title_basics = pd.read_parquet(\"../data/edited_data/datamart.db/title_basics\")"
   ]
  },
  {
   "cell_type": "code",
   "execution_count": null,
   "metadata": {},
   "outputs": [],
   "source": [
    "movie_budget.info()"
   ]
  },
  {
   "cell_type": "code",
   "execution_count": null,
   "metadata": {
    "collapsed": true
   },
   "outputs": [],
   "source": [
    "movie_budget[\"title\"] = movie_budget.Movie.str.lower().replace(\"\\W\", \"\", regex=True)\n",
    "movie_budget = movie_budget.set_index(\"title\")"
   ]
  },
  {
   "cell_type": "code",
   "execution_count": null,
   "metadata": {},
   "outputs": [],
   "source": [
    "movie_budget.head()"
   ]
  },
  {
   "cell_type": "code",
   "execution_count": null,
   "metadata": {
    "collapsed": true
   },
   "outputs": [],
   "source": [
    "title_basics[\"title\"] = title_basics.originalTitle.str.lower().replace(\"\\W\", \"\", regex=True)\n",
    "title_basics = title_basics[title_basics.titleType == \"movie\"]\n",
    "title_basics = title_basics.set_index(\"title\")"
   ]
  },
  {
   "cell_type": "code",
   "execution_count": null,
   "metadata": {},
   "outputs": [],
   "source": [
    "title_basics.head()"
   ]
  },
  {
   "cell_type": "code",
   "execution_count": null,
   "metadata": {
    "collapsed": true
   },
   "outputs": [],
   "source": [
    "title_basics[\"titleBasicsFlag\"] = True\n",
    "\n",
    "title_budget = (\n",
    "    movie_budget\n",
    "    .join(title_basics[[\"titleBasicsFlag\", \"tconst\"]], how=\"left\")\n",
    ")"
   ]
  },
  {
   "cell_type": "code",
   "execution_count": null,
   "metadata": {},
   "outputs": [],
   "source": [
    "title_basics[title_basics.tconst.isin([\"tt5671400\", \"tt2388621\", \"tt7725384\"])]"
   ]
  },
  {
   "cell_type": "code",
   "execution_count": null,
   "metadata": {},
   "outputs": [],
   "source": [
    "title_budget.head(10)"
   ]
  },
  {
   "cell_type": "code",
   "execution_count": null,
   "metadata": {},
   "outputs": [],
   "source": [
    "title_budget.titleBasicsFlag.value_counts()"
   ]
  },
  {
   "cell_type": "code",
   "execution_count": null,
   "metadata": {
    "collapsed": true
   },
   "outputs": [],
   "source": [
    "n_obs = pd.DataFrame(title_budget.groupby(title_budget.index).size()).rename(columns={0: \"nObs\"})\n",
    "title_budget = title_budget.join(n_obs)\n",
    "title_budget = title_budget[title_budget.nObs == 1]"
   ]
  },
  {
   "cell_type": "code",
   "execution_count": null,
   "metadata": {},
   "outputs": [],
   "source": [
    "title_budget.titleBasicsFlag.value_counts()"
   ]
  },
  {
   "cell_type": "code",
   "execution_count": null,
   "metadata": {
    "collapsed": true
   },
   "outputs": [],
   "source": [
    "title_budget = title_budget.reset_index().set_index(\"tconst\")"
   ]
  },
  {
   "cell_type": "code",
   "execution_count": null,
   "metadata": {
    "collapsed": true
   },
   "outputs": [],
   "source": [
    "title_budget.to_parquet(\"../data/edited_data/intermediate.db/title_budget\")"
   ]
  },
  {
   "cell_type": "markdown",
   "metadata": {},
   "source": [
    "### primary_title"
   ]
  },
  {
   "cell_type": "code",
   "execution_count": null,
   "metadata": {
    "collapsed": true
   },
   "outputs": [],
   "source": [
    "title_basics = pd.read_parquet(\"../data/edited_data/datamart.db/title_basics\")\n",
    "title_basics.set_index(\"tconst\", inplace=True)"
   ]
  },
  {
   "cell_type": "code",
   "execution_count": null,
   "metadata": {},
   "outputs": [],
   "source": [
    "primary_title = title_basics[[\"primaryTitle\"]]\n",
    "primary_title[\"nLetters\"] = primary_title.primaryTitle.str.len()\n",
    "primary_title[\"nCapitalLetters\"] = primary_title.primaryTitle.apply(lambda x: sum(1 for c in x if c.isupper()))\n",
    "primary_title[\"nWords\"] = primary_title.primaryTitle.str.split(\"\\W\").str.len()"
   ]
  },
  {
   "cell_type": "code",
   "execution_count": null,
   "metadata": {},
   "outputs": [],
   "source": [
    "primary_title.head()"
   ]
  },
  {
   "cell_type": "code",
   "execution_count": null,
   "metadata": {
    "collapsed": true
   },
   "outputs": [],
   "source": [
    "primary_title.to_parquet(\"../data/edited_data/intermediate.db/primary_title\")"
   ]
  },
  {
   "cell_type": "markdown",
   "metadata": {
    "collapsed": true
   },
   "source": [
    "# modeling database"
   ]
  },
  {
   "cell_type": "code",
   "execution_count": 19,
   "metadata": {},
   "outputs": [],
   "source": [
    "tconst = pd.read_parquet(\"../data/edited_data/datamart.db/tconst\")\n",
    "title_name_avg_ratings = pd.read_parquet(\"../data/edited_data/intermediate.db/title_name_avg_ratings\")\n",
    "title_genres_avg_ratings = pd.read_parquet(\"../data/edited_data/intermediate.db/title_genres_avg_ratings\")\n",
    "primary_title = pd.read_parquet(\"../data/edited_data/intermediate.db/primary_title\")\n",
    "title_budget = pd.read_parquet(\"../data/edited_data/intermediate.db/title_budget\")\n",
    "title_avg_ratings_crew_category = pd.read_parquet(\"../data/edited_data/intermediate.db/title_avg_ratings_crew_category\")\n",
    "title_ratings = pd.read_parquet(\"../data/edited_data/datamart.db/title_ratings\").set_index(\"tconst\")"
   ]
  },
  {
   "cell_type": "code",
   "execution_count": 20,
   "metadata": {},
   "outputs": [],
   "source": [
    "data = (\n",
    "    tconst.set_index(\"tconst\")\n",
    "    .join(title_name_avg_ratings)\n",
    "    .join(title_genres_avg_ratings)\n",
    "    .join(title_budget)\n",
    "    .join(primary_title)\n",
    "    .join(title_avg_ratings_crew_category)\n",
    "    .join(title_ratings, how=\"inner\")\n",
    ")"
   ]
  },
  {
   "cell_type": "code",
   "execution_count": 21,
   "metadata": {},
   "outputs": [],
   "source": [
    "data.to_parquet(\"../data/edited_data/modeling/data\")"
   ]
  },
  {
   "cell_type": "code",
   "execution_count": null,
   "metadata": {},
   "outputs": [],
   "source": []
  }
 ],
 "metadata": {
  "kernelspec": {
   "display_name": "Python 3",
   "language": "python",
   "name": "python3"
  },
  "language_info": {
   "codemirror_mode": {
    "name": "ipython",
    "version": 3
   },
   "file_extension": ".py",
   "mimetype": "text/x-python",
   "name": "python",
   "nbconvert_exporter": "python",
   "pygments_lexer": "ipython3",
   "version": "3.7.4"
  }
 },
 "nbformat": 4,
 "nbformat_minor": 2
}
