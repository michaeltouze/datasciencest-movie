{
 "cells": [
  {
   "cell_type": "code",
   "execution_count": 2,
   "metadata": {},
   "outputs": [],
   "source": [
    "import pandas as pd\n",
    "import numpy as np\n",
    "import os\n",
    "import pyspark\n",
    "import pyspark.sql.functions as F"
   ]
  },
  {
   "cell_type": "markdown",
   "metadata": {},
   "source": [
    "# average ratings\n",
    "###  average rating per actors"
   ]
  },
  {
   "cell_type": "code",
   "execution_count": null,
   "metadata": {
    "collapsed": true
   },
   "outputs": [],
   "source": [
    "link_name_basics_titles = pd.read_parquet(\"../data/edited_data/datamart.db/link_name_basics_titles\")\n",
    "title_ratings = pd.read_parquet(\"../data/edited_data/datamart.db/title_ratings\")\n",
    "title_basics = pd.read_parquet(\"../data/edited_data/datamart.db/title_basics\")"
   ]
  },
  {
   "cell_type": "code",
   "execution_count": null,
   "metadata": {
    "collapsed": true
   },
   "outputs": [],
   "source": [
    "link_name_basics_titles_start_year = (\n",
    "    link_name_basics_titles\n",
    "    .merge(title_basics[[\"tconst\", \"startYear\"]], left_on=\"tconst\", right_on=\"tconst\")\n",
    ")"
   ]
  },
  {
   "cell_type": "code",
   "execution_count": null,
   "metadata": {},
   "outputs": [],
   "source": [
    "name_avg_ratings = (\n",
    "    link_name_basics_titles_start_year\n",
    "    .merge(\n",
    "        link_name_basics_titles_start_year.rename(columns={\"tconst\": \"_tconst\", \"startYear\": \"_startYear\"}), \n",
    "        right_on=\"nconst\", left_on=\"nconst\")\n",
    "    .merge(title_ratings.rename(columns={\"tconst\": \"_tconst\"}), right_on=\"_tconst\", left_on=\"_tconst\")\n",
    ")\n",
    "\n",
    "name_avg_ratings = name_avg_ratings[name_avg_ratings._startYear < name_avg_ratings.startYear]\n",
    "name_avg_ratings = name_avg_ratings.groupby([\"tconst\", \"nconst\"])[[\"averageRating\", \"numVotes\"]].mean()\n",
    "name_avg_ratings = name_avg_ratings.rename(\n",
    "    columns={\n",
    "        \"averageRating\": \"averageRating_name\",\n",
    "        \"numVotes\": \"numVotes_name\",\n",
    "    }\n",
    ")\n",
    "name_avg_ratings.head()"
   ]
  },
  {
   "cell_type": "code",
   "execution_count": null,
   "metadata": {},
   "outputs": [],
   "source": [
    "title_name_avg_ratings = name_avg_ratings.groupby(\"tconst\")[[\"averageRating_name\", \"numVotes_name\"]].mean()\n",
    "title_name_avg_ratings.head()"
   ]
  },
  {
   "cell_type": "code",
   "execution_count": null,
   "metadata": {
    "collapsed": true
   },
   "outputs": [],
   "source": [
    "title_name_avg_ratings.to_parquet(\"../data/edited_data/intermediate.db/title_name_avg_ratings\")"
   ]
  },
  {
   "cell_type": "markdown",
   "metadata": {},
   "source": [
    "### average rating per genre"
   ]
  },
  {
   "cell_type": "code",
   "execution_count": null,
   "metadata": {
    "collapsed": true
   },
   "outputs": [],
   "source": [
    "title_basics = pd.read_parquet(\"../data/edited_data/datamart.db/title_basics\")\n",
    "title_ratings = pd.read_parquet(\"../data/edited_data/datamart.db/title_ratings\")\n",
    "\n",
    "title_basics.set_index(\"tconst\", inplace=True)\n",
    "title_ratings.set_index(\"tconst\", inplace=True)"
   ]
  },
  {
   "cell_type": "code",
   "execution_count": null,
   "metadata": {},
   "outputs": [],
   "source": [
    "genre_ratings = title_basics[[\"titleType\"]].join(title_ratings, how=\"left\")\n",
    "\n",
    "genres_avg_ratings = genre_ratings.groupby([\"titleType\"]).mean()\n",
    "genres_avg_ratings = genres_avg_ratings.rename(\n",
    "    columns={\n",
    "        \"averageRating\": \"averageRating_genres\", \n",
    "        \"numVotes\": \"numVotes_genres\"\n",
    "    }\n",
    ")\n",
    "\n",
    "genres_avg_ratings.head()"
   ]
  },
  {
   "cell_type": "code",
   "execution_count": null,
   "metadata": {},
   "outputs": [],
   "source": [
    "title_genres_avg_ratings = title_basics[[\"titleType\"]].join(genres_avg_ratings, on=\"titleType\")\n",
    "title_genres_avg_ratings.head()"
   ]
  },
  {
   "cell_type": "code",
   "execution_count": null,
   "metadata": {
    "collapsed": true
   },
   "outputs": [],
   "source": [
    "title_genres_avg_ratings.to_parquet(\"../data/edited_data/intermediate.db/title_genres_avg_ratings\")"
   ]
  },
  {
   "cell_type": "markdown",
   "metadata": {},
   "source": [
    "### average rating per crew"
   ]
  },
  {
   "cell_type": "code",
   "execution_count": null,
   "metadata": {},
   "outputs": [],
   "source": [
    "title_principals = pd.read_parquet(\"../data/edited_data/datamart.db/title_principals\")\n",
    "link_name_basics_titles = pd.read_parquet(\"../data/edited_data/datamart.db/link_name_basics_titles\")\n",
    "title_ratings = pd.read_parquet(\"../data/edited_data/datamart.db/title_ratings\")\n",
    "title_basics = pd.read_parquet(\"../data/edited_data/datamart.db/title_basics\")"
   ]
  },
  {
   "cell_type": "code",
   "execution_count": null,
   "metadata": {},
   "outputs": [],
   "source": [
    "link_name_basics_titles_start_year = (\n",
    "    link_name_basics_titles\n",
    "    .merge(title_basics[[\"tconst\", \"startYear\"]], left_on=\"tconst\", right_on=\"tconst\")\n",
    ")"
   ]
  },
  {
   "cell_type": "code",
   "execution_count": null,
   "metadata": {},
   "outputs": [],
   "source": [
    "crew_avg_ratings_raw = (\n",
    "    link_name_basics_titles_start_year\n",
    "    .merge(\n",
    "        link_name_basics_titles_start_year.rename(columns={\"tconst\": \"_tconst\", \"startYear\": \"_startYear\"}), \n",
    "        right_on=\"nconst\", left_on=\"nconst\")\n",
    "    .merge(title_ratings.rename(columns={\"tconst\": \"_tconst\"}), right_on=\"_tconst\", left_on=\"_tconst\")  \n",
    ")    "
   ]
  },
  {
   "cell_type": "code",
   "execution_count": null,
   "metadata": {},
   "outputs": [],
   "source": [
    "crew_avg_ratings_raw.head()"
   ]
  },
  {
   "cell_type": "code",
   "execution_count": null,
   "metadata": {},
   "outputs": [],
   "source": [
    "crew_avg_ratings_raw = crew_avg_ratings_raw.merge(\n",
    "    title_principals[[\"category\",\"nconst\"]], \n",
    "    right_on=[\"tconst\",\"nconst\"], \n",
    "    left_on=[\"tconst\",\"nconst\"]) "
   ]
  },
  {
   "cell_type": "code",
   "execution_count": null,
   "metadata": {},
   "outputs": [],
   "source": [
    "crew_avg_ratings_raw.head()"
   ]
  },
  {
   "cell_type": "code",
   "execution_count": null,
   "metadata": {},
   "outputs": [],
   "source": [
    "crew_avg_ratings_raw = crew_avg_ratings_raw[crew_avg_ratings_raw._startYear < crew_avg_ratings_raw.startYear]"
   ]
  },
  {
   "cell_type": "code",
   "execution_count": null,
   "metadata": {},
   "outputs": [],
   "source": [
    "crew_avg_ratings_raw = crew_avg_ratings_raw.groupby([\"tconst\", \"nconst\",\"category\"])[[\"averageRating\", \"numVotes\"]].mean()\n",
    "crew_avg_ratings = crew_avg_ratings_raw.groupby([\"tconst\",\"category\"])[[\"averageRating\", \"numVotes\"]].mean()"
   ]
  },
  {
   "cell_type": "code",
   "execution_count": null,
   "metadata": {},
   "outputs": [],
   "source": [
    "categories = {\"actor\": \"actor\",\n",
    "\"actress\": \"actor\",\n",
    "\"archive_footage\": \"other\",\n",
    "\"archive_sound\": \"other\",\n",
    "\"cinematographer\": \"other\",\n",
    "\"composer\": \"other\",\n",
    "\"director\": \"director\",\n",
    "\"editor\": \"other\",\n",
    "\"producer\": \"producer\",\n",
    "\"production_designer\": \"other\",\n",
    "\"self\": \"actor\",\n",
    "\"writer\": \"other\"\n",
    "}"
   ]
  },
  {
   "cell_type": "code",
   "execution_count": null,
   "metadata": {},
   "outputs": [],
   "source": [
    "#Run only once\n",
    "crew_avg_ratings = crew_avg_ratings.reset_index(level=1)"
   ]
  },
  {
   "cell_type": "code",
   "execution_count": null,
   "metadata": {},
   "outputs": [],
   "source": [
    "crew_avg_ratings['category_agg'] = crew_avg_ratings[\"category\"].apply(lambda x: categories[x])\n",
    "crew_avg_ratings.head()"
   ]
  },
  {
   "cell_type": "code",
   "execution_count": null,
   "metadata": {},
   "outputs": [],
   "source": [
    "crew_avg_ratings_final = crew_avg_ratings.groupby([\"tconst\",'category_agg'])[[\"averageRating\", \"numVotes\"]].mean()\n",
    "crew_avg_ratings_final.head()"
   ]
  },
  {
   "cell_type": "code",
   "execution_count": null,
   "metadata": {},
   "outputs": [],
   "source": [
    "title_avg_ratings_crew_category = (\n",
    "    crew_avg_ratings_final\n",
    "    .reset_index()\n",
    "    .pivot(index='tconst',columns='category_agg',values='averageRating')\n",
    "    .rename(columns={\"averageRating\": \"averageRating_crewCategory\"})\n",
    ")"
   ]
  },
  {
   "cell_type": "code",
   "execution_count": null,
   "metadata": {},
   "outputs": [],
   "source": [
    "title_avg_ratings_crew_category.to_parquet(\"../data/edited_data/intermediate.db/title_avg_ratings_crew_category\")"
   ]
  },
  {
   "cell_type": "markdown",
   "metadata": {},
   "source": [
    "# budget\n",
    "### Link movie.budget to title.basics"
   ]
  },
  {
   "cell_type": "code",
   "execution_count": null,
   "metadata": {
    "collapsed": true
   },
   "outputs": [],
   "source": [
    "import pyspark\n",
    "import os\n",
    "import pandas as pd"
   ]
  },
  {
   "cell_type": "code",
   "execution_count": null,
   "metadata": {
    "collapsed": true
   },
   "outputs": [],
   "source": [
    "movie_budget = pd.read_parquet(\"../data/parsed_data/movie_budget\")\n",
    "title_basics = pd.read_parquet(\"../data/edited_data/datamart.db/title_basics\")"
   ]
  },
  {
   "cell_type": "code",
   "execution_count": null,
   "metadata": {},
   "outputs": [],
   "source": [
    "movie_budget.info()"
   ]
  },
  {
   "cell_type": "code",
   "execution_count": null,
   "metadata": {
    "collapsed": true
   },
   "outputs": [],
   "source": [
    "movie_budget[\"title\"] = movie_budget.Movie.str.lower().replace(\"\\W\", \"\", regex=True)\n",
    "movie_budget = movie_budget.set_index(\"title\")"
   ]
  },
  {
   "cell_type": "code",
   "execution_count": null,
   "metadata": {},
   "outputs": [],
   "source": [
    "movie_budget.head()"
   ]
  },
  {
   "cell_type": "code",
   "execution_count": null,
   "metadata": {
    "collapsed": true
   },
   "outputs": [],
   "source": [
    "title_basics[\"title\"] = title_basics.originalTitle.str.lower().replace(\"\\W\", \"\", regex=True)\n",
    "title_basics = title_basics[title_basics.titleType == \"movie\"]\n",
    "title_basics = title_basics.set_index(\"title\")"
   ]
  },
  {
   "cell_type": "code",
   "execution_count": null,
   "metadata": {},
   "outputs": [],
   "source": [
    "title_basics.head()"
   ]
  },
  {
   "cell_type": "code",
   "execution_count": null,
   "metadata": {
    "collapsed": true
   },
   "outputs": [],
   "source": [
    "title_basics[\"titleBasicsFlag\"] = True\n",
    "\n",
    "title_budget = (\n",
    "    movie_budget\n",
    "    .join(title_basics[[\"titleBasicsFlag\", \"tconst\"]], how=\"left\")\n",
    ")"
   ]
  },
  {
   "cell_type": "code",
   "execution_count": null,
   "metadata": {},
   "outputs": [],
   "source": [
    "title_basics[title_basics.tconst.isin([\"tt5671400\", \"tt2388621\", \"tt7725384\"])]"
   ]
  },
  {
   "cell_type": "code",
   "execution_count": null,
   "metadata": {},
   "outputs": [],
   "source": [
    "title_budget.head(10)"
   ]
  },
  {
   "cell_type": "code",
   "execution_count": null,
   "metadata": {},
   "outputs": [],
   "source": [
    "title_budget.titleBasicsFlag.value_counts()"
   ]
  },
  {
   "cell_type": "code",
   "execution_count": null,
   "metadata": {
    "collapsed": true
   },
   "outputs": [],
   "source": [
    "n_obs = pd.DataFrame(title_budget.groupby(title_budget.index).size()).rename(columns={0: \"nObs\"})\n",
    "title_budget = title_budget.join(n_obs)\n",
    "title_budget = title_budget[title_budget.nObs == 1]"
   ]
  },
  {
   "cell_type": "code",
   "execution_count": null,
   "metadata": {},
   "outputs": [],
   "source": [
    "title_budget.titleBasicsFlag.value_counts()"
   ]
  },
  {
   "cell_type": "code",
   "execution_count": null,
   "metadata": {
    "collapsed": true
   },
   "outputs": [],
   "source": [
    "title_budget = title_budget.reset_index().set_index(\"tconst\")"
   ]
  },
  {
   "cell_type": "code",
   "execution_count": null,
   "metadata": {
    "collapsed": true
   },
   "outputs": [],
   "source": [
    "title_budget.to_parquet(\"../data/edited_data/intermediate.db/title_budget\")"
   ]
  },
  {
   "cell_type": "markdown",
   "metadata": {},
   "source": [
    "### primary_title"
   ]
  },
  {
   "cell_type": "code",
   "execution_count": null,
   "metadata": {
    "collapsed": true
   },
   "outputs": [],
   "source": [
    "title_basics = pd.read_parquet(\"../data/edited_data/datamart.db/title_basics\")\n",
    "title_basics.set_index(\"tconst\", inplace=True)"
   ]
  },
  {
   "cell_type": "code",
   "execution_count": null,
   "metadata": {},
   "outputs": [],
   "source": [
    "primary_title = title_basics[[\"primaryTitle\"]]\n",
    "primary_title[\"nLetters\"] = primary_title.primaryTitle.str.len()\n",
    "primary_title[\"nCapitalLetters\"] = primary_title.primaryTitle.apply(lambda x: sum(1 for c in x if c.isupper()))\n",
    "primary_title[\"nWords\"] = primary_title.primaryTitle.str.split(\"\\W\").str.len()"
   ]
  },
  {
   "cell_type": "code",
   "execution_count": null,
   "metadata": {},
   "outputs": [],
   "source": [
    "primary_title.head()"
   ]
  },
  {
   "cell_type": "code",
   "execution_count": null,
   "metadata": {
    "collapsed": true
   },
   "outputs": [],
   "source": [
    "primary_title.to_parquet(\"../data/edited_data/intermediate.db/primary_title\")"
   ]
  },
  {
   "cell_type": "markdown",
   "metadata": {
    "collapsed": true
   },
   "source": [
    "# modeling database"
   ]
  },
  {
   "cell_type": "code",
   "execution_count": null,
   "metadata": {},
   "outputs": [],
   "source": [
    "title_name_avg_ratings = pd.read_parquet(\"../data/edited_data/intermediate.db/title_name_avg_ratings\")\n",
    "title_genres_avg_ratings = pd.read_parquet(\"../data/edited_data/intermediate.db/title_genres_avg_ratings\")\n",
    "primary_title = pd.read_parquet(\"../data/edited_data/intermediate.db/primary_title\")\n",
    "title_budget = pd.read_parquet(\"../data/edited_data/intermediate.db/title_budget\")\n",
    "title_avg_ratings_crew_category = pd.read_parquet(\"../data/edited_data/intermediate.db/title_avg_ratings_crew_category\")\n",
    "title_ratings = pd.read_parquet(\"../data/edited_data/datamart.db/title_ratings\").set_index(\"tconst\")"
   ]
  },
  {
   "cell_type": "code",
   "execution_count": null,
   "metadata": {},
   "outputs": [],
   "source": [
    "data = (\n",
    "    tconst.set_index(\"tconst\")\n",
    "    .join(title_name_avg_ratings)\n",
    "    .join(title_genres_avg_ratings)\n",
    "    .join(title_budget)\n",
    "    .join(primary_title)\n",
    "    .join(title_avg_ratings_crew_category)\n",
    "    .join(title_ratings, how=\"inner\")\n",
    ")"
   ]
  }
 ],
 "metadata": {
  "kernelspec": {
   "display_name": "Python 3",
   "language": "python",
   "name": "python3"
  },
  "language_info": {
   "codemirror_mode": {
    "name": "ipython",
    "version": 3
   },
   "file_extension": ".py",
   "mimetype": "text/x-python",
   "name": "python",
   "nbconvert_exporter": "python",
   "pygments_lexer": "ipython3",
   "version": "3.7.4"
  }
 },
 "nbformat": 4,
 "nbformat_minor": 2
}
