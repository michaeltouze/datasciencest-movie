{
 "cells": [
  {
   "cell_type": "markdown",
   "metadata": {},
   "source": [
    "# Datamart\n",
    "This notebook aims to restrict data perimeter due to the large amount of the input data"
   ]
  },
  {
   "cell_type": "code",
   "execution_count": 51,
   "metadata": {},
   "outputs": [],
   "source": [
    "import pandas as pd\n",
    "import numpy as np\n",
    "import os\n",
    "import pyspark\n",
    "import pyspark.sql.functions as F"
   ]
  },
  {
   "cell_type": "markdown",
   "metadata": {},
   "source": [
    "## perimeter\n",
    "Movies produced between 2010 & 2019"
   ]
  },
  {
   "cell_type": "code",
   "execution_count": 52,
   "metadata": {},
   "outputs": [],
   "source": [
    "title_basics = pd.read_parquet(\"../data/parsed_data/imdb.db/title_basics\")"
   ]
  },
  {
   "cell_type": "code",
   "execution_count": 53,
   "metadata": {},
   "outputs": [],
   "source": [
    "title_perimeter = title_basics[(title_basics.titleType == \"movie\")][[\"tconst\"]]"
   ]
  },
  {
   "cell_type": "code",
   "execution_count": 54,
   "metadata": {},
   "outputs": [
    {
     "data": {
      "text/plain": [
       "(528662, 1)"
      ]
     },
     "execution_count": 54,
     "metadata": {},
     "output_type": "execute_result"
    }
   ],
   "source": [
    "title_perimeter.shape"
   ]
  },
  {
   "cell_type": "code",
   "execution_count": 55,
   "metadata": {},
   "outputs": [],
   "source": [
    "title_perimeter.to_parquet(\"../data/edited_data/datamart.db/title_perimeter\")"
   ]
  },
  {
   "cell_type": "markdown",
   "metadata": {},
   "source": [
    "## Datamart creation\n",
    "### link.name.basics.title"
   ]
  },
  {
   "cell_type": "code",
   "execution_count": 56,
   "metadata": {},
   "outputs": [],
   "source": [
    "perimeter = pd.read_parquet(\"../data/edited_data/datamart.db/title_perimeter\")\n",
    "link_name_basics_titles = pd.read_parquet(\"../data/parsed_data/imdb.db/link_name_basics_titles\")"
   ]
  },
  {
   "cell_type": "code",
   "execution_count": 57,
   "metadata": {},
   "outputs": [],
   "source": [
    "link_name_basics_titles = (\n",
    "    link_name_basics_titles\n",
    "    .merge(perimeter, on=\"tconst\", how=\"inner\")\n",
    "    .drop(columns=[\"tconst\"], axis=1)\n",
    "    .dropna()\n",
    "    .drop_duplicates()\n",
    "    .merge(link_name_basics_titles, on=\"nconst\", how=\"inner\")\n",
    ")"
   ]
  },
  {
   "cell_type": "code",
   "execution_count": 58,
   "metadata": {},
   "outputs": [
    {
     "name": "stdout",
     "output_type": "stream",
     "text": [
      "<class 'pandas.core.frame.DataFrame'>\n",
      "Int64Index: 9134387 entries, 0 to 9134386\n",
      "Data columns (total 2 columns):\n",
      "nconst    object\n",
      "tconst    object\n",
      "dtypes: object(2)\n",
      "memory usage: 209.1+ MB\n",
      "None\n"
     ]
    }
   ],
   "source": [
    "print(link_name_basics_titles.info())"
   ]
  },
  {
   "cell_type": "code",
   "execution_count": 59,
   "metadata": {},
   "outputs": [],
   "source": [
    "link_name_basics_titles.to_parquet(\"../data/edited_data/datamart.db/link_name_basics_titles\")"
   ]
  },
  {
   "cell_type": "markdown",
   "metadata": {},
   "source": [
    "### titles: all the movies in which an actor who played in the movie perimeter played in"
   ]
  },
  {
   "cell_type": "code",
   "execution_count": 60,
   "metadata": {},
   "outputs": [],
   "source": [
    "link_name_basics_titles = pd.read_parquet(\"../data/edited_data/datamart.db/link_name_basics_titles\")"
   ]
  },
  {
   "cell_type": "code",
   "execution_count": 61,
   "metadata": {},
   "outputs": [],
   "source": [
    "titles = link_name_basics_titles[[\"tconst\"]].drop_duplicates()"
   ]
  },
  {
   "cell_type": "code",
   "execution_count": 62,
   "metadata": {},
   "outputs": [
    {
     "data": {
      "text/plain": [
       "(1047435, 1)"
      ]
     },
     "execution_count": 62,
     "metadata": {},
     "output_type": "execute_result"
    }
   ],
   "source": [
    "titles.shape"
   ]
  },
  {
   "cell_type": "code",
   "execution_count": 63,
   "metadata": {},
   "outputs": [],
   "source": [
    "titles.to_parquet(\"../data/edited_data/datamart.db/titles\")"
   ]
  },
  {
   "cell_type": "markdown",
   "metadata": {},
   "source": [
    "#### names"
   ]
  },
  {
   "cell_type": "code",
   "execution_count": 64,
   "metadata": {},
   "outputs": [],
   "source": [
    "link_name_basics_titles = pd.read_parquet(\"../data/edited_data/datamart.db/link_name_basics_titles\")"
   ]
  },
  {
   "cell_type": "code",
   "execution_count": 65,
   "metadata": {},
   "outputs": [],
   "source": [
    "names = link_name_basics_titles[[\"nconst\"]].drop_duplicates()"
   ]
  },
  {
   "cell_type": "code",
   "execution_count": 66,
   "metadata": {},
   "outputs": [
    {
     "data": {
      "text/plain": [
       "(4078391, 1)"
      ]
     },
     "execution_count": 66,
     "metadata": {},
     "output_type": "execute_result"
    }
   ],
   "source": [
    "names.shape"
   ]
  },
  {
   "cell_type": "code",
   "execution_count": 67,
   "metadata": {},
   "outputs": [],
   "source": [
    "names.to_parquet(\"../data/edited_data/datamart.db/names\")"
   ]
  },
  {
   "cell_type": "markdown",
   "metadata": {},
   "source": [
    "#### title.basics"
   ]
  },
  {
   "cell_type": "code",
   "execution_count": 68,
   "metadata": {},
   "outputs": [],
   "source": [
    "title_basics = pd.read_parquet(\"../data/parsed_data/imdb.db/title_basics\")\n",
    "titles = pd.read_parquet(\"../data/edited_data/datamart.db/titles\")"
   ]
  },
  {
   "cell_type": "code",
   "execution_count": 69,
   "metadata": {},
   "outputs": [],
   "source": [
    "title_basics = title_basics.merge(titles, on=\"tconst\", how=\"inner\")"
   ]
  },
  {
   "cell_type": "code",
   "execution_count": 70,
   "metadata": {},
   "outputs": [],
   "source": [
    "title_basics.to_parquet(\"../data/edited_data/datamart.db/title_basics\")"
   ]
  },
  {
   "cell_type": "markdown",
   "metadata": {},
   "source": [
    "#### title.akas"
   ]
  },
  {
   "cell_type": "code",
   "execution_count": 71,
   "metadata": {},
   "outputs": [],
   "source": [
    "titles = pd.read_parquet(\"../data/edited_data/datamart.db/titles\")\n",
    "title_akas = pd.read_parquet(\"../data/parsed_data/imdb.db/title_akas\")"
   ]
  },
  {
   "cell_type": "code",
   "execution_count": 72,
   "metadata": {},
   "outputs": [],
   "source": [
    "title_akas = title_akas.merge(titles.rename(columns={\"tconst\": \"titleId\"}), on=\"titleId\", how=\"inner\")"
   ]
  },
  {
   "cell_type": "code",
   "execution_count": 73,
   "metadata": {},
   "outputs": [
    {
     "data": {
      "text/plain": [
       "(2396355, 8)"
      ]
     },
     "execution_count": 73,
     "metadata": {},
     "output_type": "execute_result"
    }
   ],
   "source": [
    "title_akas.shape"
   ]
  },
  {
   "cell_type": "code",
   "execution_count": 74,
   "metadata": {},
   "outputs": [],
   "source": [
    "title_akas.to_parquet(\"../data/edited_data/datamart.db/title_akas\")"
   ]
  },
  {
   "cell_type": "markdown",
   "metadata": {},
   "source": [
    "#### title.ratings"
   ]
  },
  {
   "cell_type": "code",
   "execution_count": 75,
   "metadata": {},
   "outputs": [],
   "source": [
    "titles = pd.read_parquet(\"../data/edited_data/datamart.db/titles\")\n",
    "title_ratings = pd.read_parquet(\"../data/parsed_data/imdb.db/title_ratings\")"
   ]
  },
  {
   "cell_type": "code",
   "execution_count": 76,
   "metadata": {},
   "outputs": [],
   "source": [
    "title_ratings = title_ratings.merge(titles, on=\"tconst\", how=\"inner\")"
   ]
  },
  {
   "cell_type": "code",
   "execution_count": 77,
   "metadata": {},
   "outputs": [
    {
     "data": {
      "text/plain": [
       "((1047435, 1), (421056, 3))"
      ]
     },
     "execution_count": 77,
     "metadata": {},
     "output_type": "execute_result"
    }
   ],
   "source": [
    "titles.shape, title_ratings.shape"
   ]
  },
  {
   "cell_type": "code",
   "execution_count": 78,
   "metadata": {},
   "outputs": [],
   "source": [
    "title_ratings.to_parquet(\"../data/edited_data/datamart.db/title_ratings\")"
   ]
  },
  {
   "cell_type": "markdown",
   "metadata": {},
   "source": [
    "#### name.basics"
   ]
  },
  {
   "cell_type": "code",
   "execution_count": 79,
   "metadata": {},
   "outputs": [],
   "source": [
    "names = pd.read_parquet(\"../data/edited_data/datamart.db/names\")\n",
    "name_basics = pd.read_parquet(\"../data/parsed_data/imdb.db/name_basics\")"
   ]
  },
  {
   "cell_type": "code",
   "execution_count": 80,
   "metadata": {},
   "outputs": [],
   "source": [
    "name_basics = name_basics.merge(names, on=\"nconst\", how=\"inner\")"
   ]
  },
  {
   "cell_type": "code",
   "execution_count": 81,
   "metadata": {},
   "outputs": [
    {
     "data": {
      "text/plain": [
       "(4078391, 6)"
      ]
     },
     "execution_count": 81,
     "metadata": {},
     "output_type": "execute_result"
    }
   ],
   "source": [
    "name_basics.shape"
   ]
  },
  {
   "cell_type": "code",
   "execution_count": 82,
   "metadata": {},
   "outputs": [],
   "source": [
    "name_basics.to_parquet(\"../data/edited_data/datamart.db/name_basics\")"
   ]
  },
  {
   "cell_type": "markdown",
   "metadata": {},
   "source": [
    "#### title.crew "
   ]
  },
  {
   "cell_type": "code",
   "execution_count": 95,
   "metadata": {},
   "outputs": [],
   "source": [
    "titles = pd.read_parquet(\"../data/edited_data/datamart.db/titles\")\n",
    "title_crew = pd.read_parquet(\"../data/parsed_data/imdb.db/title_crew\")"
   ]
  },
  {
   "cell_type": "code",
   "execution_count": 99,
   "metadata": {
    "scrolled": false
   },
   "outputs": [
    {
     "data": {
      "text/html": [
       "<div>\n",
       "<style scoped>\n",
       "    .dataframe tbody tr th:only-of-type {\n",
       "        vertical-align: middle;\n",
       "    }\n",
       "\n",
       "    .dataframe tbody tr th {\n",
       "        vertical-align: top;\n",
       "    }\n",
       "\n",
       "    .dataframe thead th {\n",
       "        text-align: right;\n",
       "    }\n",
       "</style>\n",
       "<table border=\"1\" class=\"dataframe\">\n",
       "  <thead>\n",
       "    <tr style=\"text-align: right;\">\n",
       "      <th></th>\n",
       "      <th>tconst</th>\n",
       "      <th>directors</th>\n",
       "      <th>writers</th>\n",
       "    </tr>\n",
       "  </thead>\n",
       "  <tbody>\n",
       "    <tr>\n",
       "      <td>0</td>\n",
       "      <td>tt0000001</td>\n",
       "      <td>nm0005690</td>\n",
       "      <td>None</td>\n",
       "    </tr>\n",
       "    <tr>\n",
       "      <td>1</td>\n",
       "      <td>tt0000009</td>\n",
       "      <td>nm0085156</td>\n",
       "      <td>nm0085156</td>\n",
       "    </tr>\n",
       "    <tr>\n",
       "      <td>2</td>\n",
       "      <td>tt0000024</td>\n",
       "      <td>nm0010291</td>\n",
       "      <td>None</td>\n",
       "    </tr>\n",
       "    <tr>\n",
       "      <td>3</td>\n",
       "      <td>tt0000026</td>\n",
       "      <td>nm0525910</td>\n",
       "      <td>None</td>\n",
       "    </tr>\n",
       "    <tr>\n",
       "      <td>4</td>\n",
       "      <td>tt0000029</td>\n",
       "      <td>nm0525910</td>\n",
       "      <td>None</td>\n",
       "    </tr>\n",
       "    <tr>\n",
       "      <td>...</td>\n",
       "      <td>...</td>\n",
       "      <td>...</td>\n",
       "      <td>...</td>\n",
       "    </tr>\n",
       "    <tr>\n",
       "      <td>1046954</td>\n",
       "      <td>tt9916706</td>\n",
       "      <td>nm7764440</td>\n",
       "      <td>nm7933903</td>\n",
       "    </tr>\n",
       "    <tr>\n",
       "      <td>1046955</td>\n",
       "      <td>tt9916720</td>\n",
       "      <td>nm10538600</td>\n",
       "      <td>None</td>\n",
       "    </tr>\n",
       "    <tr>\n",
       "      <td>1046956</td>\n",
       "      <td>tt9916730</td>\n",
       "      <td>nm10538612</td>\n",
       "      <td>nm10538612</td>\n",
       "    </tr>\n",
       "    <tr>\n",
       "      <td>1046957</td>\n",
       "      <td>tt9916754</td>\n",
       "      <td>nm9272490,nm8349149</td>\n",
       "      <td>nm8349149,nm9272490</td>\n",
       "    </tr>\n",
       "    <tr>\n",
       "      <td>1046958</td>\n",
       "      <td>tt9916764</td>\n",
       "      <td>nm6685122</td>\n",
       "      <td>nm6687687,nm10538642,nm9641593,nm10538643</td>\n",
       "    </tr>\n",
       "  </tbody>\n",
       "</table>\n",
       "<p>1046959 rows × 3 columns</p>\n",
       "</div>"
      ],
      "text/plain": [
       "            tconst            directors  \\\n",
       "0        tt0000001            nm0005690   \n",
       "1        tt0000009            nm0085156   \n",
       "2        tt0000024            nm0010291   \n",
       "3        tt0000026            nm0525910   \n",
       "4        tt0000029            nm0525910   \n",
       "...            ...                  ...   \n",
       "1046954  tt9916706            nm7764440   \n",
       "1046955  tt9916720           nm10538600   \n",
       "1046956  tt9916730           nm10538612   \n",
       "1046957  tt9916754  nm9272490,nm8349149   \n",
       "1046958  tt9916764            nm6685122   \n",
       "\n",
       "                                           writers  \n",
       "0                                             None  \n",
       "1                                        nm0085156  \n",
       "2                                             None  \n",
       "3                                             None  \n",
       "4                                             None  \n",
       "...                                            ...  \n",
       "1046954                                  nm7933903  \n",
       "1046955                                       None  \n",
       "1046956                                 nm10538612  \n",
       "1046957                        nm8349149,nm9272490  \n",
       "1046958  nm6687687,nm10538642,nm9641593,nm10538643  \n",
       "\n",
       "[1046959 rows x 3 columns]"
      ]
     },
     "execution_count": 99,
     "metadata": {},
     "output_type": "execute_result"
    }
   ],
   "source": [
    "title_crew = title_crew.merge(titles, on=\"tconst\", how=\"inner\")"
   ]
  },
  {
   "cell_type": "code",
   "execution_count": 85,
   "metadata": {},
   "outputs": [
    {
     "data": {
      "text/plain": [
       "(1046959, 3)"
      ]
     },
     "execution_count": 85,
     "metadata": {},
     "output_type": "execute_result"
    }
   ],
   "source": [
    "title_crew.shape"
   ]
  },
  {
   "cell_type": "code",
   "execution_count": 86,
   "metadata": {},
   "outputs": [],
   "source": [
    "title_crew.to_parquet(\"../data/edited_data/datamart.db/title_crew\")"
   ]
  },
  {
   "cell_type": "markdown",
   "metadata": {},
   "source": [
    "#### link.title.directors"
   ]
  },
  {
   "cell_type": "code",
   "execution_count": 87,
   "metadata": {},
   "outputs": [],
   "source": [
    "titles = pd.read_parquet(\"../data/edited_data/datamart.db/titles\")\n",
    "link_title_directors = pd.read_parquet(\"../data/parsed_data/imdb.db/link_title_directors\")"
   ]
  },
  {
   "cell_type": "code",
   "execution_count": 88,
   "metadata": {},
   "outputs": [],
   "source": [
    "link_title_directors = link_title_directors.merge(titles, on=\"tconst\", how=\"inner\")"
   ]
  },
  {
   "cell_type": "code",
   "execution_count": 89,
   "metadata": {},
   "outputs": [
    {
     "data": {
      "text/plain": [
       "(1267915, 2)"
      ]
     },
     "execution_count": 89,
     "metadata": {},
     "output_type": "execute_result"
    }
   ],
   "source": [
    "link_title_directors.shape"
   ]
  },
  {
   "cell_type": "code",
   "execution_count": 90,
   "metadata": {},
   "outputs": [],
   "source": [
    "link_title_directors.to_parquet(\"../data/edited_data/datamart.db/link_title_directors\")"
   ]
  },
  {
   "cell_type": "markdown",
   "metadata": {},
   "source": [
    "#### title.principals"
   ]
  },
  {
   "cell_type": "code",
   "execution_count": 91,
   "metadata": {},
   "outputs": [],
   "source": [
    "titles = pd.read_parquet(\"../data/edited_data/datamart.db/titles\")\n",
    "title_principals = pd.read_parquet(\"../data/parsed_data/imdb.db/title_principals\")"
   ]
  },
  {
   "cell_type": "code",
   "execution_count": 92,
   "metadata": {},
   "outputs": [],
   "source": [
    "title_principals = title_principals.merge(titles, on=\"tconst\", how=\"inner\")"
   ]
  },
  {
   "cell_type": "code",
   "execution_count": 93,
   "metadata": {},
   "outputs": [
    {
     "data": {
      "text/plain": [
       "(7727196, 6)"
      ]
     },
     "execution_count": 93,
     "metadata": {},
     "output_type": "execute_result"
    }
   ],
   "source": [
    "title_principals.shape"
   ]
  },
  {
   "cell_type": "code",
   "execution_count": 94,
   "metadata": {},
   "outputs": [],
   "source": [
    "title_principals.to_parquet(\"../data/edited_data/datamart.db/title_principals\")"
   ]
  },
  {
   "cell_type": "code",
   "execution_count": null,
   "metadata": {},
   "outputs": [],
   "source": []
  }
 ],
 "metadata": {
  "kernelspec": {
   "display_name": "Python 3",
   "language": "python",
   "name": "python3"
  },
  "language_info": {
   "codemirror_mode": {
    "name": "ipython",
    "version": 3
   },
   "file_extension": ".py",
   "mimetype": "text/x-python",
   "name": "python",
   "nbconvert_exporter": "python",
   "pygments_lexer": "ipython3",
   "version": "3.7.4"
  }
 },
 "nbformat": 4,
 "nbformat_minor": 2
}
