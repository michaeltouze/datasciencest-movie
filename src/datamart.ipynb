{
 "cells": [
  {
   "cell_type": "markdown",
   "metadata": {},
   "source": [
    "# Datamart\n",
    "This notebook aims to restrict data perimeter due to the large amount of the input data"
   ]
  },
  {
   "cell_type": "code",
   "execution_count": 1,
   "metadata": {},
   "outputs": [],
   "source": [
    "import pandas as pd\n",
    "import numpy as np\n",
    "import os\n",
    "import pyspark\n",
    "import pyspark.sql.functions as F"
   ]
  },
  {
   "cell_type": "markdown",
   "metadata": {},
   "source": [
    "## perimeter\n",
    "Movies produced between 2010 & 2019"
   ]
  },
  {
   "cell_type": "code",
   "execution_count": 25,
   "metadata": {},
   "outputs": [],
   "source": [
    "title_basics = pd.read_parquet(\"../data/parsed_data/imdb.db/title_basics\")"
   ]
  },
  {
   "cell_type": "code",
   "execution_count": 26,
   "metadata": {},
   "outputs": [],
   "source": [
    "title_perimeter = title_basics[\n",
    "    (title_basics.titleType == \"movie\") \n",
    "    & (title_basics.startYear.between(2010, 2019))][[\"tconst\"]]"
   ]
  },
  {
   "cell_type": "code",
   "execution_count": 27,
   "metadata": {},
   "outputs": [
    {
     "data": {
      "text/html": [
       "<div>\n",
       "<style scoped>\n",
       "    .dataframe tbody tr th:only-of-type {\n",
       "        vertical-align: middle;\n",
       "    }\n",
       "\n",
       "    .dataframe tbody tr th {\n",
       "        vertical-align: top;\n",
       "    }\n",
       "\n",
       "    .dataframe thead th {\n",
       "        text-align: right;\n",
       "    }\n",
       "</style>\n",
       "<table border=\"1\" class=\"dataframe\">\n",
       "  <thead>\n",
       "    <tr style=\"text-align: right;\">\n",
       "      <th></th>\n",
       "      <th>tconst</th>\n",
       "    </tr>\n",
       "  </thead>\n",
       "  <tbody>\n",
       "    <tr>\n",
       "      <td>67693</td>\n",
       "      <td>tt0069049</td>\n",
       "    </tr>\n",
       "    <tr>\n",
       "      <td>67839</td>\n",
       "      <td>tt0069204</td>\n",
       "    </tr>\n",
       "    <tr>\n",
       "      <td>98091</td>\n",
       "      <td>tt0100275</td>\n",
       "    </tr>\n",
       "    <tr>\n",
       "      <td>109015</td>\n",
       "      <td>tt0111414</td>\n",
       "    </tr>\n",
       "    <tr>\n",
       "      <td>110072</td>\n",
       "      <td>tt0112502</td>\n",
       "    </tr>\n",
       "  </tbody>\n",
       "</table>\n",
       "</div>"
      ],
      "text/plain": [
       "           tconst\n",
       "67693   tt0069049\n",
       "67839   tt0069204\n",
       "98091   tt0100275\n",
       "109015  tt0111414\n",
       "110072  tt0112502"
      ]
     },
     "execution_count": 27,
     "metadata": {},
     "output_type": "execute_result"
    }
   ],
   "source": [
    "title_perimeter.head()"
   ]
  },
  {
   "cell_type": "code",
   "execution_count": 28,
   "metadata": {},
   "outputs": [],
   "source": [
    "title_perimeter.to_parquet(\"../data/edited_data/datamart.db/title_perimeter\")"
   ]
  },
  {
   "cell_type": "markdown",
   "metadata": {},
   "source": [
    "## Datamart creation\n",
    "### link.name.basics.title"
   ]
  },
  {
   "cell_type": "code",
   "execution_count": 38,
   "metadata": {},
   "outputs": [],
   "source": [
    "perimeter = pd.read_parquet(\"../data/edited_data/datamart.db/title_perimeter\")\n",
    "link_name_basics_titles = pd.read_parquet(\"../data/parsed_data/imdb.db/link_name_basics_titles\")"
   ]
  },
  {
   "cell_type": "code",
   "execution_count": 39,
   "metadata": {},
   "outputs": [],
   "source": [
    "link_name_basics_titles = (\n",
    "    link_name_basics_titles\n",
    "    .merge(perimeter, on=\"tconst\", how=\"inner\")\n",
    "    .drop(columns=[\"tconst\"], axis=1)\n",
    "    .dropna()\n",
    "    .drop_duplicates()\n",
    "    .merge(link_name_basics_titles, on=\"nconst\", how=\"inner\")\n",
    ")"
   ]
  },
  {
   "cell_type": "code",
   "execution_count": 42,
   "metadata": {},
   "outputs": [
    {
     "name": "stdout",
     "output_type": "stream",
     "text": [
      "<class 'pandas.core.frame.DataFrame'>\n",
      "Int64Index: 4696606 entries, 0 to 4696605\n",
      "Data columns (total 2 columns):\n",
      "nconst    object\n",
      "tconst    object\n",
      "dtypes: object(2)\n",
      "memory usage: 107.5+ MB\n",
      "None\n"
     ]
    },
    {
     "data": {
      "text/html": [
       "<div>\n",
       "<style scoped>\n",
       "    .dataframe tbody tr th:only-of-type {\n",
       "        vertical-align: middle;\n",
       "    }\n",
       "\n",
       "    .dataframe tbody tr th {\n",
       "        vertical-align: top;\n",
       "    }\n",
       "\n",
       "    .dataframe thead th {\n",
       "        text-align: right;\n",
       "    }\n",
       "</style>\n",
       "<table border=\"1\" class=\"dataframe\">\n",
       "  <thead>\n",
       "    <tr style=\"text-align: right;\">\n",
       "      <th></th>\n",
       "      <th>nconst</th>\n",
       "      <th>tconst</th>\n",
       "    </tr>\n",
       "  </thead>\n",
       "  <tbody>\n",
       "    <tr>\n",
       "      <td>0</td>\n",
       "      <td>nm1380630</td>\n",
       "      <td>tt5392738</td>\n",
       "    </tr>\n",
       "    <tr>\n",
       "      <td>1</td>\n",
       "      <td>nm1380630</td>\n",
       "      <td>tt0357123</td>\n",
       "    </tr>\n",
       "    <tr>\n",
       "      <td>2</td>\n",
       "      <td>nm1380630</td>\n",
       "      <td>tt1111843</td>\n",
       "    </tr>\n",
       "    <tr>\n",
       "      <td>3</td>\n",
       "      <td>nm1380630</td>\n",
       "      <td>tt6304968</td>\n",
       "    </tr>\n",
       "    <tr>\n",
       "      <td>4</td>\n",
       "      <td>nm1473613</td>\n",
       "      <td>tt0356985</td>\n",
       "    </tr>\n",
       "  </tbody>\n",
       "</table>\n",
       "</div>"
      ],
      "text/plain": [
       "      nconst     tconst\n",
       "0  nm1380630  tt5392738\n",
       "1  nm1380630  tt0357123\n",
       "2  nm1380630  tt1111843\n",
       "3  nm1380630  tt6304968\n",
       "4  nm1473613  tt0356985"
      ]
     },
     "execution_count": 42,
     "metadata": {},
     "output_type": "execute_result"
    }
   ],
   "source": [
    "print(link_name_basics_titles.info())\n",
    "link_name_basics_titles.head()"
   ]
  },
  {
   "cell_type": "code",
   "execution_count": 44,
   "metadata": {},
   "outputs": [],
   "source": [
    "link_name_basics_titles.to_parquet(\"../data/edited_data/datamart.db/link_name_basics_titles\")"
   ]
  },
  {
   "cell_type": "markdown",
   "metadata": {},
   "source": [
    "### title_historical: all the movies in which an actor who played in the movie perimeter played in"
   ]
  },
  {
   "cell_type": "code",
   "execution_count": 101,
   "metadata": {},
   "outputs": [],
   "source": [
    "link_name_basics_titles = pd.read_parquet(\"../data/edited_data/datamart.db/link_name_basics_titles\")"
   ]
  },
  {
   "cell_type": "code",
   "execution_count": 102,
   "metadata": {},
   "outputs": [],
   "source": [
    "titles = link_name_basics_titles[[\"tconst\"]].drop_duplicates()"
   ]
  },
  {
   "cell_type": "code",
   "execution_count": 103,
   "metadata": {},
   "outputs": [
    {
     "data": {
      "text/plain": [
       "(669916, 0)"
      ]
     },
     "execution_count": 103,
     "metadata": {},
     "output_type": "execute_result"
    }
   ],
   "source": [
    "title_historical.shape"
   ]
  },
  {
   "cell_type": "code",
   "execution_count": 104,
   "metadata": {},
   "outputs": [],
   "source": [
    "titles.to_parquet(\"../data/edited_data/datamart.db/titles\")"
   ]
  },
  {
   "cell_type": "markdown",
   "metadata": {},
   "source": [
    "#### names"
   ]
  },
  {
   "cell_type": "code",
   "execution_count": 105,
   "metadata": {},
   "outputs": [],
   "source": [
    "link_name_basics_titles = pd.read_parquet(\"../data/edited_data/datamart.db/link_name_basics_titles\")"
   ]
  },
  {
   "cell_type": "code",
   "execution_count": 106,
   "metadata": {},
   "outputs": [],
   "source": [
    "names = link_name_basics_titles[[\"nconst\"]].drop_duplicates()"
   ]
  },
  {
   "cell_type": "code",
   "execution_count": 107,
   "metadata": {},
   "outputs": [
    {
     "data": {
      "text/plain": [
       "(1959210, 1)"
      ]
     },
     "execution_count": 107,
     "metadata": {},
     "output_type": "execute_result"
    }
   ],
   "source": [
    "names.shape"
   ]
  },
  {
   "cell_type": "code",
   "execution_count": 108,
   "metadata": {},
   "outputs": [],
   "source": [
    "names.to_parquet(\"../data/edited_data/datamart.db/names\")"
   ]
  },
  {
   "cell_type": "markdown",
   "metadata": {},
   "source": [
    "#### title.basics"
   ]
  },
  {
   "cell_type": "code",
   "execution_count": 109,
   "metadata": {},
   "outputs": [],
   "source": [
    "title_basics = pd.read_parquet(\"../data/parsed_data/imdb.db/title_basics\")\n",
    "titles = pd.read_parquet(\"../data/edited_data/datamart.db/titles\")"
   ]
  },
  {
   "cell_type": "code",
   "execution_count": 110,
   "metadata": {},
   "outputs": [],
   "source": [
    "title_basics = title_basics.merge(titles, on=\"tconst\", how=\"inner\")"
   ]
  },
  {
   "cell_type": "code",
   "execution_count": 112,
   "metadata": {},
   "outputs": [],
   "source": [
    "title_basics.to_parquet(\"../data/edited_data/datamart.db/title_basics\")"
   ]
  },
  {
   "cell_type": "markdown",
   "metadata": {},
   "source": [
    "#### title.akas"
   ]
  },
  {
   "cell_type": "code",
   "execution_count": 113,
   "metadata": {},
   "outputs": [],
   "source": [
    "titles = pd.read_parquet(\"../data/edited_data/datamart.db/titles\")\n",
    "title_akas = pd.read_parquet(\"../data/parsed_data/imdb.db/title_akas\")"
   ]
  },
  {
   "cell_type": "code",
   "execution_count": 114,
   "metadata": {},
   "outputs": [],
   "source": [
    "title_akas = title_akas.merge(titles.rename(columns={\"tconst\": \"titleId\"}), on=\"titleId\", how=\"inner\")"
   ]
  },
  {
   "cell_type": "code",
   "execution_count": 116,
   "metadata": {},
   "outputs": [],
   "source": [
    "title_akas.to_parquet(\"../data/edited_data/datamart.db/title_akas\")"
   ]
  },
  {
   "cell_type": "markdown",
   "metadata": {},
   "source": [
    "#### title.ratings"
   ]
  },
  {
   "cell_type": "code",
   "execution_count": 2,
   "metadata": {},
   "outputs": [],
   "source": [
    "titles = pd.read_parquet(\"../data/edited_data/datamart.db/titles\")\n",
    "title_ratings = pd.read_parquet(\"../data/parsed_data/imdb.db/title_ratings\")"
   ]
  },
  {
   "cell_type": "code",
   "execution_count": 3,
   "metadata": {},
   "outputs": [],
   "source": [
    "title_ratings = title_ratings.merge(titles, on=\"tconst\", how=\"inner\")"
   ]
  },
  {
   "cell_type": "code",
   "execution_count": 5,
   "metadata": {},
   "outputs": [
    {
     "data": {
      "text/plain": [
       "((669916, 1), (277451, 3))"
      ]
     },
     "execution_count": 5,
     "metadata": {},
     "output_type": "execute_result"
    }
   ],
   "source": [
    "titles.shape, title_ratings.shape"
   ]
  },
  {
   "cell_type": "code",
   "execution_count": 120,
   "metadata": {},
   "outputs": [],
   "source": [
    "title_ratings.to_parquet(\"../data/edited_data/datamart.db/title_ratings\")"
   ]
  },
  {
   "cell_type": "markdown",
   "metadata": {},
   "source": [
    "#### name.basics"
   ]
  },
  {
   "cell_type": "code",
   "execution_count": 121,
   "metadata": {},
   "outputs": [],
   "source": [
    "names = pd.read_parquet(\"../data/edited_data/datamart.db/names\")\n",
    "name_basics = pd.read_parquet(\"../data/parsed_data/imdb.db/name_basics\")"
   ]
  },
  {
   "cell_type": "code",
   "execution_count": 123,
   "metadata": {},
   "outputs": [],
   "source": [
    "name_basics = name_basics.merge(names, on=\"nconst\", how=\"inner\")"
   ]
  },
  {
   "cell_type": "code",
   "execution_count": 125,
   "metadata": {},
   "outputs": [],
   "source": [
    "name_basics.to_parquet(\"../data/edited_data/datamart.db/name_basics\")"
   ]
  },
  {
   "cell_type": "markdown",
   "metadata": {},
   "source": [
    "#### title.crew "
   ]
  },
  {
   "cell_type": "code",
   "execution_count": 126,
   "metadata": {},
   "outputs": [],
   "source": [
    "titles = pd.read_parquet(\"../data/edited_data/datamart.db/titles\")\n",
    "title_crew = pd.read_parquet(\"../data/parsed_data/imdb.db/title_crew\")"
   ]
  },
  {
   "cell_type": "code",
   "execution_count": 127,
   "metadata": {},
   "outputs": [],
   "source": [
    "title_crew = title_crew.merge(titles, on=\"tconst\", how=\"inner\")"
   ]
  },
  {
   "cell_type": "code",
   "execution_count": 129,
   "metadata": {},
   "outputs": [],
   "source": [
    "title_crew.to_parquet(\"../data/edited_data/datamart.db/title_crew\")"
   ]
  },
  {
   "cell_type": "markdown",
   "metadata": {},
   "source": [
    "#### link.title.directors"
   ]
  },
  {
   "cell_type": "code",
   "execution_count": 131,
   "metadata": {},
   "outputs": [],
   "source": [
    "titles = pd.read_parquet(\"../data/edited_data/datamart.db/titles\")\n",
    "link_title_directors = pd.read_parquet(\"../data/parsed_data/imdb.db/link_title_directors\")"
   ]
  },
  {
   "cell_type": "code",
   "execution_count": 132,
   "metadata": {},
   "outputs": [],
   "source": [
    "link_title_directors = link_title_directors.merge(titles, on=\"tconst\", how=\"inner\")"
   ]
  },
  {
   "cell_type": "code",
   "execution_count": 134,
   "metadata": {},
   "outputs": [],
   "source": [
    "link_title_directors.to_parquet(\"../data/edited_data/datamart.db/link_title_directors\")"
   ]
  },
  {
   "cell_type": "markdown",
   "metadata": {},
   "source": [
    "#### title.principals"
   ]
  },
  {
   "cell_type": "code",
   "execution_count": 135,
   "metadata": {},
   "outputs": [],
   "source": [
    "titles = pd.read_parquet(\"../data/edited_data/datamart.db/titles\")\n",
    "title_principals = pd.read_parquet(\"../data/parsed_data/imdb.db/title_principals\")"
   ]
  },
  {
   "cell_type": "code",
   "execution_count": 136,
   "metadata": {},
   "outputs": [],
   "source": [
    "title_principals = title_principals.merge(titles, on=\"tconst\", how=\"inner\")"
   ]
  },
  {
   "cell_type": "code",
   "execution_count": 138,
   "metadata": {},
   "outputs": [],
   "source": [
    "title_principals.to_parquet(\"../data/edited_data/datamart.db/title_principals\")"
   ]
  },
  {
   "cell_type": "code",
   "execution_count": null,
   "metadata": {},
   "outputs": [],
   "source": []
  }
 ],
 "metadata": {
  "kernelspec": {
   "display_name": "Python 3",
   "language": "python",
   "name": "python3"
  },
  "language_info": {
   "codemirror_mode": {
    "name": "ipython",
    "version": 3
   },
   "file_extension": ".py",
   "mimetype": "text/x-python",
   "name": "python",
   "nbconvert_exporter": "python",
   "pygments_lexer": "ipython3",
   "version": "3.7.4"
  }
 },
 "nbformat": 4,
 "nbformat_minor": 2
}
