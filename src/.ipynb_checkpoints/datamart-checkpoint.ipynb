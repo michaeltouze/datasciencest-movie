{
 "cells": [
  {
   "cell_type": "markdown",
   "metadata": {},
   "source": [
    "# Datamart\n",
    "This notebook aims to restrict data on the last 0 years movies and all linked data to this perimeter"
   ]
  },
  {
   "cell_type": "code",
   "execution_count": 1,
   "metadata": {},
   "outputs": [],
   "source": [
    "import pandas as pd\n",
    "import numpy as np\n",
    "import os\n",
    "import pyspark\n",
    "import pyspark.sql.functions as F"
   ]
  },
  {
   "cell_type": "code",
   "execution_count": 2,
   "metadata": {},
   "outputs": [],
   "source": [
    "dir_parsed_imdb = \"data/parsed_data/imdb.db\"\n",
    "dir_edited_datamart = \"data/edited_data/datamart.db\""
   ]
  },
  {
   "cell_type": "code",
   "execution_count": 3,
   "metadata": {},
   "outputs": [],
   "source": [
    "if \"sc\" in locals():\n",
    "    sc.stop()"
   ]
  },
  {
   "cell_type": "code",
   "execution_count": 4,
   "metadata": {},
   "outputs": [],
   "source": [
    "sc = pyspark.SparkContext().getOrCreate()\n",
    "spark = pyspark.sql.SparkSession(sc)"
   ]
  },
  {
   "cell_type": "markdown",
   "metadata": {},
   "source": [
    "#### perimeter"
   ]
  },
  {
   "cell_type": "code",
   "execution_count": 5,
   "metadata": {},
   "outputs": [],
   "source": [
    "title_basics = spark.read.parquet(os.path.join(dir_parsed_imdb, \"title_basics\"))"
   ]
  },
  {
   "cell_type": "code",
   "execution_count": 6,
   "metadata": {},
   "outputs": [],
   "source": [
    "perimeter = (\n",
    "    title_basics\n",
    "    .filter(title_basics.titleType == \"movie\")\n",
    "    .filter(title_basics.startYear.between(2010, 2019))\n",
    "    .select(\"tconst\")\n",
    ")"
   ]
  },
  {
   "cell_type": "code",
   "execution_count": 7,
   "metadata": {},
   "outputs": [
    {
     "name": "stdout",
     "output_type": "stream",
     "text": [
      "150783\n"
     ]
    }
   ],
   "source": [
    "print(perimeter.count())"
   ]
  },
  {
   "cell_type": "code",
   "execution_count": 8,
   "metadata": {},
   "outputs": [],
   "source": [
    "perimeter.write.parquet(os.path.join(dir_edited_datamart, \"perimeter\"), mode=\"overwrite\")"
   ]
  },
  {
   "cell_type": "markdown",
   "metadata": {},
   "source": [
    "#### link.name.basics.title"
   ]
  },
  {
   "cell_type": "code",
   "execution_count": 9,
   "metadata": {},
   "outputs": [],
   "source": [
    "perimeter = spark.read.parquet(os.path.join(dir_edited_datamart, \"perimeter\"))\n",
    "link_name_basics_titles = spark.read.parquet(os.path.join(dir_parsed_imdb, \"link_name_basics_titles\"))"
   ]
  },
  {
   "cell_type": "code",
   "execution_count": 10,
   "metadata": {},
   "outputs": [],
   "source": [
    "link_name_basics_titles = (\n",
    "    link_name_basics_titles\n",
    "    .join(perimeter.select(\"tconst\"), [\"tconst\"], \"inner\")\n",
    "    .select(\"nconst\")\n",
    "    .dropna()\n",
    "    .dropDuplicates()\n",
    "    .join(link_name_basics_titles, [\"nconst\"], \"inner\")\n",
    ")"
   ]
  },
  {
   "cell_type": "code",
   "execution_count": 11,
   "metadata": {},
   "outputs": [
    {
     "name": "stdout",
     "output_type": "stream",
     "text": [
      "4696606\n",
      "+---------+---------+\n",
      "|   nconst|   tconst|\n",
      "+---------+---------+\n",
      "|nm0000198|tt4555426|\n",
      "|nm0000198|tt1340800|\n",
      "|nm0000198|tt0468569|\n",
      "|nm0000198|tt0103874|\n",
      "|nm0000354|tt3659388|\n",
      "+---------+---------+\n",
      "only showing top 5 rows\n",
      "\n"
     ]
    }
   ],
   "source": [
    "print(link_name_basics_titles.count())\n",
    "link_name_basics_titles.show(5)"
   ]
  },
  {
   "cell_type": "code",
   "execution_count": 12,
   "metadata": {},
   "outputs": [],
   "source": [
    "link_name_basics_titles.write.parquet(os.path.join(dir_edited_datamart, \"link_name_basics_titles\"), mode=\"overwrite\")"
   ]
  },
  {
   "cell_type": "markdown",
   "metadata": {},
   "source": [
    "#### tconst (movies identifier for the perimeter)"
   ]
  },
  {
   "cell_type": "code",
   "execution_count": 13,
   "metadata": {},
   "outputs": [
    {
     "name": "stdout",
     "output_type": "stream",
     "text": [
      "669916\n"
     ]
    }
   ],
   "source": [
    "link_name_basics_titles = spark.read.parquet(os.path.join(dir_edited_datamart, \"link_name_basics_titles\"))\n",
    "tconst = link_name_basics_titles.select(\"tconst\").dropDuplicates()\n",
    "print(tconst.count())"
   ]
  },
  {
   "cell_type": "code",
   "execution_count": 14,
   "metadata": {},
   "outputs": [],
   "source": [
    "tconst.write.parquet(os.path.join(dir_edited_datamart, \"tconst\"), mode=\"overwrite\")"
   ]
  },
  {
   "cell_type": "markdown",
   "metadata": {},
   "source": [
    "#### title.basics"
   ]
  },
  {
   "cell_type": "code",
   "execution_count": 15,
   "metadata": {},
   "outputs": [],
   "source": [
    "tcsont = spark.read.parquet(os.path.join(dir_edited_datamart, \"tconst\"))"
   ]
  },
  {
   "cell_type": "code",
   "execution_count": 16,
   "metadata": {},
   "outputs": [],
   "source": [
    "title_basics = (\n",
    "    title_basics\n",
    "    .join(tconst, [\"tconst\"], \"inner\")\n",
    ")"
   ]
  },
  {
   "cell_type": "code",
   "execution_count": 17,
   "metadata": {},
   "outputs": [
    {
     "name": "stdout",
     "output_type": "stream",
     "text": [
      "669562\n",
      "+---------+---------+--------------------+--------------------+-------+---------+-------+--------------+--------------+\n",
      "|   tconst|titleType|        primaryTitle|       originalTitle|isAdult|startYear|endYear|runtimeMinutes|        genres|\n",
      "+---------+---------+--------------------+--------------------+-------+---------+-------+--------------+--------------+\n",
      "|tt0010060|    movie|The Delicious Lit...|The Delicious Lit...|      0|     1919|   null|            63|  Comedy,Drama|\n",
      "|tt0026930|    short|   Riders to the Sea|   Riders to the Sea|      0|     1935|   null|            40|         Short|\n",
      "|tt0032968|    movie|The Ramparts We W...|The Ramparts We W...|      0|     1940|   null|            99|         Drama|\n",
      "|tt0037961|    movie|        Oregon Trail|        Oregon Trail|      0|     1945|   null|            55|       Western|\n",
      "|tt0041676|    movie|      Mickey Magnate|        Mágnás Miska|      0|     1949|   null|            95|Comedy,Musical|\n",
      "+---------+---------+--------------------+--------------------+-------+---------+-------+--------------+--------------+\n",
      "only showing top 5 rows\n",
      "\n"
     ]
    }
   ],
   "source": [
    "print(title_basics.count())\n",
    "title_basics.show(5)"
   ]
  },
  {
   "cell_type": "code",
   "execution_count": 18,
   "metadata": {},
   "outputs": [],
   "source": [
    "title_basics.write.parquet(os.path.join(dir_edited_datamart, \"title_basics\"), mode=\"overwrite\")"
   ]
  },
  {
   "cell_type": "markdown",
   "metadata": {},
   "source": [
    "#### title.akas"
   ]
  },
  {
   "cell_type": "code",
   "execution_count": 19,
   "metadata": {},
   "outputs": [],
   "source": [
    "tconst = spark.read.parquet(os.path.join(dir_edited_datamart, \"tconst\"))\n",
    "title_akas = spark.read.parquet(os.path.join(dir_parsed_imdb, \"title_akas\"))"
   ]
  },
  {
   "cell_type": "code",
   "execution_count": 20,
   "metadata": {},
   "outputs": [
    {
     "name": "stdout",
     "output_type": "stream",
     "text": [
      "root\n",
      " |-- tconst: string (nullable = true)\n",
      " |-- titleType: string (nullable = true)\n",
      " |-- primaryTitle: string (nullable = true)\n",
      " |-- originalTitle: string (nullable = true)\n",
      " |-- isAdult: integer (nullable = true)\n",
      " |-- startYear: integer (nullable = true)\n",
      " |-- endYear: integer (nullable = true)\n",
      " |-- runtimeMinutes: string (nullable = true)\n",
      " |-- genres: string (nullable = true)\n",
      "\n"
     ]
    }
   ],
   "source": [
    "title_basics.printSchema()"
   ]
  },
  {
   "cell_type": "code",
   "execution_count": 21,
   "metadata": {},
   "outputs": [
    {
     "name": "stdout",
     "output_type": "stream",
     "text": [
      "root\n",
      " |-- titleId: string (nullable = true)\n",
      " |-- ordering: integer (nullable = true)\n",
      " |-- title: string (nullable = true)\n",
      " |-- region: string (nullable = true)\n",
      " |-- language: string (nullable = true)\n",
      " |-- types: string (nullable = true)\n",
      " |-- attributes: string (nullable = true)\n",
      " |-- isOriginalTitle: integer (nullable = true)\n",
      "\n"
     ]
    }
   ],
   "source": [
    "title_akas.printSchema()"
   ]
  },
  {
   "cell_type": "code",
   "execution_count": 22,
   "metadata": {},
   "outputs": [],
   "source": [
    "title_akas = (\n",
    "    title_akas\n",
    "    .join(tconst.select(tconst.tconst.alias(\"titleId\")), [\"titleId\"], \"inner\")\n",
    ")"
   ]
  },
  {
   "cell_type": "code",
   "execution_count": 23,
   "metadata": {},
   "outputs": [],
   "source": [
    "title_akas.write.parquet(os.path.join(dir_edited_datamart, \"title_akas\"), mode=\"overwrite\")"
   ]
  },
  {
   "cell_type": "markdown",
   "metadata": {},
   "source": [
    "#### title.ratings"
   ]
  },
  {
   "cell_type": "code",
   "execution_count": 24,
   "metadata": {},
   "outputs": [],
   "source": [
    "tconst = spark.read.parquet(os.path.join(dir_edited_datamart, \"tconst\"))\n",
    "title_ratings = spark.read.parquet(os.path.join(dir_parsed_imdb, \"title_ratings\"))"
   ]
  },
  {
   "cell_type": "code",
   "execution_count": 25,
   "metadata": {},
   "outputs": [],
   "source": [
    "title_ratings = (\n",
    "    title_ratings\n",
    "    .join(tconst, [\"tconst\"], \"inner\")\n",
    ")"
   ]
  },
  {
   "cell_type": "code",
   "execution_count": 26,
   "metadata": {},
   "outputs": [],
   "source": [
    "title_ratings.write.parquet(os.path.join(dir_edited_datamart, \"title_ratings\"), mode=\"overwrite\")"
   ]
  },
  {
   "cell_type": "code",
   "execution_count": null,
   "metadata": {},
   "outputs": [],
   "source": [
    "#### name.basics"
   ]
  },
  {
   "cell_type": "markdown",
   "metadata": {},
   "source": [
    "#### title.crew "
   ]
  },
  {
   "cell_type": "code",
   "execution_count": 27,
   "metadata": {},
   "outputs": [],
   "source": [
    "tconst = spark.read.parquet(os.path.join(dir_edited_datamart, \"tconst\"))\n",
    "title_crew = spark.read.parquet(os.path.join(dir_parsed_imdb, \"title_crew\"))"
   ]
  },
  {
   "cell_type": "code",
   "execution_count": 28,
   "metadata": {},
   "outputs": [],
   "source": [
    "title_crew = (\n",
    "    title_crew\n",
    "    .join(tconst, [\"tconst\"], \"inner\")\n",
    ")"
   ]
  },
  {
   "cell_type": "code",
   "execution_count": 29,
   "metadata": {},
   "outputs": [],
   "source": [
    "title_crew.write.parquet(os.path.join(dir_edited_datamart, \"title_crew\"), mode=\"overwrite\")"
   ]
  },
  {
   "cell_type": "markdown",
   "metadata": {},
   "source": [
    "#### link.title.directors"
   ]
  },
  {
   "cell_type": "code",
   "execution_count": 30,
   "metadata": {},
   "outputs": [],
   "source": [
    "tconst = spark.read.parquet(os.path.join(dir_edited_datamart, \"tconst\"))\n",
    "link_title_directors = spark.read.parquet(os.path.join(dir_parsed_imdb, \"link_title_directors\"))"
   ]
  },
  {
   "cell_type": "code",
   "execution_count": 31,
   "metadata": {},
   "outputs": [],
   "source": [
    "link_title_directors = (\n",
    "    link_title_directors\n",
    "    .join(tconst, [\"tconst\"], \"inner\")\n",
    ")"
   ]
  },
  {
   "cell_type": "code",
   "execution_count": 32,
   "metadata": {},
   "outputs": [],
   "source": [
    "link_title_directors.write.parquet(os.path.join(dir_edited_datamart, \"link_title_directors\"), mode=\"overwrite\")"
   ]
  },
  {
   "cell_type": "code",
   "execution_count": null,
   "metadata": {},
   "outputs": [],
   "source": []
  }
 ],
 "metadata": {
  "kernelspec": {
   "display_name": "Python 3",
   "language": "python",
   "name": "python3"
  },
  "language_info": {
   "codemirror_mode": {
    "name": "ipython",
    "version": 3
   },
   "file_extension": ".py",
   "mimetype": "text/x-python",
   "name": "python",
   "nbconvert_exporter": "python",
   "pygments_lexer": "ipython3",
   "version": "3.6.4"
  }
 },
 "nbformat": 4,
 "nbformat_minor": 2
}
