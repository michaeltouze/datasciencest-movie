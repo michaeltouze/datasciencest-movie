{
 "cells": [
  {
   "cell_type": "code",
   "execution_count": 12,
   "metadata": {},
   "outputs": [],
   "source": [
    "from bs4 import BeautifulSoup\n",
    "from urllib.request import urlopen, Request\n",
    "import pandas as pd\n",
    "import datetime\n",
    "import os\n",
    "import pyarrow"
   ]
  },
  {
   "cell_type": "code",
   "execution_count": 1,
   "metadata": {},
   "outputs": [],
   "source": [
    "dir_raw_data = \"../data/raw_data\"\n",
    "dir_raw_data_movie_budget = \"../data/raw_data/movie/budget\"\n",
    "dir_parsed_data = \"../data/parsed_data\"\n",
    "\n",
    "#today = datetime.date.today().strftime(today, \"%Y%m%d\")\n",
    "today = \"20190901\"\n",
    "path_date = \"day={}\".format(today)\n",
    "\n",
    "url = \"https://www.the-numbers.com/movie/budgets/all\""
   ]
  },
  {
   "cell_type": "code",
   "execution_count": 72,
   "metadata": {},
   "outputs": [],
   "source": [
    "def request_data(page, url=url, save=True):\n",
    "    headers = {\n",
    "        \"User-Agent\": \"Mozilla/5.0 (Windows NT 6.1) AppleWebKit/537.36 (KHTML, like Gecko) Chrome/41.0.2228.0 Safari/537.3\"\n",
    "    }\n",
    "    \n",
    "    if page > 1:\n",
    "        url += \"/{}\".format(str(page))\n",
    "    \n",
    "    req = Request(url, headers=headers)\n",
    "    html = urlopen(req).read()\n",
    "    \n",
    "    df = pd.read_html(html, header=0, index_col=0)[0]\n",
    "    if save:\n",
    "        file_name = \"movie_budget_{}\".format(str(page))\n",
    "        path_out = os.path.join(dir_raw_data_movie_budget, path_date, file_name)\n",
    "        df.to_parquet(path_out, compression=\"snappy\", engine=\"pyarrow\")\n",
    "    \n",
    "    return df"
   ]
  },
  {
   "cell_type": "code",
   "execution_count": 73,
   "metadata": {},
   "outputs": [],
   "source": [
    "page_start = 101\n",
    "step = 100"
   ]
  },
  {
   "cell_type": "code",
   "execution_count": null,
   "metadata": {},
   "outputs": [],
   "source": [
    "data = request_data(1)\n",
    "data_all = data\n",
    "page = page_start\n",
    "while data.shape[0] != 0:\n",
    "    data = request_data(page)\n",
    "    data_all = pd.concat([data_all, data])\n",
    "    page += step\n",
    "print(page-step)"
   ]
  },
  {
   "cell_type": "code",
   "execution_count": null,
   "metadata": {},
   "outputs": [],
   "source": [
    "def rename_col(c):\n",
    "    return c.lower().replace(\" \", \"_\")\n",
    "\n",
    "def parse_amount(df, cols=[\"Production Budget\", \"Domestic Gross\", \"Worldwide Gross\"]):\n",
    "    for c in cols:\n",
    "        df[c] = df[c].replace(\"[\\$,\\W]\", \"\", regex=True).astype(float)\n",
    "    return df\n",
    "\n",
    "def parse_date(df, cols=[\"Release Date\"], renaming=True):\n",
    "    df_out = df.copy()\n",
    "    def parser(c):\n",
    "        try:\n",
    "            return datetime.datetime.strptime(c, \"%b %d, %Y\")\n",
    "        except:\n",
    "            return None\n",
    "        \n",
    "    for c in cols:\n",
    "        df[c] = df[c].apply(lambda x: parser(x))\n",
    "    return df\n",
    "\n",
    "def get_movies_budget(df_budget):\n",
    "    df = df_budget.copy()\n",
    "    \n",
    "    df = parse_amount(df)\n",
    "    df = parse_date(df)\n",
    "    \n",
    "    d_renaming = {c: rename_col(c) for c in df.columns.tolist()}\n",
    "    df_out = df.rename(columns=d_renaming)\n",
    "    return df_out"
   ]
  },
  {
   "cell_type": "code",
   "execution_count": 83,
   "metadata": {},
   "outputs": [],
   "source": [
    "path_movie_budget = os.path.join(dir_data_parsed, \"movie_budget\")"
   ]
  },
  {
   "cell_type": "code",
   "execution_count": null,
   "metadata": {},
   "outputs": [],
   "source": [
    "movie_budget = get_movies_budget(data_all)"
   ]
  },
  {
   "cell_type": "code",
   "execution_count": null,
   "metadata": {},
   "outputs": [],
   "source": [
    "movie_budget.info()"
   ]
  },
  {
   "cell_type": "code",
   "execution_count": null,
   "metadata": {},
   "outputs": [],
   "source": [
    "movie_budget.to_parquet(path_movie_budget)"
   ]
  },
  {
   "cell_type": "code",
   "execution_count": null,
   "metadata": {},
   "outputs": [],
   "source": [
    "data = pd.read_parquet(path_movie_budget)"
   ]
  },
  {
   "cell_type": "code",
   "execution_count": null,
   "metadata": {},
   "outputs": [],
   "source": [
    "data.info()"
   ]
  },
  {
   "cell_type": "code",
   "execution_count": null,
   "metadata": {},
   "outputs": [],
   "source": [
    "data.head()"
   ]
  },
  {
   "cell_type": "code",
   "execution_count": 68,
   "metadata": {},
   "outputs": [],
   "source": [
    "%matplotlib inline\n",
    "\n",
    "import matplotlib.pyplot as plt\n",
    "import seaborn as sns"
   ]
  },
  {
   "cell_type": "code",
   "execution_count": null,
   "metadata": {},
   "outputs": [],
   "source": []
  }
 ],
 "metadata": {
  "kernelspec": {
   "display_name": "Python 3",
   "language": "python",
   "name": "python3"
  },
  "language_info": {
   "codemirror_mode": {
    "name": "ipython",
    "version": 3
   },
   "file_extension": ".py",
   "mimetype": "text/x-python",
   "name": "python",
   "nbconvert_exporter": "python",
   "pygments_lexer": "ipython3",
   "version": "3.6.4"
  }
 },
 "nbformat": 4,
 "nbformat_minor": 2
}
