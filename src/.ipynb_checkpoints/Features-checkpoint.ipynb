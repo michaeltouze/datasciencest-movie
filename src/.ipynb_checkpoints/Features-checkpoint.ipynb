{
 "cells": [
  {
   "cell_type": "code",
   "execution_count": 54,
   "metadata": {},
   "outputs": [],
   "source": [
    "import pandas as pd\n",
    "import numpy as np\n",
    "import os\n",
    "import pyspark\n",
    "import pyspark.sql.functions as F"
   ]
  },
  {
   "cell_type": "code",
   "execution_count": 68,
   "metadata": {},
   "outputs": [],
   "source": [
    "dir_edited_datamart = \"../data/edited_data/datamart.db\"\n",
    "dir_parsed_data = \"../data/parsed_data\""
   ]
  },
  {
   "cell_type": "markdown",
   "metadata": {},
   "source": [
    "#### Create average movie rating per actor, movie"
   ]
  },
  {
   "cell_type": "code",
   "execution_count": 56,
   "metadata": {},
   "outputs": [],
   "source": [
    "link_name_basics_titles = pd.read_parquet(os.path.join(dir_edited_datamart, \"link_name_basics_titles\"))\n",
    "title_ratings = pd.read_parquet(os.path.join(dir_edited_datamart, \"title_ratings\"))\n",
    "title_basics = pd.read_parquet(os.path.join(dir_edited_datamart, \"title_basics\"))"
   ]
  },
  {
   "cell_type": "code",
   "execution_count": 61,
   "metadata": {},
   "outputs": [
    {
     "name": "stdout",
     "output_type": "stream",
     "text": [
      "<class 'pandas.core.frame.DataFrame'>\n",
      "RangeIndex: 4696606 entries, 0 to 4696605\n",
      "Data columns (total 2 columns):\n",
      "nconst    object\n",
      "tconst    object\n",
      "dtypes: object(2)\n",
      "memory usage: 71.7+ MB\n"
     ]
    }
   ],
   "source": [
    "link_name_basics_titles.info()"
   ]
  },
  {
   "cell_type": "code",
   "execution_count": 59,
   "metadata": {},
   "outputs": [
    {
     "name": "stdout",
     "output_type": "stream",
     "text": [
      "<class 'pandas.core.frame.DataFrame'>\n",
      "RangeIndex: 669562 entries, 0 to 669561\n",
      "Data columns (total 9 columns):\n",
      "tconst            669562 non-null object\n",
      "titleType         669562 non-null object\n",
      "primaryTitle      669562 non-null object\n",
      "originalTitle     669562 non-null object\n",
      "isAdult           669562 non-null int32\n",
      "startYear         632934 non-null float64\n",
      "endYear           22181 non-null float64\n",
      "runtimeMinutes    477887 non-null object\n",
      "genres            652487 non-null object\n",
      "dtypes: float64(2), int32(1), object(6)\n",
      "memory usage: 43.4+ MB\n"
     ]
    }
   ],
   "source": [
    "title_basics.info()"
   ]
  },
  {
   "cell_type": "code",
   "execution_count": 60,
   "metadata": {},
   "outputs": [
    {
     "name": "stdout",
     "output_type": "stream",
     "text": [
      "<class 'pandas.core.frame.DataFrame'>\n",
      "RangeIndex: 277451 entries, 0 to 277450\n",
      "Data columns (total 3 columns):\n",
      "tconst           277451 non-null object\n",
      "averageRating    277451 non-null float64\n",
      "numVotes         277451 non-null int32\n",
      "dtypes: float64(1), int32(1), object(1)\n",
      "memory usage: 5.3+ MB\n"
     ]
    }
   ],
   "source": [
    "title_ratings.info()"
   ]
  },
  {
   "cell_type": "code",
   "execution_count": 64,
   "metadata": {},
   "outputs": [],
   "source": [
    "link_name_basics_titles_start_year = (\n",
    "    link_name_basics_titles\n",
    "    .merge(title_basics[[\"tconst\", \"startYear\"]], left_on=\"tconst\", right_on=\"tconst\")\n",
    ")"
   ]
  },
  {
   "cell_type": "code",
   "execution_count": 66,
   "metadata": {},
   "outputs": [
    {
     "data": {
      "text/html": [
       "<div>\n",
       "<style scoped>\n",
       "    .dataframe tbody tr th:only-of-type {\n",
       "        vertical-align: middle;\n",
       "    }\n",
       "\n",
       "    .dataframe tbody tr th {\n",
       "        vertical-align: top;\n",
       "    }\n",
       "\n",
       "    .dataframe thead th {\n",
       "        text-align: right;\n",
       "    }\n",
       "</style>\n",
       "<table border=\"1\" class=\"dataframe\">\n",
       "  <thead>\n",
       "    <tr style=\"text-align: right;\">\n",
       "      <th></th>\n",
       "      <th></th>\n",
       "      <th>averageRating</th>\n",
       "      <th>numVotes</th>\n",
       "    </tr>\n",
       "    <tr>\n",
       "      <th>tconst</th>\n",
       "      <th>nconst</th>\n",
       "      <th></th>\n",
       "      <th></th>\n",
       "    </tr>\n",
       "  </thead>\n",
       "  <tbody>\n",
       "    <tr>\n",
       "      <th>tt0002143</th>\n",
       "      <th>nm0838370</th>\n",
       "      <td>5.90</td>\n",
       "      <td>29.0</td>\n",
       "    </tr>\n",
       "    <tr>\n",
       "      <th>tt0006864</th>\n",
       "      <th>nm0834569</th>\n",
       "      <td>6.40</td>\n",
       "      <td>20647.0</td>\n",
       "    </tr>\n",
       "    <tr>\n",
       "      <th rowspan=\"2\" valign=\"top\">tt0008133</th>\n",
       "      <th>nm6712871</th>\n",
       "      <td>6.85</td>\n",
       "      <td>2414.0</td>\n",
       "    </tr>\n",
       "    <tr>\n",
       "      <th>nm8165332</th>\n",
       "      <td>6.90</td>\n",
       "      <td>2305.0</td>\n",
       "    </tr>\n",
       "    <tr>\n",
       "      <th>tt0009968</th>\n",
       "      <th>nm0834569</th>\n",
       "      <td>7.10</td>\n",
       "      <td>16814.0</td>\n",
       "    </tr>\n",
       "  </tbody>\n",
       "</table>\n",
       "</div>"
      ],
      "text/plain": [
       "                     averageRating  numVotes\n",
       "tconst    nconst                            \n",
       "tt0002143 nm0838370           5.90      29.0\n",
       "tt0006864 nm0834569           6.40   20647.0\n",
       "tt0008133 nm6712871           6.85    2414.0\n",
       "          nm8165332           6.90    2305.0\n",
       "tt0009968 nm0834569           7.10   16814.0"
      ]
     },
     "execution_count": 66,
     "metadata": {},
     "output_type": "execute_result"
    }
   ],
   "source": [
    "avg_name_rating = (\n",
    "    link_name_basics_titles_start_year\n",
    "    .merge(\n",
    "        link_name_basics_titles_start_year.rename(columns={\"tconst\": \"_tconst\", \"startYear\": \"_startYear\"}), \n",
    "        right_on=\"nconst\", left_on=\"nconst\")\n",
    "    .merge(title_ratings.rename(columns={\"tconst\": \"_tconst\"}), right_on=\"_tconst\", left_on=\"_tconst\")\n",
    ")\n",
    "    \n",
    "avg_name_rating = avg_name_rating[avg_name_rating._startYear < avg_name_rating.startYear]\n",
    "avg_name_rating = avg_name_rating.groupby([\"tconst\", \"nconst\"])[[\"averageRating\", \"numVotes\"]].mean()\n",
    "avg_name_rating.head()"
   ]
  },
  {
   "cell_type": "markdown",
   "metadata": {},
   "source": [
    "#### link movie.budget to title.basics"
   ]
  },
  {
   "cell_type": "code",
   "execution_count": 25,
   "metadata": {},
   "outputs": [],
   "source": [
    "import pyspark\n",
    "import os\n",
    "import pandas as pd"
   ]
  },
  {
   "cell_type": "code",
   "execution_count": 72,
   "metadata": {},
   "outputs": [],
   "source": [
    "movie_budget = pd.read_parquet(os.path.join(dir_parsed_data, \"movie_budget\"))\n",
    "title_basics = pd.read_parquet(os.path.join(dir_edited_datamart, \"title_basics\"))"
   ]
  },
  {
   "cell_type": "code",
   "execution_count": 73,
   "metadata": {},
   "outputs": [
    {
     "name": "stdout",
     "output_type": "stream",
     "text": [
      "<class 'pandas.core.frame.DataFrame'>\n",
      "Int64Index: 5850 entries, 1 to 5850\n",
      "Data columns (total 5 columns):\n",
      "ReleaseDate         5682 non-null datetime64[ns]\n",
      "Movie               5850 non-null object\n",
      "ProductionBudget    5850 non-null float64\n",
      "DomesticGross       5850 non-null float64\n",
      "WorldwideGross      5850 non-null float64\n",
      "dtypes: datetime64[ns](1), float64(3), object(1)\n",
      "memory usage: 274.2+ KB\n"
     ]
    }
   ],
   "source": [
    "movie_budget.info()"
   ]
  },
  {
   "cell_type": "code",
   "execution_count": 75,
   "metadata": {},
   "outputs": [],
   "source": [
    "movie_budget[\"title\"] = movie_budget.Movie.str.lower().replace(\"\\W\", \"\", regex=True)\n",
    "movie_budget = movie_budget.set_index(\"title\")"
   ]
  },
  {
   "cell_type": "code",
   "execution_count": 77,
   "metadata": {},
   "outputs": [
    {
     "data": {
      "text/html": [
       "<div>\n",
       "<style scoped>\n",
       "    .dataframe tbody tr th:only-of-type {\n",
       "        vertical-align: middle;\n",
       "    }\n",
       "\n",
       "    .dataframe tbody tr th {\n",
       "        vertical-align: top;\n",
       "    }\n",
       "\n",
       "    .dataframe thead th {\n",
       "        text-align: right;\n",
       "    }\n",
       "</style>\n",
       "<table border=\"1\" class=\"dataframe\">\n",
       "  <thead>\n",
       "    <tr style=\"text-align: right;\">\n",
       "      <th></th>\n",
       "      <th>ReleaseDate</th>\n",
       "      <th>Movie</th>\n",
       "      <th>ProductionBudget</th>\n",
       "      <th>DomesticGross</th>\n",
       "      <th>WorldwideGross</th>\n",
       "    </tr>\n",
       "    <tr>\n",
       "      <th>title</th>\n",
       "      <th></th>\n",
       "      <th></th>\n",
       "      <th></th>\n",
       "      <th></th>\n",
       "      <th></th>\n",
       "    </tr>\n",
       "  </thead>\n",
       "  <tbody>\n",
       "    <tr>\n",
       "      <th>avatar</th>\n",
       "      <td>2009-12-17</td>\n",
       "      <td>Avatar</td>\n",
       "      <td>425000000.0</td>\n",
       "      <td>760507625.0</td>\n",
       "      <td>2.789705e+09</td>\n",
       "    </tr>\n",
       "    <tr>\n",
       "      <th>piratesofthecaribbeanonstrangertides</th>\n",
       "      <td>2011-05-20</td>\n",
       "      <td>Pirates of the Caribbean: On Stranger Tides</td>\n",
       "      <td>410600000.0</td>\n",
       "      <td>241063875.0</td>\n",
       "      <td>1.045664e+09</td>\n",
       "    </tr>\n",
       "    <tr>\n",
       "      <th>avengersendgame</th>\n",
       "      <td>2019-04-23</td>\n",
       "      <td>Avengers: Endgame</td>\n",
       "      <td>400000000.0</td>\n",
       "      <td>858373000.0</td>\n",
       "      <td>2.795473e+09</td>\n",
       "    </tr>\n",
       "    <tr>\n",
       "      <th>avengersageofultron</th>\n",
       "      <td>2015-04-22</td>\n",
       "      <td>Avengers: Age of Ultron</td>\n",
       "      <td>330600000.0</td>\n",
       "      <td>459005868.0</td>\n",
       "      <td>1.403014e+09</td>\n",
       "    </tr>\n",
       "    <tr>\n",
       "      <th>starwarsepviiithelastjedi</th>\n",
       "      <td>2017-12-13</td>\n",
       "      <td>Star Wars Ep. VIII: The Last Jedi</td>\n",
       "      <td>317000000.0</td>\n",
       "      <td>620181382.0</td>\n",
       "      <td>1.316722e+09</td>\n",
       "    </tr>\n",
       "  </tbody>\n",
       "</table>\n",
       "</div>"
      ],
      "text/plain": [
       "                                     ReleaseDate  \\\n",
       "title                                              \n",
       "avatar                                2009-12-17   \n",
       "piratesofthecaribbeanonstrangertides  2011-05-20   \n",
       "avengersendgame                       2019-04-23   \n",
       "avengersageofultron                   2015-04-22   \n",
       "starwarsepviiithelastjedi             2017-12-13   \n",
       "\n",
       "                                                                            Movie  \\\n",
       "title                                                                               \n",
       "avatar                                                                     Avatar   \n",
       "piratesofthecaribbeanonstrangertides  Pirates of the Caribbean: On Stranger Tides   \n",
       "avengersendgame                                                 Avengers: Endgame   \n",
       "avengersageofultron                                       Avengers: Age of Ultron   \n",
       "starwarsepviiithelastjedi                       Star Wars Ep. VIII: The Last Jedi   \n",
       "\n",
       "                                      ProductionBudget  DomesticGross  \\\n",
       "title                                                                   \n",
       "avatar                                     425000000.0    760507625.0   \n",
       "piratesofthecaribbeanonstrangertides       410600000.0    241063875.0   \n",
       "avengersendgame                            400000000.0    858373000.0   \n",
       "avengersageofultron                        330600000.0    459005868.0   \n",
       "starwarsepviiithelastjedi                  317000000.0    620181382.0   \n",
       "\n",
       "                                      WorldwideGross  \n",
       "title                                                 \n",
       "avatar                                  2.789705e+09  \n",
       "piratesofthecaribbeanonstrangertides    1.045664e+09  \n",
       "avengersendgame                         2.795473e+09  \n",
       "avengersageofultron                     1.403014e+09  \n",
       "starwarsepviiithelastjedi               1.316722e+09  "
      ]
     },
     "execution_count": 77,
     "metadata": {},
     "output_type": "execute_result"
    }
   ],
   "source": [
    "movie_budget.head()"
   ]
  },
  {
   "cell_type": "code",
   "execution_count": 78,
   "metadata": {},
   "outputs": [],
   "source": [
    "title_basics[\"title\"] = title_basics.originalTitle.str.lower().replace(\"\\W\", \"\", regex=True)\n",
    "title_basics = title_basics.set_index(\"title\")"
   ]
  },
  {
   "cell_type": "code",
   "execution_count": 79,
   "metadata": {},
   "outputs": [
    {
     "data": {
      "text/html": [
       "<div>\n",
       "<style scoped>\n",
       "    .dataframe tbody tr th:only-of-type {\n",
       "        vertical-align: middle;\n",
       "    }\n",
       "\n",
       "    .dataframe tbody tr th {\n",
       "        vertical-align: top;\n",
       "    }\n",
       "\n",
       "    .dataframe thead th {\n",
       "        text-align: right;\n",
       "    }\n",
       "</style>\n",
       "<table border=\"1\" class=\"dataframe\">\n",
       "  <thead>\n",
       "    <tr style=\"text-align: right;\">\n",
       "      <th></th>\n",
       "      <th>tconst</th>\n",
       "      <th>titleType</th>\n",
       "      <th>primaryTitle</th>\n",
       "      <th>originalTitle</th>\n",
       "      <th>isAdult</th>\n",
       "      <th>startYear</th>\n",
       "      <th>endYear</th>\n",
       "      <th>runtimeMinutes</th>\n",
       "      <th>genres</th>\n",
       "    </tr>\n",
       "    <tr>\n",
       "      <th>title</th>\n",
       "      <th></th>\n",
       "      <th></th>\n",
       "      <th></th>\n",
       "      <th></th>\n",
       "      <th></th>\n",
       "      <th></th>\n",
       "      <th></th>\n",
       "      <th></th>\n",
       "      <th></th>\n",
       "    </tr>\n",
       "  </thead>\n",
       "  <tbody>\n",
       "    <tr>\n",
       "      <th>thedeliciouslittledevil</th>\n",
       "      <td>tt0010060</td>\n",
       "      <td>movie</td>\n",
       "      <td>The Delicious Little Devil</td>\n",
       "      <td>The Delicious Little Devil</td>\n",
       "      <td>0</td>\n",
       "      <td>1919.0</td>\n",
       "      <td>NaN</td>\n",
       "      <td>63</td>\n",
       "      <td>Comedy,Drama</td>\n",
       "    </tr>\n",
       "    <tr>\n",
       "      <th>riderstothesea</th>\n",
       "      <td>tt0026930</td>\n",
       "      <td>short</td>\n",
       "      <td>Riders to the Sea</td>\n",
       "      <td>Riders to the Sea</td>\n",
       "      <td>0</td>\n",
       "      <td>1935.0</td>\n",
       "      <td>NaN</td>\n",
       "      <td>40</td>\n",
       "      <td>Short</td>\n",
       "    </tr>\n",
       "    <tr>\n",
       "      <th>therampartswewatch</th>\n",
       "      <td>tt0032968</td>\n",
       "      <td>movie</td>\n",
       "      <td>The Ramparts We Watch</td>\n",
       "      <td>The Ramparts We Watch</td>\n",
       "      <td>0</td>\n",
       "      <td>1940.0</td>\n",
       "      <td>NaN</td>\n",
       "      <td>99</td>\n",
       "      <td>Drama</td>\n",
       "    </tr>\n",
       "    <tr>\n",
       "      <th>oregontrail</th>\n",
       "      <td>tt0037961</td>\n",
       "      <td>movie</td>\n",
       "      <td>Oregon Trail</td>\n",
       "      <td>Oregon Trail</td>\n",
       "      <td>0</td>\n",
       "      <td>1945.0</td>\n",
       "      <td>NaN</td>\n",
       "      <td>55</td>\n",
       "      <td>Western</td>\n",
       "    </tr>\n",
       "    <tr>\n",
       "      <th>mágnásmiska</th>\n",
       "      <td>tt0041676</td>\n",
       "      <td>movie</td>\n",
       "      <td>Mickey Magnate</td>\n",
       "      <td>Mágnás Miska</td>\n",
       "      <td>0</td>\n",
       "      <td>1949.0</td>\n",
       "      <td>NaN</td>\n",
       "      <td>95</td>\n",
       "      <td>Comedy,Musical</td>\n",
       "    </tr>\n",
       "  </tbody>\n",
       "</table>\n",
       "</div>"
      ],
      "text/plain": [
       "                            tconst titleType                primaryTitle  \\\n",
       "title                                                                      \n",
       "thedeliciouslittledevil  tt0010060     movie  The Delicious Little Devil   \n",
       "riderstothesea           tt0026930     short           Riders to the Sea   \n",
       "therampartswewatch       tt0032968     movie       The Ramparts We Watch   \n",
       "oregontrail              tt0037961     movie                Oregon Trail   \n",
       "mágnásmiska              tt0041676     movie              Mickey Magnate   \n",
       "\n",
       "                                      originalTitle  isAdult  startYear  \\\n",
       "title                                                                     \n",
       "thedeliciouslittledevil  The Delicious Little Devil        0     1919.0   \n",
       "riderstothesea                    Riders to the Sea        0     1935.0   \n",
       "therampartswewatch            The Ramparts We Watch        0     1940.0   \n",
       "oregontrail                            Oregon Trail        0     1945.0   \n",
       "mágnásmiska                            Mágnás Miska        0     1949.0   \n",
       "\n",
       "                         endYear runtimeMinutes          genres  \n",
       "title                                                            \n",
       "thedeliciouslittledevil      NaN             63    Comedy,Drama  \n",
       "riderstothesea               NaN             40           Short  \n",
       "therampartswewatch           NaN             99           Drama  \n",
       "oregontrail                  NaN             55         Western  \n",
       "mágnásmiska                  NaN             95  Comedy,Musical  "
      ]
     },
     "execution_count": 79,
     "metadata": {},
     "output_type": "execute_result"
    }
   ],
   "source": [
    "title_basics.head()"
   ]
  },
  {
   "cell_type": "code",
   "execution_count": 91,
   "metadata": {},
   "outputs": [],
   "source": [
    "title_basics[\"titleBasicsFlag\"] = True\n",
    "\n",
    "title_budget = (\n",
    "    movie_budget\n",
    "    .join(title_basics.titleBasicsFlag, how=\"left\")\n",
    ")"
   ]
  },
  {
   "cell_type": "code",
   "execution_count": 92,
   "metadata": {},
   "outputs": [
    {
     "data": {
      "text/html": [
       "<div>\n",
       "<style scoped>\n",
       "    .dataframe tbody tr th:only-of-type {\n",
       "        vertical-align: middle;\n",
       "    }\n",
       "\n",
       "    .dataframe tbody tr th {\n",
       "        vertical-align: top;\n",
       "    }\n",
       "\n",
       "    .dataframe thead th {\n",
       "        text-align: right;\n",
       "    }\n",
       "</style>\n",
       "<table border=\"1\" class=\"dataframe\">\n",
       "  <thead>\n",
       "    <tr style=\"text-align: right;\">\n",
       "      <th></th>\n",
       "      <th>ReleaseDate</th>\n",
       "      <th>Movie</th>\n",
       "      <th>ProductionBudget</th>\n",
       "      <th>DomesticGross</th>\n",
       "      <th>WorldwideGross</th>\n",
       "      <th>titleBasicsFlag</th>\n",
       "    </tr>\n",
       "    <tr>\n",
       "      <th>title</th>\n",
       "      <th></th>\n",
       "      <th></th>\n",
       "      <th></th>\n",
       "      <th></th>\n",
       "      <th></th>\n",
       "      <th></th>\n",
       "    </tr>\n",
       "  </thead>\n",
       "  <tbody>\n",
       "    <tr>\n",
       "      <th>10000bc</th>\n",
       "      <td>2008-03-07</td>\n",
       "      <td>10,000 B.C.</td>\n",
       "      <td>105000000.0</td>\n",
       "      <td>94784201.0</td>\n",
       "      <td>269065678.0</td>\n",
       "      <td>True</td>\n",
       "    </tr>\n",
       "    <tr>\n",
       "      <th>10000bc</th>\n",
       "      <td>2008-03-07</td>\n",
       "      <td>10,000 B.C.</td>\n",
       "      <td>105000000.0</td>\n",
       "      <td>94784201.0</td>\n",
       "      <td>269065678.0</td>\n",
       "      <td>True</td>\n",
       "    </tr>\n",
       "    <tr>\n",
       "      <th>102dalmatians</th>\n",
       "      <td>2000-11-22</td>\n",
       "      <td>102 Dalmatians</td>\n",
       "      <td>85000000.0</td>\n",
       "      <td>66941559.0</td>\n",
       "      <td>66941559.0</td>\n",
       "      <td>True</td>\n",
       "    </tr>\n",
       "    <tr>\n",
       "      <th>10cloverfieldlane</th>\n",
       "      <td>2016-01-04</td>\n",
       "      <td>10 Cloverfield Lane</td>\n",
       "      <td>5000000.0</td>\n",
       "      <td>72082999.0</td>\n",
       "      <td>108286422.0</td>\n",
       "      <td>True</td>\n",
       "    </tr>\n",
       "    <tr>\n",
       "      <th>10daysinamadhouse</th>\n",
       "      <td>2015-11-11</td>\n",
       "      <td>10 Days in a Madhouse</td>\n",
       "      <td>12000000.0</td>\n",
       "      <td>14616.0</td>\n",
       "      <td>14616.0</td>\n",
       "      <td>True</td>\n",
       "    </tr>\n",
       "  </tbody>\n",
       "</table>\n",
       "</div>"
      ],
      "text/plain": [
       "                  ReleaseDate                  Movie  ProductionBudget  \\\n",
       "title                                                                    \n",
       "10000bc            2008-03-07            10,000 B.C.       105000000.0   \n",
       "10000bc            2008-03-07            10,000 B.C.       105000000.0   \n",
       "102dalmatians      2000-11-22         102 Dalmatians        85000000.0   \n",
       "10cloverfieldlane  2016-01-04    10 Cloverfield Lane         5000000.0   \n",
       "10daysinamadhouse  2015-11-11  10 Days in a Madhouse        12000000.0   \n",
       "\n",
       "                   DomesticGross  WorldwideGross titleBasicsFlag  \n",
       "title                                                             \n",
       "10000bc               94784201.0     269065678.0            True  \n",
       "10000bc               94784201.0     269065678.0            True  \n",
       "102dalmatians         66941559.0      66941559.0            True  \n",
       "10cloverfieldlane     72082999.0     108286422.0            True  \n",
       "10daysinamadhouse        14616.0         14616.0            True  "
      ]
     },
     "execution_count": 92,
     "metadata": {},
     "output_type": "execute_result"
    }
   ],
   "source": [
    "title_budget.head()"
   ]
  },
  {
   "cell_type": "code",
   "execution_count": 93,
   "metadata": {},
   "outputs": [
    {
     "data": {
      "text/plain": [
       "True    19368\n",
       "Name: titleBasicsFlag, dtype: int64"
      ]
     },
     "execution_count": 93,
     "metadata": {},
     "output_type": "execute_result"
    }
   ],
   "source": [
    "title_budget.titleBasicsFlag.value_counts()"
   ]
  },
  {
   "cell_type": "code",
   "execution_count": null,
   "metadata": {},
   "outputs": [],
   "source": []
  }
 ],
 "metadata": {
  "kernelspec": {
   "display_name": "Python 3",
   "language": "python",
   "name": "python3"
  },
  "language_info": {
   "codemirror_mode": {
    "name": "ipython",
    "version": 3
   },
   "file_extension": ".py",
   "mimetype": "text/x-python",
   "name": "python",
   "nbconvert_exporter": "python",
   "pygments_lexer": "ipython3",
   "version": "3.6.4"
  }
 },
 "nbformat": 4,
 "nbformat_minor": 2
}
