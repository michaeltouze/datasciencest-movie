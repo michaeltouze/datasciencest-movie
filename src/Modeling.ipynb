{
 "cells": [
  {
   "cell_type": "code",
   "execution_count": 1,
   "metadata": {},
   "outputs": [],
   "source": [
    "import pandas as pd\n",
    "import numpy as np\n",
    "import os"
   ]
  },
  {
   "cell_type": "markdown",
   "metadata": {},
   "source": [
    "# Perimeter"
   ]
  },
  {
   "cell_type": "code",
   "execution_count": 328,
   "metadata": {},
   "outputs": [],
   "source": [
    "data = pd.read_parquet(\"../data/edited_data/modeling/data\")"
   ]
  },
  {
   "cell_type": "code",
   "execution_count": 329,
   "metadata": {},
   "outputs": [],
   "source": [
    "data = data.drop(\n",
    "    columns=[\n",
    "        \"numVotes\",\n",
    "        \"title\", \n",
    "        \"titleType\", \n",
    "        \"Movie\", \n",
    "        \"titleBasicsFlag\",\n",
    "        \"primaryTitle\",\n",
    "        \"ReleaseDate\",\n",
    "        \"nObs\",\n",
    "        \"WorldwideGross\"],\n",
    "    axis=1\n",
    ")"
   ]
  },
  {
   "cell_type": "code",
   "execution_count": 330,
   "metadata": {},
   "outputs": [
    {
     "name": "stdout",
     "output_type": "stream",
     "text": [
      "<class 'pandas.core.frame.DataFrame'>\n",
      "Index: 277451 entries, tt0000038 to tt9916720\n",
      "Data columns (total 15 columns):\n",
      "averageRating_name      199591 non-null float64\n",
      "numVotes_name           199591 non-null float64\n",
      "averageRating_genres    277451 non-null float64\n",
      "numVotes_genres         277451 non-null float64\n",
      "ProductionBudget        3978 non-null float64\n",
      "DomesticGross           3978 non-null float64\n",
      "nLetters                277451 non-null float64\n",
      "nCapitalLetters         277451 non-null float64\n",
      "nWords                  277451 non-null float64\n",
      "actor                   78590 non-null float64\n",
      "director                53534 non-null float64\n",
      "other                   55131 non-null float64\n",
      "producer                26142 non-null float64\n",
      "averageRating           277451 non-null float64\n",
      "genres                  271751 non-null object\n",
      "dtypes: float64(14), object(1)\n",
      "memory usage: 33.9+ MB\n"
     ]
    }
   ],
   "source": [
    "data.info()"
   ]
  },
  {
   "cell_type": "code",
   "execution_count": 331,
   "metadata": {},
   "outputs": [
    {
     "data": {
      "text/html": [
       "<div>\n",
       "<style scoped>\n",
       "    .dataframe tbody tr th:only-of-type {\n",
       "        vertical-align: middle;\n",
       "    }\n",
       "\n",
       "    .dataframe tbody tr th {\n",
       "        vertical-align: top;\n",
       "    }\n",
       "\n",
       "    .dataframe thead th {\n",
       "        text-align: right;\n",
       "    }\n",
       "</style>\n",
       "<table border=\"1\" class=\"dataframe\">\n",
       "  <thead>\n",
       "    <tr style=\"text-align: right;\">\n",
       "      <th></th>\n",
       "      <th>averageRating_name</th>\n",
       "      <th>numVotes_name</th>\n",
       "      <th>averageRating_genres</th>\n",
       "      <th>numVotes_genres</th>\n",
       "      <th>ProductionBudget</th>\n",
       "      <th>DomesticGross</th>\n",
       "      <th>nLetters</th>\n",
       "      <th>nCapitalLetters</th>\n",
       "      <th>nWords</th>\n",
       "      <th>actor</th>\n",
       "      <th>director</th>\n",
       "      <th>other</th>\n",
       "      <th>producer</th>\n",
       "      <th>averageRating</th>\n",
       "      <th>genres</th>\n",
       "    </tr>\n",
       "    <tr>\n",
       "      <th>tconst</th>\n",
       "      <th></th>\n",
       "      <th></th>\n",
       "      <th></th>\n",
       "      <th></th>\n",
       "      <th></th>\n",
       "      <th></th>\n",
       "      <th></th>\n",
       "      <th></th>\n",
       "      <th></th>\n",
       "      <th></th>\n",
       "      <th></th>\n",
       "      <th></th>\n",
       "      <th></th>\n",
       "      <th></th>\n",
       "      <th></th>\n",
       "    </tr>\n",
       "  </thead>\n",
       "  <tbody>\n",
       "    <tr>\n",
       "      <td>tt0000038</td>\n",
       "      <td>NaN</td>\n",
       "      <td>NaN</td>\n",
       "      <td>7.170422</td>\n",
       "      <td>54.924635</td>\n",
       "      <td>NaN</td>\n",
       "      <td>NaN</td>\n",
       "      <td>13.0</td>\n",
       "      <td>3.0</td>\n",
       "      <td>3.0</td>\n",
       "      <td>NaN</td>\n",
       "      <td>NaN</td>\n",
       "      <td>NaN</td>\n",
       "      <td>NaN</td>\n",
       "      <td>4.2</td>\n",
       "      <td>Documentary,Short,Sport</td>\n",
       "    </tr>\n",
       "    <tr>\n",
       "      <td>tt0000417</td>\n",
       "      <td>NaN</td>\n",
       "      <td>NaN</td>\n",
       "      <td>7.170422</td>\n",
       "      <td>54.924635</td>\n",
       "      <td>NaN</td>\n",
       "      <td>NaN</td>\n",
       "      <td>18.0</td>\n",
       "      <td>3.0</td>\n",
       "      <td>5.0</td>\n",
       "      <td>NaN</td>\n",
       "      <td>NaN</td>\n",
       "      <td>NaN</td>\n",
       "      <td>NaN</td>\n",
       "      <td>8.2</td>\n",
       "      <td>Action,Adventure,Comedy</td>\n",
       "    </tr>\n",
       "    <tr>\n",
       "      <td>tt0001440</td>\n",
       "      <td>NaN</td>\n",
       "      <td>NaN</td>\n",
       "      <td>6.226725</td>\n",
       "      <td>5076.682366</td>\n",
       "      <td>NaN</td>\n",
       "      <td>NaN</td>\n",
       "      <td>13.0</td>\n",
       "      <td>2.0</td>\n",
       "      <td>2.0</td>\n",
       "      <td>NaN</td>\n",
       "      <td>NaN</td>\n",
       "      <td>NaN</td>\n",
       "      <td>NaN</td>\n",
       "      <td>4.8</td>\n",
       "      <td>Drama,History</td>\n",
       "    </tr>\n",
       "    <tr>\n",
       "      <td>tt0001563</td>\n",
       "      <td>NaN</td>\n",
       "      <td>NaN</td>\n",
       "      <td>7.170422</td>\n",
       "      <td>54.924635</td>\n",
       "      <td>NaN</td>\n",
       "      <td>NaN</td>\n",
       "      <td>24.0</td>\n",
       "      <td>4.0</td>\n",
       "      <td>5.0</td>\n",
       "      <td>NaN</td>\n",
       "      <td>NaN</td>\n",
       "      <td>NaN</td>\n",
       "      <td>NaN</td>\n",
       "      <td>5.8</td>\n",
       "      <td>Crime,Drama,Short</td>\n",
       "    </tr>\n",
       "    <tr>\n",
       "      <td>tt0001889</td>\n",
       "      <td>NaN</td>\n",
       "      <td>NaN</td>\n",
       "      <td>6.226725</td>\n",
       "      <td>5076.682366</td>\n",
       "      <td>NaN</td>\n",
       "      <td>NaN</td>\n",
       "      <td>12.0</td>\n",
       "      <td>1.0</td>\n",
       "      <td>1.0</td>\n",
       "      <td>NaN</td>\n",
       "      <td>NaN</td>\n",
       "      <td>NaN</td>\n",
       "      <td>NaN</td>\n",
       "      <td>4.0</td>\n",
       "      <td>None</td>\n",
       "    </tr>\n",
       "  </tbody>\n",
       "</table>\n",
       "</div>"
      ],
      "text/plain": [
       "           averageRating_name  numVotes_name  averageRating_genres  \\\n",
       "tconst                                                               \n",
       "tt0000038                 NaN            NaN              7.170422   \n",
       "tt0000417                 NaN            NaN              7.170422   \n",
       "tt0001440                 NaN            NaN              6.226725   \n",
       "tt0001563                 NaN            NaN              7.170422   \n",
       "tt0001889                 NaN            NaN              6.226725   \n",
       "\n",
       "           numVotes_genres  ProductionBudget  DomesticGross  nLetters  \\\n",
       "tconst                                                                  \n",
       "tt0000038        54.924635               NaN            NaN      13.0   \n",
       "tt0000417        54.924635               NaN            NaN      18.0   \n",
       "tt0001440      5076.682366               NaN            NaN      13.0   \n",
       "tt0001563        54.924635               NaN            NaN      24.0   \n",
       "tt0001889      5076.682366               NaN            NaN      12.0   \n",
       "\n",
       "           nCapitalLetters  nWords  actor  director  other  producer  \\\n",
       "tconst                                                                 \n",
       "tt0000038              3.0     3.0    NaN       NaN    NaN       NaN   \n",
       "tt0000417              3.0     5.0    NaN       NaN    NaN       NaN   \n",
       "tt0001440              2.0     2.0    NaN       NaN    NaN       NaN   \n",
       "tt0001563              4.0     5.0    NaN       NaN    NaN       NaN   \n",
       "tt0001889              1.0     1.0    NaN       NaN    NaN       NaN   \n",
       "\n",
       "           averageRating                   genres  \n",
       "tconst                                             \n",
       "tt0000038            4.2  Documentary,Short,Sport  \n",
       "tt0000417            8.2  Action,Adventure,Comedy  \n",
       "tt0001440            4.8            Drama,History  \n",
       "tt0001563            5.8        Crime,Drama,Short  \n",
       "tt0001889            4.0                     None  "
      ]
     },
     "execution_count": 331,
     "metadata": {},
     "output_type": "execute_result"
    }
   ],
   "source": [
    "data.head()"
   ]
  },
  {
   "cell_type": "markdown",
   "metadata": {},
   "source": [
    "### Exploratory analysis"
   ]
  },
  {
   "cell_type": "code",
   "execution_count": 78,
   "metadata": {},
   "outputs": [],
   "source": [
    "import matplotlib.pyplot as plt\n",
    "import seaborn as sns\n",
    "\n",
    "%matplotlib inline"
   ]
  },
  {
   "cell_type": "code",
   "execution_count": 79,
   "metadata": {},
   "outputs": [
    {
     "name": "stdout",
     "output_type": "stream",
     "text": [
      "<class 'pandas.core.frame.DataFrame'>\n",
      "Index: 277451 entries, tt0000038 to tt9916720\n",
      "Data columns (total 15 columns):\n",
      "averageRating_name      199591 non-null float64\n",
      "numVotes_name           199591 non-null float64\n",
      "averageRating_genres    277451 non-null float64\n",
      "numVotes_genres         277451 non-null float64\n",
      "ProductionBudget        3978 non-null float64\n",
      "DomesticGross           3978 non-null float64\n",
      "nLetters                277451 non-null float64\n",
      "nCapitalLetters         277451 non-null float64\n",
      "nWords                  277451 non-null float64\n",
      "actor                   78590 non-null float64\n",
      "director                53534 non-null float64\n",
      "other                   55131 non-null float64\n",
      "producer                26142 non-null float64\n",
      "averageRating           277451 non-null float64\n",
      "genres                  271751 non-null object\n",
      "dtypes: float64(14), object(1)\n",
      "memory usage: 33.9+ MB\n"
     ]
    }
   ],
   "source": [
    "data.info()"
   ]
  },
  {
   "cell_type": "code",
   "execution_count": 96,
   "metadata": {},
   "outputs": [
    {
     "data": {
      "text/plain": [
       "<seaborn.axisgrid.FacetGrid at 0x1caa4353588>"
      ]
     },
     "execution_count": 96,
     "metadata": {},
     "output_type": "execute_result"
    },
    {
     "data": {
      "image/png": "[encoded data removed]",
      "text/plain": [
       "<Figure size 360x360 with 1 Axes>"
      ]
     },
     "metadata": {
      "needs_background": "light"
     },
     "output_type": "display_data"
    }
   ],
   "source": [
    "sns.catplot(data=data)"
   ]
  },
  {
   "cell_type": "code",
   "execution_count": 334,
   "metadata": {},
   "outputs": [],
   "source": [
    "data[\"genres_first\"] = data.genres.str.split(\",\", expand=True)[0]"
   ]
  },
  {
   "cell_type": "code",
   "execution_count": 81,
   "metadata": {},
   "outputs": [
    {
     "data": {
      "text/plain": [
       "genres_first\n",
       "Drama          0.248934\n",
       "Comedy         0.218039\n",
       "Documentary    0.117394\n",
       "Action         0.097898\n",
       "Horror         0.041290\n",
       "dtype: float64"
      ]
     },
     "execution_count": 81,
     "metadata": {},
     "output_type": "execute_result"
    }
   ],
   "source": [
    "data.groupby(\"genres_first\").size().apply(lambda x: x/data.shape[0]).sort_values(ascending=False).nlargest(5)"
   ]
  },
  {
   "cell_type": "code",
   "execution_count": 144,
   "metadata": {},
   "outputs": [],
   "source": [
    "perimeter = data[data.genres_first.isin([\"Drama\", \"Comedy\", \"Documentary\", \"Action\"])]"
   ]
  },
  {
   "cell_type": "markdown",
   "metadata": {},
   "source": [
    "#### Target"
   ]
  },
  {
   "cell_type": "code",
   "execution_count": 88,
   "metadata": {},
   "outputs": [
    {
     "data": {
      "text/plain": [
       "<seaborn.axisgrid.FacetGrid at 0x1caa4dc3d88>"
      ]
     },
     "execution_count": 88,
     "metadata": {},
     "output_type": "execute_result"
    },
    {
     "data": {
      "image/png": "[encoded data removed]",
      "text/plain": [
       "<Figure size 432x432 with 4 Axes>"
      ]
     },
     "metadata": {
      "needs_background": "light"
     },
     "output_type": "display_data"
    }
   ],
   "source": [
    "g = sns.FacetGrid(perimeter, col=\"genres_first\", col_wrap=2)\n",
    "g.map(sns.distplot, \"averageRating\")"
   ]
  },
  {
   "cell_type": "markdown",
   "metadata": {},
   "source": [
    "#### correlations"
   ]
  },
  {
   "cell_type": "code",
   "execution_count": 93,
   "metadata": {},
   "outputs": [
    {
     "data": {
      "text/plain": [
       "<matplotlib.axes._subplots.AxesSubplot at 0x1caa4912388>"
      ]
     },
     "execution_count": 93,
     "metadata": {},
     "output_type": "execute_result"
    },
    {
     "data": {
      "image/png": "[encoded data removed]",
      "text/plain": [
       "<Figure size 720x576 with 2 Axes>"
      ]
     },
     "metadata": {
      "needs_background": "light"
     },
     "output_type": "display_data"
    }
   ],
   "source": [
    "corr = np.abs(perimeter.corr())\n",
    "\n",
    "fig = plt.figure(figsize=(10, 8))\n",
    "sns.heatmap(corr, cmap=\"coolwarm\")"
   ]
  },
  {
   "cell_type": "markdown",
   "metadata": {},
   "source": [
    "### Features engineering"
   ]
  },
  {
   "cell_type": "markdown",
   "metadata": {},
   "source": [
    "#### discretize"
   ]
  },
  {
   "cell_type": "code",
   "execution_count": 419,
   "metadata": {},
   "outputs": [
    {
     "name": "stderr",
     "output_type": "stream",
     "text": [
      "C:\\ProgramData\\Anaconda3\\lib\\site-packages\\ipykernel_launcher.py:5: SettingWithCopyWarning: \n",
      "A value is trying to be set on a copy of a slice from a DataFrame.\n",
      "Try using .loc[row_indexer,col_indexer] = value instead\n",
      "\n",
      "See the caveats in the documentation: http://pandas.pydata.org/pandas-docs/stable/user_guide/indexing.html#returning-a-view-versus-a-copy\n",
      "  \"\"\"\n"
     ]
    }
   ],
   "source": [
    "perimeter = data[data.genres_first.isin([\"Drama\", \"Comedy\", \"Documentary\", \"Action\"])]\n",
    "\n",
    "for category in [\"actor\", \"director\", \"other\", \"producer\"]:\n",
    "    cut = pd.cut(perimeter[category], 3, labels=False)\n",
    "    perimeter[category] = np.where(perimeter[category].isnull(), -1, cut)"
   ]
  },
  {
   "cell_type": "code",
   "execution_count": 420,
   "metadata": {},
   "outputs": [
    {
     "data": {
      "text/plain": [
       "-1.0    149950\n",
       " 1.0     22483\n",
       " 2.0     15533\n",
       " 0.0      1329\n",
       "Name: director, dtype: int64"
      ]
     },
     "execution_count": 420,
     "metadata": {},
     "output_type": "execute_result"
    }
   ],
   "source": [
    "perimeter.director.value_counts()"
   ]
  },
  {
   "cell_type": "code",
   "execution_count": 421,
   "metadata": {},
   "outputs": [
    {
     "name": "stderr",
     "output_type": "stream",
     "text": [
      "C:\\ProgramData\\Anaconda3\\lib\\site-packages\\ipykernel_launcher.py:11: SettingWithCopyWarning: \n",
      "A value is trying to be set on a copy of a slice from a DataFrame.\n",
      "Try using .loc[row_indexer,col_indexer] = value instead\n",
      "\n",
      "See the caveats in the documentation: http://pandas.pydata.org/pandas-docs/stable/user_guide/indexing.html#returning-a-view-versus-a-copy\n",
      "  # This is added back by InteractiveShellApp.init_path()\n"
     ]
    }
   ],
   "source": [
    "def get_rate_classes(rate):\n",
    "    if rate < 5:\n",
    "        return 0\n",
    "    if rate < 8:\n",
    "        return 1\n",
    "    else:\n",
    "        return 2\n",
    "\n",
    "#perimeter[\"target\"] = (perimeter.averageRating > 8).astype(int)\n",
    "\n",
    "perimeter[\"target\"] = perimeter.averageRating.apply(get_rate_classes)\n",
    "#(data.averageRating >= mean_avg_ratings).astype(int)"
   ]
  },
  {
   "cell_type": "markdown",
   "metadata": {},
   "source": [
    "dropped columns after correlation analysis"
   ]
  },
  {
   "cell_type": "code",
   "execution_count": 422,
   "metadata": {},
   "outputs": [],
   "source": [
    "cols_drop = [\n",
    "    \"numVotes_name\", \n",
    "    \"averageRating\",\n",
    "    \"nLetters\", \n",
    "    \"nCapitalLetters\", \n",
    "    \"averageRating_genres\", \n",
    "    \"numVotes_genres\",\n",
    "    \"genres\",\n",
    "    \"genres_first\",\n",
    "    \"ProductionBudget\",\n",
    "    \"DomesticGross\",\n",
    "    \"averageRating_name\"\n",
    "]"
   ]
  },
  {
   "cell_type": "code",
   "execution_count": 423,
   "metadata": {},
   "outputs": [
    {
     "name": "stdout",
     "output_type": "stream",
     "text": [
      "<class 'pandas.core.frame.DataFrame'>\n",
      "Index: 189295 entries, tt0000038 to tt9916720\n",
      "Data columns (total 6 columns):\n",
      "nWords      189295 non-null float64\n",
      "actor       189295 non-null float64\n",
      "director    189295 non-null float64\n",
      "other       189295 non-null float64\n",
      "producer    189295 non-null float64\n",
      "target      189295 non-null int64\n",
      "dtypes: float64(5), int64(1)\n",
      "memory usage: 10.1+ MB\n"
     ]
    }
   ],
   "source": [
    "perimeter.drop(cols_drop, axis=1).info()"
   ]
  },
  {
   "cell_type": "markdown",
   "metadata": {},
   "source": [
    "### modeling"
   ]
  },
  {
   "cell_type": "code",
   "execution_count": 432,
   "metadata": {},
   "outputs": [],
   "source": [
    "from sklearn.model_selection import train_test_split\n",
    "from sklearn.preprocessing import StandardScaler\n",
    "from sklearn.linear_model import LogisticRegression\n",
    "from sklearn.ensemble import RandomForestClassifier\n",
    "from sklearn.model_selection import GridSearchCV\n",
    "from sklearn.metrics import classification_report"
   ]
  },
  {
   "cell_type": "code",
   "execution_count": 425,
   "metadata": {},
   "outputs": [],
   "source": [
    "perimeter = perimeter.drop(columns=cols_drop, axis=1).dropna()"
   ]
  },
  {
   "cell_type": "code",
   "execution_count": 426,
   "metadata": {},
   "outputs": [],
   "source": [
    "X = perimeter.drop(columns=[\"target\"], axis=1)\n",
    "y = perimeter.target"
   ]
  },
  {
   "cell_type": "code",
   "execution_count": 427,
   "metadata": {},
   "outputs": [],
   "source": [
    "X_train, X_test, y_train, y_test = train_test_split(X, y, test_size=.3, random_state=12345)"
   ]
  },
  {
   "cell_type": "code",
   "execution_count": 452,
   "metadata": {},
   "outputs": [
    {
     "data": {
      "text/plain": [
       "1    94068\n",
       "2    22240\n",
       "0    16198\n",
       "Name: target, dtype: int64"
      ]
     },
     "execution_count": 452,
     "metadata": {},
     "output_type": "execute_result"
    }
   ],
   "source": [
    "y_train.value_counts()"
   ]
  },
  {
   "cell_type": "code",
   "execution_count": 428,
   "metadata": {},
   "outputs": [],
   "source": [
    "scaler = StandardScaler()\n",
    "scaler.fit(X_train)\n",
    "X_train_scaled, X_test_scaled = scaler.transform(X_train), scaler.transform(X_test)"
   ]
  },
  {
   "cell_type": "code",
   "execution_count": 438,
   "metadata": {},
   "outputs": [
    {
     "name": "stderr",
     "output_type": "stream",
     "text": [
      "C:\\ProgramData\\Anaconda3\\lib\\site-packages\\sklearn\\model_selection\\_split.py:1978: FutureWarning: The default value of cv will change from 3 to 5 in version 0.22. Specify it explicitly to silence this warning.\n",
      "  warnings.warn(CV_WARNING, FutureWarning)\n",
      "[Parallel(n_jobs=1)]: Using backend SequentialBackend with 1 concurrent workers.\n"
     ]
    },
    {
     "name": "stdout",
     "output_type": "stream",
     "text": [
      "Fitting 3 folds for each of 6 candidates, totalling 18 fits\n",
      "[CV] max_depth=10, n_estimators=100 ..................................\n",
      "[CV] ................... max_depth=10, n_estimators=100, total=   2.4s\n",
      "[CV] max_depth=10, n_estimators=100 ..................................\n"
     ]
    },
    {
     "name": "stderr",
     "output_type": "stream",
     "text": [
      "[Parallel(n_jobs=1)]: Done   1 out of   1 | elapsed:    2.3s remaining:    0.0s\n"
     ]
    },
    {
     "name": "stdout",
     "output_type": "stream",
     "text": [
      "[CV] ................... max_depth=10, n_estimators=100, total=   2.2s\n",
      "[CV] max_depth=10, n_estimators=100 ..................................\n",
      "[CV] ................... max_depth=10, n_estimators=100, total=   2.2s\n",
      "[CV] max_depth=10, n_estimators=500 ..................................\n",
      "[CV] ................... max_depth=10, n_estimators=500, total=  12.5s\n",
      "[CV] max_depth=10, n_estimators=500 ..................................\n",
      "[CV] ................... max_depth=10, n_estimators=500, total=  12.4s\n",
      "[CV] max_depth=10, n_estimators=500 ..................................\n",
      "[CV] ................... max_depth=10, n_estimators=500, total=  12.2s\n",
      "[CV] max_depth=10, n_estimators=1000 .................................\n",
      "[CV] .................. max_depth=10, n_estimators=1000, total=  24.8s\n",
      "[CV] max_depth=10, n_estimators=1000 .................................\n",
      "[CV] .................. max_depth=10, n_estimators=1000, total=  24.9s\n",
      "[CV] max_depth=10, n_estimators=1000 .................................\n",
      "[CV] .................. max_depth=10, n_estimators=1000, total=  25.0s\n",
      "[CV] max_depth=None, n_estimators=100 ................................\n",
      "[CV] ................. max_depth=None, n_estimators=100, total=   2.9s\n",
      "[CV] max_depth=None, n_estimators=100 ................................\n",
      "[CV] ................. max_depth=None, n_estimators=100, total=   3.0s\n",
      "[CV] max_depth=None, n_estimators=100 ................................\n",
      "[CV] ................. max_depth=None, n_estimators=100, total=   2.9s\n",
      "[CV] max_depth=None, n_estimators=500 ................................\n",
      "[CV] ................. max_depth=None, n_estimators=500, total=  14.3s\n",
      "[CV] max_depth=None, n_estimators=500 ................................\n",
      "[CV] ................. max_depth=None, n_estimators=500, total=  14.2s\n",
      "[CV] max_depth=None, n_estimators=500 ................................\n",
      "[CV] ................. max_depth=None, n_estimators=500, total=  15.2s\n",
      "[CV] max_depth=None, n_estimators=1000 ...............................\n",
      "[CV] ................ max_depth=None, n_estimators=1000, total=  27.9s\n",
      "[CV] max_depth=None, n_estimators=1000 ...............................\n",
      "[CV] ................ max_depth=None, n_estimators=1000, total=  29.3s\n",
      "[CV] max_depth=None, n_estimators=1000 ...............................\n",
      "[CV] ................ max_depth=None, n_estimators=1000, total=  29.4s\n"
     ]
    },
    {
     "name": "stderr",
     "output_type": "stream",
     "text": [
      "[Parallel(n_jobs=1)]: Done  18 out of  18 | elapsed:  4.3min finished\n"
     ]
    },
    {
     "data": {
      "text/plain": [
       "GridSearchCV(cv='warn', error_score='raise-deprecating',\n",
       "             estimator=RandomForestClassifier(bootstrap=True, class_weight=None,\n",
       "                                              criterion='gini', max_depth=None,\n",
       "                                              max_features='auto',\n",
       "                                              max_leaf_nodes=None,\n",
       "                                              min_impurity_decrease=0.0,\n",
       "                                              min_impurity_split=None,\n",
       "                                              min_samples_leaf=1,\n",
       "                                              min_samples_split=2,\n",
       "                                              min_weight_fraction_leaf=0.0,\n",
       "                                              n_estimators='warn', n_jobs=None,\n",
       "                                              oob_score=False,\n",
       "                                              random_state=None, verbose=0,\n",
       "                                              warm_start=False),\n",
       "             iid='warn', n_jobs=None,\n",
       "             param_grid={'max_depth': [10, None],\n",
       "                         'n_estimators': [100, 500, 1000]},\n",
       "             pre_dispatch='2*n_jobs', refit=True, return_train_score=False,\n",
       "             scoring=None, verbose=2)"
      ]
     },
     "execution_count": 438,
     "metadata": {},
     "output_type": "execute_result"
    }
   ],
   "source": [
    "clf = RandomForestClassifier()\n",
    "param_grid = {\n",
    "    'max_depth': [10, None],\n",
    "    'n_estimators': [100, 500, 1000]\n",
    "}\n",
    "\n",
    "grid = GridSearchCV(estimator=clf, param_grid=param_grid, verbose=2)\n",
    "\n",
    "grid.fit(X_train_scaled, y_train)"
   ]
  },
  {
   "cell_type": "code",
   "execution_count": 444,
   "metadata": {},
   "outputs": [],
   "source": [
    "y_pred = grid.predict(X_test_scaled)"
   ]
  },
  {
   "cell_type": "code",
   "execution_count": 453,
   "metadata": {},
   "outputs": [
    {
     "name": "stdout",
     "output_type": "stream",
     "text": [
      "              precision    recall  f1-score   support\n",
      "\n",
      "           0       0.67      0.02      0.04     16198\n",
      "           1       0.71      1.00      0.83     94068\n",
      "           2       0.82      0.00      0.01     22240\n",
      "\n",
      "    accuracy                           0.71    132506\n",
      "   macro avg       0.73      0.34      0.29    132506\n",
      "weighted avg       0.73      0.71      0.60    132506\n",
      "\n"
     ]
    }
   ],
   "source": [
    "print(classification_report(y_train, grid.predict(X_train_scaled)))"
   ]
  },
  {
   "cell_type": "code",
   "execution_count": 296,
   "metadata": {},
   "outputs": [],
   "source": [
    "contributions = dict(zip(X.columns.tolist(), np.abs((np.std(X_train_scaled, 0) * clf.coef_)[0])))"
   ]
  },
  {
   "cell_type": "code",
   "execution_count": 297,
   "metadata": {},
   "outputs": [
    {
     "data": {
      "text/html": [
       "<div>\n",
       "<style scoped>\n",
       "    .dataframe tbody tr th:only-of-type {\n",
       "        vertical-align: middle;\n",
       "    }\n",
       "\n",
       "    .dataframe tbody tr th {\n",
       "        vertical-align: top;\n",
       "    }\n",
       "\n",
       "    .dataframe thead th {\n",
       "        text-align: right;\n",
       "    }\n",
       "</style>\n",
       "<table border=\"1\" class=\"dataframe\">\n",
       "  <thead>\n",
       "    <tr style=\"text-align: right;\">\n",
       "      <th></th>\n",
       "      <th>0</th>\n",
       "    </tr>\n",
       "  </thead>\n",
       "  <tbody>\n",
       "    <tr>\n",
       "      <td>nWords</td>\n",
       "      <td>0.214649</td>\n",
       "    </tr>\n",
       "    <tr>\n",
       "      <td>actor</td>\n",
       "      <td>0.149491</td>\n",
       "    </tr>\n",
       "    <tr>\n",
       "      <td>director</td>\n",
       "      <td>0.149491</td>\n",
       "    </tr>\n",
       "    <tr>\n",
       "      <td>other</td>\n",
       "      <td>0.149491</td>\n",
       "    </tr>\n",
       "    <tr>\n",
       "      <td>producer</td>\n",
       "      <td>0.149491</td>\n",
       "    </tr>\n",
       "  </tbody>\n",
       "</table>\n",
       "</div>"
      ],
      "text/plain": [
       "                 0\n",
       "nWords    0.214649\n",
       "actor     0.149491\n",
       "director  0.149491\n",
       "other     0.149491\n",
       "producer  0.149491"
      ]
     },
     "execution_count": 297,
     "metadata": {},
     "output_type": "execute_result"
    }
   ],
   "source": [
    "pd.DataFrame.from_dict(contributions, orient=\"index\").sort_values(by=0, ascending=False)"
   ]
  },
  {
   "cell_type": "code",
   "execution_count": null,
   "metadata": {},
   "outputs": [],
   "source": []
  }
 ],
 "metadata": {
  "kernelspec": {
   "display_name": "Python 3",
   "language": "python",
   "name": "python3"
  },
  "language_info": {
   "codemirror_mode": {
    "name": "ipython",
    "version": 3
   },
   "file_extension": ".py",
   "mimetype": "text/x-python",
   "name": "python",
   "nbconvert_exporter": "python",
   "pygments_lexer": "ipython3",
   "version": "3.7.4"
  }
 },
 "nbformat": 4,
 "nbformat_minor": 2
}
