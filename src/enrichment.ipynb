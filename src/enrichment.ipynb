{
 "cells": [
  {
   "cell_type": "code",
   "execution_count": 12,
   "metadata": {},
   "outputs": [],
   "source": [
    "from bs4 import BeautifulSoup\n",
    "from urllib.request import urlopen, Request\n",
    "import pandas as pd\n",
    "import datetime\n",
    "import os\n",
    "import pyarrow"
   ]
  },
  {
   "cell_type": "code",
   "execution_count": 22,
   "metadata": {},
   "outputs": [
    {
     "name": "stdout",
     "output_type": "stream",
     "text": [
      "day=20191009\n"
     ]
    }
   ],
   "source": [
    "dir_raw_data = \"../data/raw_data\"\n",
    "dir_raw_data_movie_budget = \"../data/raw_data/movie_budget\"\n",
    "dir_parsed_data = \"../data/parsed_data\"\n",
    "\n",
    "t = datetime.date.today()\n",
    "path_date = \"day={}\".format(datetime.datetime.strftime(t, \"%Y%m%d\"))\n",
    "path_date = \"day=20191009\"\n",
    "print(path_date)\n",
    "\n",
    "url = \"https://www.the-numbers.com/movie/budgets/all\""
   ]
  },
  {
   "cell_type": "code",
   "execution_count": 23,
   "metadata": {},
   "outputs": [],
   "source": [
    "def request_data(page, url=url, save=True):\n",
    "    headers = {\n",
    "        \"User-Agent\": \"Mozilla/5.0 (Windows NT 6.1) AppleWebKit/537.36 (KHTML, like Gecko) Chrome/41.0.2228.0 Safari/537.3\"\n",
    "    }\n",
    "    \n",
    "    if page > 1:\n",
    "        url += \"/{}\".format(str(page))\n",
    "    \n",
    "    req = Request(url, headers=headers)\n",
    "    html = urlopen(req).read()\n",
    "    \n",
    "    df = pd.read_html(html, header=0, index_col=0)[0]\n",
    "    if save:\n",
    "        file_name = \"movie_budget_{}\".format(str(page))\n",
    "        path_out = os.path.join(dir_raw_data_movie_budget, path_date, file_name)\n",
    "        df.to_parquet(path_out, compression=\"snappy\", engine=\"pyarrow\")\n",
    "    \n",
    "    return df"
   ]
  },
  {
   "cell_type": "code",
   "execution_count": 24,
   "metadata": {},
   "outputs": [],
   "source": [
    "page_start = 101\n",
    "step = 100"
   ]
  },
  {
   "cell_type": "code",
   "execution_count": 25,
   "metadata": {},
   "outputs": [
    {
     "name": "stdout",
     "output_type": "stream",
     "text": [
      "5901\n"
     ]
    }
   ],
   "source": [
    "data = request_data(1)\n",
    "data_all = data\n",
    "page = page_start\n",
    "while data.shape[0] != 0:\n",
    "    data = request_data(page)\n",
    "    data_all = pd.concat([data_all, data])\n",
    "    page += step\n",
    "print(page-step)"
   ]
  },
  {
   "cell_type": "code",
   "execution_count": 44,
   "metadata": {},
   "outputs": [],
   "source": [
    "def rename_col(c):\n",
    "    return c.replace(\" \", \"_\")\n",
    "\n",
    "def parse_amount(df, cols=[\"ProductionBudget\", \"DomesticGross\", \"WorldwideGross\"]):\n",
    "    for c in cols:\n",
    "        df[c] = df[c].replace(\"[\\$,\\W]\", \"\", regex=True).astype(float)\n",
    "    return df\n",
    "\n",
    "def parse_date(df, cols=[\"ReleaseDate\"], renaming=True):\n",
    "    df_out = df.copy()\n",
    "    def parser(c):\n",
    "        try:\n",
    "            return datetime.datetime.strptime(c, \"%b %d, %Y\")\n",
    "        except:\n",
    "            return None\n",
    "        \n",
    "    for c in cols:\n",
    "        df[c] = df[c].apply(lambda x: parser(x))\n",
    "    return df\n",
    "\n",
    "def get_movies_budget(df_budget):\n",
    "    df = df_budget.copy()\n",
    "    \n",
    "    df = parse_amount(df)\n",
    "    df = parse_date(df)\n",
    "    \n",
    "    d_renaming = {c: rename_col(c) for c in df.columns.tolist()}\n",
    "    df_out = df.rename(columns=d_renaming)\n",
    "    return df_out"
   ]
  },
  {
   "cell_type": "code",
   "execution_count": 45,
   "metadata": {},
   "outputs": [],
   "source": [
    "path_movie_budget = os.path.join(dir_parsed_data, \"movie_budget\")"
   ]
  },
  {
   "cell_type": "code",
   "execution_count": 46,
   "metadata": {},
   "outputs": [
    {
     "data": {
      "text/html": [
       "<div>\n",
       "<style scoped>\n",
       "    .dataframe tbody tr th:only-of-type {\n",
       "        vertical-align: middle;\n",
       "    }\n",
       "\n",
       "    .dataframe tbody tr th {\n",
       "        vertical-align: top;\n",
       "    }\n",
       "\n",
       "    .dataframe thead th {\n",
       "        text-align: right;\n",
       "    }\n",
       "</style>\n",
       "<table border=\"1\" class=\"dataframe\">\n",
       "  <thead>\n",
       "    <tr style=\"text-align: right;\">\n",
       "      <th></th>\n",
       "      <th>ReleaseDate</th>\n",
       "      <th>Movie</th>\n",
       "      <th>ProductionBudget</th>\n",
       "      <th>DomesticGross</th>\n",
       "      <th>WorldwideGross</th>\n",
       "    </tr>\n",
       "  </thead>\n",
       "  <tbody>\n",
       "    <tr>\n",
       "      <th>1</th>\n",
       "      <td>Dec 17, 2009</td>\n",
       "      <td>Avatar</td>\n",
       "      <td>$425,000,000</td>\n",
       "      <td>$760,507,625</td>\n",
       "      <td>$2,789,705,275</td>\n",
       "    </tr>\n",
       "    <tr>\n",
       "      <th>2</th>\n",
       "      <td>May 20, 2011</td>\n",
       "      <td>Pirates of the Caribbean: On Stranger Tides</td>\n",
       "      <td>$410,600,000</td>\n",
       "      <td>$241,063,875</td>\n",
       "      <td>$1,045,663,875</td>\n",
       "    </tr>\n",
       "    <tr>\n",
       "      <th>3</th>\n",
       "      <td>Apr 23, 2019</td>\n",
       "      <td>Avengers: Endgame</td>\n",
       "      <td>$400,000,000</td>\n",
       "      <td>$858,373,000</td>\n",
       "      <td>$2,795,473,000</td>\n",
       "    </tr>\n",
       "    <tr>\n",
       "      <th>4</th>\n",
       "      <td>Apr 22, 2015</td>\n",
       "      <td>Avengers: Age of Ultron</td>\n",
       "      <td>$330,600,000</td>\n",
       "      <td>$459,005,868</td>\n",
       "      <td>$1,403,013,963</td>\n",
       "    </tr>\n",
       "    <tr>\n",
       "      <th>5</th>\n",
       "      <td>Dec 13, 2017</td>\n",
       "      <td>Star Wars Ep. VIII: The Last Jedi</td>\n",
       "      <td>$317,000,000</td>\n",
       "      <td>$620,181,382</td>\n",
       "      <td>$1,316,721,747</td>\n",
       "    </tr>\n",
       "  </tbody>\n",
       "</table>\n",
       "</div>"
      ],
      "text/plain": [
       "    ReleaseDate                                        Movie ProductionBudget  \\\n",
       "1  Dec 17, 2009                                       Avatar     $425,000,000   \n",
       "2  May 20, 2011  Pirates of the Caribbean: On Stranger Tides     $410,600,000   \n",
       "3  Apr 23, 2019                            Avengers: Endgame     $400,000,000   \n",
       "4  Apr 22, 2015                      Avengers: Age of Ultron     $330,600,000   \n",
       "5  Dec 13, 2017            Star Wars Ep. VIII: The Last Jedi     $317,000,000   \n",
       "\n",
       "  DomesticGross  WorldwideGross  \n",
       "1  $760,507,625  $2,789,705,275  \n",
       "2  $241,063,875  $1,045,663,875  \n",
       "3  $858,373,000  $2,795,473,000  \n",
       "4  $459,005,868  $1,403,013,963  \n",
       "5  $620,181,382  $1,316,721,747  "
      ]
     },
     "execution_count": 46,
     "metadata": {},
     "output_type": "execute_result"
    }
   ],
   "source": [
    "data_all.head()"
   ]
  },
  {
   "cell_type": "code",
   "execution_count": 47,
   "metadata": {},
   "outputs": [],
   "source": [
    "movie_budget = get_movies_budget(data_all)"
   ]
  },
  {
   "cell_type": "code",
   "execution_count": 48,
   "metadata": {},
   "outputs": [
    {
     "name": "stdout",
     "output_type": "stream",
     "text": [
      "<class 'pandas.core.frame.DataFrame'>\n",
      "Int64Index: 5850 entries, 1 to 5850\n",
      "Data columns (total 5 columns):\n",
      "ReleaseDate         5682 non-null datetime64[ns]\n",
      "Movie               5850 non-null object\n",
      "ProductionBudget    5850 non-null float64\n",
      "DomesticGross       5850 non-null float64\n",
      "WorldwideGross      5850 non-null float64\n",
      "dtypes: datetime64[ns](1), float64(3), object(1)\n",
      "memory usage: 274.2+ KB\n"
     ]
    }
   ],
   "source": [
    "movie_budget.info()"
   ]
  },
  {
   "cell_type": "code",
   "execution_count": 49,
   "metadata": {},
   "outputs": [],
   "source": [
    "movie_budget.to_parquet(os.path.join(dir_parsed_data, \"movie_budget\"))"
   ]
  },
  {
   "cell_type": "code",
   "execution_count": 50,
   "metadata": {},
   "outputs": [],
   "source": [
    "data = pd.read_parquet(os.path.join(dir_parsed_data, \"movie_budget\"))"
   ]
  },
  {
   "cell_type": "code",
   "execution_count": 51,
   "metadata": {},
   "outputs": [
    {
     "name": "stdout",
     "output_type": "stream",
     "text": [
      "<class 'pandas.core.frame.DataFrame'>\n",
      "Int64Index: 5850 entries, 1 to 5850\n",
      "Data columns (total 5 columns):\n",
      "ReleaseDate         5682 non-null datetime64[ns]\n",
      "Movie               5850 non-null object\n",
      "ProductionBudget    5850 non-null float64\n",
      "DomesticGross       5850 non-null float64\n",
      "WorldwideGross      5850 non-null float64\n",
      "dtypes: datetime64[ns](1), float64(3), object(1)\n",
      "memory usage: 274.2+ KB\n"
     ]
    }
   ],
   "source": [
    "data.info()"
   ]
  },
  {
   "cell_type": "code",
   "execution_count": 52,
   "metadata": {},
   "outputs": [
    {
     "data": {
      "text/html": [
       "<div>\n",
       "<style scoped>\n",
       "    .dataframe tbody tr th:only-of-type {\n",
       "        vertical-align: middle;\n",
       "    }\n",
       "\n",
       "    .dataframe tbody tr th {\n",
       "        vertical-align: top;\n",
       "    }\n",
       "\n",
       "    .dataframe thead th {\n",
       "        text-align: right;\n",
       "    }\n",
       "</style>\n",
       "<table border=\"1\" class=\"dataframe\">\n",
       "  <thead>\n",
       "    <tr style=\"text-align: right;\">\n",
       "      <th></th>\n",
       "      <th>ReleaseDate</th>\n",
       "      <th>Movie</th>\n",
       "      <th>ProductionBudget</th>\n",
       "      <th>DomesticGross</th>\n",
       "      <th>WorldwideGross</th>\n",
       "    </tr>\n",
       "  </thead>\n",
       "  <tbody>\n",
       "    <tr>\n",
       "      <th>1</th>\n",
       "      <td>2009-12-17</td>\n",
       "      <td>Avatar</td>\n",
       "      <td>425000000.0</td>\n",
       "      <td>760507625.0</td>\n",
       "      <td>2.789705e+09</td>\n",
       "    </tr>\n",
       "    <tr>\n",
       "      <th>2</th>\n",
       "      <td>2011-05-20</td>\n",
       "      <td>Pirates of the Caribbean: On Stranger Tides</td>\n",
       "      <td>410600000.0</td>\n",
       "      <td>241063875.0</td>\n",
       "      <td>1.045664e+09</td>\n",
       "    </tr>\n",
       "    <tr>\n",
       "      <th>3</th>\n",
       "      <td>2019-04-23</td>\n",
       "      <td>Avengers: Endgame</td>\n",
       "      <td>400000000.0</td>\n",
       "      <td>858373000.0</td>\n",
       "      <td>2.795473e+09</td>\n",
       "    </tr>\n",
       "    <tr>\n",
       "      <th>4</th>\n",
       "      <td>2015-04-22</td>\n",
       "      <td>Avengers: Age of Ultron</td>\n",
       "      <td>330600000.0</td>\n",
       "      <td>459005868.0</td>\n",
       "      <td>1.403014e+09</td>\n",
       "    </tr>\n",
       "    <tr>\n",
       "      <th>5</th>\n",
       "      <td>2017-12-13</td>\n",
       "      <td>Star Wars Ep. VIII: The Last Jedi</td>\n",
       "      <td>317000000.0</td>\n",
       "      <td>620181382.0</td>\n",
       "      <td>1.316722e+09</td>\n",
       "    </tr>\n",
       "  </tbody>\n",
       "</table>\n",
       "</div>"
      ],
      "text/plain": [
       "  ReleaseDate                                        Movie  ProductionBudget  \\\n",
       "1  2009-12-17                                       Avatar       425000000.0   \n",
       "2  2011-05-20  Pirates of the Caribbean: On Stranger Tides       410600000.0   \n",
       "3  2019-04-23                            Avengers: Endgame       400000000.0   \n",
       "4  2015-04-22                      Avengers: Age of Ultron       330600000.0   \n",
       "5  2017-12-13            Star Wars Ep. VIII: The Last Jedi       317000000.0   \n",
       "\n",
       "   DomesticGross  WorldwideGross  \n",
       "1    760507625.0    2.789705e+09  \n",
       "2    241063875.0    1.045664e+09  \n",
       "3    858373000.0    2.795473e+09  \n",
       "4    459005868.0    1.403014e+09  \n",
       "5    620181382.0    1.316722e+09  "
      ]
     },
     "execution_count": 52,
     "metadata": {},
     "output_type": "execute_result"
    }
   ],
   "source": [
    "data.head()"
   ]
  },
  {
   "cell_type": "code",
   "execution_count": null,
   "metadata": {},
   "outputs": [],
   "source": []
  }
 ],
 "metadata": {
  "kernelspec": {
   "display_name": "Python 3",
   "language": "python",
   "name": "python3"
  },
  "language_info": {
   "codemirror_mode": {
    "name": "ipython",
    "version": 3
   },
   "file_extension": ".py",
   "mimetype": "text/x-python",
   "name": "python",
   "nbconvert_exporter": "python",
   "pygments_lexer": "ipython3",
   "version": "3.6.4"
  }
 },
 "nbformat": 4,
 "nbformat_minor": 2
}
